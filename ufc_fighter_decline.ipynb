{
 "cells": [
  {
   "cell_type": "code",
   "execution_count": 224,
   "id": "28c043e9",
   "metadata": {},
   "outputs": [],
   "source": [
    "import numpy as np\n",
    "import pandas as pd\n",
    "import datetime as dt"
   ]
  },
  {
   "cell_type": "code",
   "execution_count": 82,
   "id": "42a68f99",
   "metadata": {},
   "outputs": [
    {
     "name": "stderr",
     "output_type": "stream",
     "text": [
      "/var/folders/kb/xz2_dkt914d1mkb8_lsxl6_w0000gn/T/ipykernel_19615/3936369208.py:2: DeprecationWarning: executable_path has been deprecated, please pass in a Service object\n",
      "  driver = webdriver.Chrome('/Users/mcmlxviii/Documents/NYCDS Academy/PROJECT_1/chromedriver')\n"
     ]
    }
   ],
   "source": [
    "from selenium import webdriver\n"
   ]
  },
  {
   "cell_type": "code",
   "execution_count": 234,
   "id": "32890bc8",
   "metadata": {},
   "outputs": [
    {
     "name": "stderr",
     "output_type": "stream",
     "text": [
      "/var/folders/kb/xz2_dkt914d1mkb8_lsxl6_w0000gn/T/ipykernel_19615/206136163.py:3: DeprecationWarning: executable_path has been deprecated, please pass in a Service object\n",
      "  driver = webdriver.Chrome('/Users/mcmlxviii/Documents/NYCDS Academy/PROJECT_1/chromedriver')\n",
      "/var/folders/kb/xz2_dkt914d1mkb8_lsxl6_w0000gn/T/ipykernel_19615/206136163.py:11: DeprecationWarning: find_elements_by_* commands are deprecated. Please use find_elements() instead\n",
      "  records = driver.find_elements_by_xpath(\"//div[@class='result']\")\n"
     ]
    },
    {
     "name": "stdout",
     "output_type": "stream",
     "text": [
      "[['Loss · Decision · Unanimous', datetime.datetime(2020, 8, 15, 0, 0)], ['Loss · Punches · 4:09 · R4', datetime.datetime(2019, 8, 17, 0, 0)], ['Win · Rear Naked Choke · 2:14 · R2', datetime.datetime(2018, 11, 3, 0, 0)], ['Win · Punches · 4:33 · R1', datetime.datetime(2018, 7, 7, 0, 0)], ['Win · Ground & Pound · 2:00 · R2', datetime.datetime(2018, 1, 20, 0, 0)], ['Win · Rear Naked Choke · 3:37 · R2', datetime.datetime(2017, 4, 8, 0, 0)], ['Win · Decision · Unanimous', datetime.datetime(2016, 7, 9, 0, 0)], ['Win · Decision · Split', datetime.datetime(2015, 10, 3, 0, 0)], ['Win · Rear Naked Choke · 2:39 · R3', datetime.datetime(2015, 5, 23, 0, 0)], ['Loss · Decision · Unanimous', datetime.datetime(2015, 1, 3, 0, 0)], ['Win · Rear Naked Choke · 3:53 · R3', datetime.datetime(2014, 5, 24, 0, 0)], ['Win · Punches · 1:19 · R1', datetime.datetime(2014, 2, 22, 0, 0)], ['Win · Decision · Unanimous', datetime.datetime(2013, 10, 19, 0, 0)], ['Win · Decision · Unanimous', datetime.datetime(2013, 4, 20, 0, 0)], ['Win · Punches · 4:02 · R2', datetime.datetime(2013, 1, 12, 0, 0)], ['Win · Decision · Unanimous', datetime.datetime(2012, 5, 19, 0, 0)], ['Win · Punches · 3:56 · R1', datetime.datetime(2011, 9, 10, 0, 0)], ['Win · Decision · Unanimous', datetime.datetime(2011, 6, 18, 0, 0)], ['Win · Decision · Unanimous', datetime.datetime(2011, 1, 7, 0, 0)], ['Win', datetime.datetime(2010, 11, 5, 0, 0)], ['Win · Punches · 1:02 · R1', datetime.datetime(2010, 8, 21, 0, 0)], ['Win · Rear Naked Choke · 2:27 · R1', datetime.datetime(2010, 8, 13, 0, 0)], ['Win', datetime.datetime(2010, 7, 31, 0, 0)], ['Win · Punch · 1:09 · R1', datetime.datetime(2010, 3, 27, 0, 0)], ['Win · Punches · 3:39 · R2', datetime.datetime(2009, 9, 25, 0, 0)], ['Loss', datetime.datetime(2004, 8, 29, 0, 0)], ['Loss', datetime.datetime(2004, 8, 29, 0, 0)], ['Win', datetime.datetime(2004, 8, 29, 0, 0)], ['Win', datetime.datetime(2004, 8, 29, 0, 0)]]\n"
     ]
    },
    {
     "data": {
      "text/plain": [
       "[['Loss · Decision · Unanimous', datetime.datetime(2020, 8, 15, 0, 0)],\n",
       " ['Loss · Punches · 4:09 · R4', datetime.datetime(2019, 8, 17, 0, 0)],\n",
       " ['Win · Rear Naked Choke · 2:14 · R2', datetime.datetime(2018, 11, 3, 0, 0)],\n",
       " ['Win · Punches · 4:33 · R1', datetime.datetime(2018, 7, 7, 0, 0)],\n",
       " ['Win · Ground & Pound · 2:00 · R2', datetime.datetime(2018, 1, 20, 0, 0)],\n",
       " ['Win · Rear Naked Choke · 3:37 · R2', datetime.datetime(2017, 4, 8, 0, 0)],\n",
       " ['Win · Decision · Unanimous', datetime.datetime(2016, 7, 9, 0, 0)],\n",
       " ['Win · Decision · Split', datetime.datetime(2015, 10, 3, 0, 0)],\n",
       " ['Win · Rear Naked Choke · 2:39 · R3', datetime.datetime(2015, 5, 23, 0, 0)],\n",
       " ['Loss · Decision · Unanimous', datetime.datetime(2015, 1, 3, 0, 0)],\n",
       " ['Win · Rear Naked Choke · 3:53 · R3', datetime.datetime(2014, 5, 24, 0, 0)],\n",
       " ['Win · Punches · 1:19 · R1', datetime.datetime(2014, 2, 22, 0, 0)],\n",
       " ['Win · Decision · Unanimous', datetime.datetime(2013, 10, 19, 0, 0)],\n",
       " ['Win · Decision · Unanimous', datetime.datetime(2013, 4, 20, 0, 0)],\n",
       " ['Win · Punches · 4:02 · R2', datetime.datetime(2013, 1, 12, 0, 0)],\n",
       " ['Win · Decision · Unanimous', datetime.datetime(2012, 5, 19, 0, 0)],\n",
       " ['Win · Punches · 3:56 · R1', datetime.datetime(2011, 9, 10, 0, 0)],\n",
       " ['Win · Decision · Unanimous', datetime.datetime(2011, 6, 18, 0, 0)],\n",
       " ['Win · Decision · Unanimous', datetime.datetime(2011, 1, 7, 0, 0)],\n",
       " ['Win', datetime.datetime(2010, 11, 5, 0, 0)],\n",
       " ['Win · Punches · 1:02 · R1', datetime.datetime(2010, 8, 21, 0, 0)],\n",
       " ['Win · Rear Naked Choke · 2:27 · R1', datetime.datetime(2010, 8, 13, 0, 0)],\n",
       " ['Win', datetime.datetime(2010, 7, 31, 0, 0)],\n",
       " ['Win · Punch · 1:09 · R1', datetime.datetime(2010, 3, 27, 0, 0)],\n",
       " ['Win · Punches · 3:39 · R2', datetime.datetime(2009, 9, 25, 0, 0)],\n",
       " ['Loss', datetime.datetime(2004, 8, 29, 0, 0)],\n",
       " ['Loss', datetime.datetime(2004, 8, 29, 0, 0)],\n",
       " ['Win', datetime.datetime(2004, 8, 29, 0, 0)],\n",
       " ['Win', datetime.datetime(2004, 8, 29, 0, 0)]]"
      ]
     },
     "execution_count": 234,
     "metadata": {},
     "output_type": "execute_result"
    }
   ],
   "source": [
    "# MAKE THE PAGE AS BIG AS POSSIBLE\n",
    "def fighter_page(f_url):\n",
    "    driver = webdriver.Chrome('/Users/mcmlxviii/Documents/NYCDS Academy/PROJECT_1/chromedriver')\n",
    "    #driver.get('https://www.tapology.com/fightcenter/fighters/daniel-cormier')\n",
    "    driver.get(f_url)\n",
    "\n",
    "    driver.fullscreen_window()\n",
    "\n",
    "    driver.implicitly_wait(2)\n",
    "\n",
    "    records = driver.find_elements_by_xpath(\"//div[@class='result']\")\n",
    "    g_recs = []\n",
    "    for items in records:\n",
    "        outcome = items.find_element_by_xpath('.//div[@class=\"summary\"]').text.split('\\n')[0]\n",
    "        tdate = items.find_element_by_xpath('.//div[@class=\"date\"]').text\n",
    "        tdate = dt.datetime.strptime(tdate, '%Y.%m.%d')\n",
    "\n",
    "        # BYPASS CANCELED AND UPCOMING BOUTS\n",
    "        if (outcome.lower().count('cancel') > 0) | (outcome.lower().count('no contest')) |\\\n",
    "            (outcome.lower().count('confirmed upcoming')):\n",
    "            continue\n",
    "        g_recs.append([outcome, tdate])\n",
    "    #fight_record = [rec.text for rec in records]\n",
    "    fight_record = g_recs\n",
    "    print(g_recs)\n",
    "    # DO A WAIT AND MIMIC HUMAN(RAND?)\n",
    "\n",
    "    #fight_record = [i.split('\\n') for i in fight_record]\n",
    "    \n",
    "    #print(fight_record)\n",
    "    return fight_record\n",
    "fighter_page('https://www.tapology.com/fightcenter/fighters/daniel-cormier')"
   ]
  },
  {
   "cell_type": "code",
   "execution_count": 145,
   "id": "4e1433a2",
   "metadata": {},
   "outputs": [
    {
     "name": "stderr",
     "output_type": "stream",
     "text": [
      "/var/folders/kb/xz2_dkt914d1mkb8_lsxl6_w0000gn/T/ipykernel_19615/3141434826.py:3: DeprecationWarning: executable_path has been deprecated, please pass in a Service object\n",
      "  driver = webdriver.Chrome('/Users/mcmlxviii/Documents/NYCDS Academy/PROJECT_1/chromedriver')\n",
      "/var/folders/kb/xz2_dkt914d1mkb8_lsxl6_w0000gn/T/ipykernel_19615/3141434826.py:11: DeprecationWarning: find_elements_by_* commands are deprecated. Please use find_elements() instead\n",
      "  records = driver.find_elements_by_xpath(\"//div[@class='result']\")\n"
     ]
    }
   ],
   "source": [
    "fighter = fighter_page('https://www.tapology.com/fightcenter/fighters/daniel-cormier')"
   ]
  },
  {
   "cell_type": "code",
   "execution_count": 147,
   "id": "e4e976c5",
   "metadata": {},
   "outputs": [
    {
     "data": {
      "text/plain": [
       "[['Stipe Miocic',\n",
       "  '22-2-0',\n",
       "  '19-3-0',\n",
       "  'Loss · Decision · Unanimous',\n",
       "  'UFC 252: Miocic vs. Cormier 3',\n",
       "  '2020.08.15',\n",
       "  'add_circle'],\n",
       " ['Stipe Miocic',\n",
       "  '22-1-0',\n",
       "  '18-3-0',\n",
       "  'Loss · Punches · 4:09 · R4',\n",
       "  'UFC 241: Cormier vs. Miocic 2',\n",
       "  '2019.08.17',\n",
       "  'add_circle'],\n",
       " ['Derrick Lewis',\n",
       "  '21-1-0',\n",
       "  '21-5-0',\n",
       "  'Win · Rear Naked Choke · 2:14 · R2',\n",
       "  'UFC 230: Cormier vs. Lewis',\n",
       "  '2018.11.03',\n",
       "  'add_circle'],\n",
       " ['Stipe Miocic',\n",
       "  '20-1-0',\n",
       "  '18-2-0',\n",
       "  'Win · Punches · 4:33 · R1',\n",
       "  'UFC 226: Miocic vs. Cormier',\n",
       "  '2018.07.07',\n",
       "  'add_circle'],\n",
       " ['Volkan Oezdemir',\n",
       "  '19-1-0',\n",
       "  '15-1-0',\n",
       "  'Win · Ground & Pound · 2:00 · R2',\n",
       "  \"UFC 220: Miocic vs. N'Gannou\",\n",
       "  '2018.01.20',\n",
       "  'add_circle'],\n",
       " ['Jon Jones',\n",
       "  '19-1-0',\n",
       "  '22-1-0',\n",
       "  'No Contest · Head Kick & Punches · 3:01 · R3',\n",
       "  'UFC 214: Cormier vs. Jones 2',\n",
       "  '2017.07.29',\n",
       "  'add_circle'],\n",
       " ['Anthony Johnson',\n",
       "  '18-1-0',\n",
       "  '22-5-0',\n",
       "  'Win · Rear Naked Choke · 3:37 · R2',\n",
       "  'UFC 210: Cormier vs. Johnson 2',\n",
       "  '2017.04.08',\n",
       "  'add_circle'],\n",
       " ['Anthony Johnson', 'Cancelled Bout', '2016.12.10', 'add_circle'],\n",
       " ['Jon Jones', 'Cancelled Bout', '2016.07.09', 'add_circle'],\n",
       " ['Anderson Silva',\n",
       "  '17-1-0',\n",
       "  '33-7-0',\n",
       "  'Win · Decision · Unanimous',\n",
       "  'UFC 200: Tate vs. Nunes',\n",
       "  '2016.07.09',\n",
       "  'add_circle'],\n",
       " ['Jon Jones', 'Cancelled Bout', '2016.04.23', 'add_circle'],\n",
       " ['Alexander Gustafsson',\n",
       "  '16-1-0',\n",
       "  '16-3-0',\n",
       "  'Win · Decision · Split',\n",
       "  'UFC 192: Cormier vs. Gustafsson',\n",
       "  '2015.10.03',\n",
       "  'add_circle'],\n",
       " ['Ryan Bader', 'Cancelled Bout', '2015.06.06', 'add_circle'],\n",
       " ['Anthony Johnson',\n",
       "  '15-1-0',\n",
       "  '19-4-0',\n",
       "  'Win · Rear Naked Choke · 2:39 · R3',\n",
       "  'UFC 187: Johnson vs. Cormier',\n",
       "  '2015.05.23',\n",
       "  'add_circle'],\n",
       " ['Jon Jones',\n",
       "  '15-0-0',\n",
       "  '20-1-0',\n",
       "  'Loss · Decision · Unanimous',\n",
       "  'UFC 182: Jones vs. Cormier',\n",
       "  '2015.01.03',\n",
       "  'add_circle'],\n",
       " ['Jon Jones', 'Cancelled Bout', '2014.09.27', 'add_circle'],\n",
       " ['Dan Henderson',\n",
       "  '14-0-0',\n",
       "  '30-11-0',\n",
       "  'Win · Rear Naked Choke · 3:53 · R3',\n",
       "  'UFC 173: Barao vs. Dillashaw',\n",
       "  '2014.05.24',\n",
       "  'add_circle'],\n",
       " ['Patrick Cummins',\n",
       "  '13-0-0',\n",
       "  '4-0-0',\n",
       "  'Win · Punches · 1:19 · R1',\n",
       "  'UFC 170: Rousey vs. McMann',\n",
       "  '2014.02.22',\n",
       "  'add_circle'],\n",
       " ['Rashad Evans', 'Cancelled Bout', '2014.02.22', 'add_circle'],\n",
       " ['Roy Nelson',\n",
       "  '12-0-0',\n",
       "  '19-8-0',\n",
       "  'Win · Decision · Unanimous',\n",
       "  'UFC 166: Velasquez vs. Dos Santos 3',\n",
       "  '2013.10.19',\n",
       "  'add_circle'],\n",
       " ['Frank Mir',\n",
       "  '11-0-0',\n",
       "  '16-6-0',\n",
       "  'Win · Decision · Unanimous',\n",
       "  'UFC on FOX 7',\n",
       "  '2013.04.20',\n",
       "  'add_circle'],\n",
       " ['Dion Staring',\n",
       "  '10-0-0',\n",
       "  '29-8-0',\n",
       "  'Win · Punches · 4:02 · R2',\n",
       "  'Strikeforce',\n",
       "  '2013.01.12',\n",
       "  'add_circle'],\n",
       " ['Frank Mir', 'Cancelled Bout', '2012.11.03', 'add_circle'],\n",
       " ['Josh Barnett',\n",
       "  '9-0-0',\n",
       "  '31-5-0',\n",
       "  'Win · Decision · Unanimous',\n",
       "  'Strikeforce',\n",
       "  '2012.05.19',\n",
       "  'add_circle'],\n",
       " ['Antônio Silva',\n",
       "  '8-0-0',\n",
       "  '16-2-0',\n",
       "  'Win · Punches · 3:56 · R1',\n",
       "  'Strikeforce',\n",
       "  '2011.09.10',\n",
       "  'add_circle'],\n",
       " ['Jeff Monson',\n",
       "  '7-0-0',\n",
       "  '42-11-0',\n",
       "  'Win · Decision · Unanimous',\n",
       "  'Strikeforce',\n",
       "  '2011.06.18',\n",
       "  'add_circle'],\n",
       " ['Shane Del Rosario', 'Cancelled Bout', '2011.06.18', 'add_circle'],\n",
       " ['Devin Cole',\n",
       "  '6-0-0',\n",
       "  '18-8-1',\n",
       "  'Win · Decision · Unanimous',\n",
       "  'Strikeforce Challengers 13',\n",
       "  '2011.01.07',\n",
       "  'add_circle'],\n",
       " ['Soa Palelei', '5-0-0', '11-2-0', 'Win', 'Australia Regional', '2010.11.05'],\n",
       " ['Jason Riley',\n",
       "  '4-0-0',\n",
       "  '9-3-0',\n",
       "  'Win · Punches · 1:02 · R1',\n",
       "  'Strikeforce',\n",
       "  '2010.08.21',\n",
       "  'add_circle'],\n",
       " ['Tony Johnson Jr.',\n",
       "  '3-0-0',\n",
       "  '4-0-0',\n",
       "  'Win · Rear Naked Choke · 2:27 · R1',\n",
       "  'KOTC: Imminent Danger',\n",
       "  '2010.08.13',\n",
       "  'add_circle'],\n",
       " ['Lucas Browne', '2-0-0', '5-0-0', 'Win', 'Australia Regional', '2010.07.31'],\n",
       " ['John Devine',\n",
       "  '1-0-0',\n",
       "  '5-3-0',\n",
       "  'Win · Punch · 1:09 · R1',\n",
       "  'Strikeforce Challengers 7',\n",
       "  '2010.03.27',\n",
       "  'add_circle'],\n",
       " ['Gary Frazier',\n",
       "  '0-0-0',\n",
       "  '0-0-0',\n",
       "  'Win · Punches · 3:39 · R2',\n",
       "  'Strikeforce Challengers 3',\n",
       "  '2009.09.25',\n",
       "  'add_circle'],\n",
       " ['Ali Reza Heidari',\n",
       "  'Wrestling',\n",
       "  'Loss',\n",
       "  '2004 Olympic Games',\n",
       "  '2004.08.29',\n",
       "  'add_circle'],\n",
       " ['Khadzimurat Gatsalov',\n",
       "  'Wrestling',\n",
       "  'Loss',\n",
       "  '2004 Olympic Games',\n",
       "  '2004.08.29',\n",
       "  'add_circle'],\n",
       " ['Radovan Valach',\n",
       "  'Wrestling',\n",
       "  'Win',\n",
       "  '2004 Olympic Games',\n",
       "  '2004.08.29',\n",
       "  'add_circle'],\n",
       " ['Bartłomiej Bartnicki',\n",
       "  'Wrestling',\n",
       "  'Win',\n",
       "  '2004 Olympic Games',\n",
       "  '2004.08.29',\n",
       "  'add_circle']]"
      ]
     },
     "execution_count": 147,
     "metadata": {},
     "output_type": "execute_result"
    }
   ],
   "source": [
    "fighter"
   ]
  },
  {
   "cell_type": "code",
   "execution_count": 93,
   "id": "692343fc",
   "metadata": {},
   "outputs": [],
   "source": [
    "## input id#siteSearch\n",
    "from selenium.webdriver.common.by import By\n",
    "from selenium.webdriver.common.keys import Keys"
   ]
  },
  {
   "cell_type": "code",
   "execution_count": 335,
   "id": "e1b2b01e",
   "metadata": {
    "scrolled": false
   },
   "outputs": [
    {
     "name": "stderr",
     "output_type": "stream",
     "text": [
      "/var/folders/kb/xz2_dkt914d1mkb8_lsxl6_w0000gn/T/ipykernel_19615/1008447249.py:3: DeprecationWarning: executable_path has been deprecated, please pass in a Service object\n",
      "  driver = webdriver.Chrome('/Users/mcmlxviii/Documents/NYCDS Academy/PROJECT_1/chromedriver')\n",
      "/var/folders/kb/xz2_dkt914d1mkb8_lsxl6_w0000gn/T/ipykernel_19615/1008447249.py:9: DeprecationWarning: find_element_by_* commands are deprecated. Please use find_element() instead\n",
      "  input=driver.find_element_by_id(\"siteSearch\")\n"
     ]
    },
    {
     "name": "stdout",
     "output_type": "stream",
     "text": [
      "randy couture\n",
      "[['Loss · Punches · 0:26 · R1', datetime.datetime(2019, 2, 17, 0, 0)], ['Win · Ground & Pound · 4:57 · R1', datetime.datetime(2016, 7, 9, 0, 0)], ['Loss · Guillotine Choke · 2:13 · R3', datetime.datetime(2015, 6, 13, 0, 0)], ['Win · Slam & Punches · 3:09 · R5', datetime.datetime(2013, 10, 19, 0, 0)], ['Win · Punches · 1:21 · R1', datetime.datetime(2013, 5, 25, 0, 0)], ['Win · Decision · Unanimous', datetime.datetime(2012, 12, 29, 0, 0)], ['Win · Punches · 3:36 · R1', datetime.datetime(2012, 5, 26, 0, 0)], ['Loss · Punches · 1:04 · R1', datetime.datetime(2011, 11, 12, 0, 0)], ['Win · Punches · 4:12 · R1', datetime.datetime(2010, 10, 23, 0, 0)], ['Win · Punches · 2:20 · R1', datetime.datetime(2010, 2, 20, 0, 0)], ['Win · Punches · 0:58 · R2', datetime.datetime(2009, 10, 24, 0, 0)], ['Win · Decision · Unanimous', datetime.datetime(2009, 6, 13, 0, 0)], ['Win · Punches · 2:34 · R2', datetime.datetime(2009, 2, 7, 0, 0)], ['Win · Punches · 2:02 · R1', datetime.datetime(2008, 7, 19, 0, 0)], ['Win · Punches · 2:10 · R1', datetime.datetime(2008, 4, 19, 0, 0)], ['Win · Punches · 4:00 · R1', datetime.datetime(2006, 12, 16, 0, 0)], ['Win · Punches · 1:58 · R1', datetime.datetime(2006, 10, 7, 0, 0)]]\n"
     ]
    },
    {
     "name": "stderr",
     "output_type": "stream",
     "text": [
      "/var/folders/kb/xz2_dkt914d1mkb8_lsxl6_w0000gn/T/ipykernel_19615/1008447249.py:21: DeprecationWarning: find_elements_by_* commands are deprecated. Please use find_elements() instead\n",
      "  rows = driver.find_elements_by_xpath(\"//div[@class='searchResultsFighter']/table//tr/td/a\")\n"
     ]
    }
   ],
   "source": [
    "import re\n",
    "def get_next_fighter_url(name):\n",
    "    driver = webdriver.Chrome('/Users/mcmlxviii/Documents/NYCDS Academy/PROJECT_1/chromedriver')\n",
    "    driver.get('https://www.tapology.com/fightcenter/fighters/david-abbott-tank')\n",
    "\n",
    "    driver.fullscreen_window()\n",
    "    driver.implicitly_wait(3)\n",
    "\n",
    "    input=driver.find_element_by_id(\"siteSearch\")\n",
    "    name = re.sub(r'[^A-Za-z ]', ' ', name.lower())\n",
    "    fighter = name\n",
    "    print(fighter)\n",
    "\n",
    "    input.send_keys( fighter )\n",
    "    input.send_keys(Keys.ENTER)\n",
    "\n",
    "    driver.implicitly_wait(2)\n",
    "\n",
    "    # THE div w/class name of 'blah' then the table followed by // which means the \n",
    "    # nested occurrence of tr then td\n",
    "    rows = driver.find_elements_by_xpath(\"//div[@class='searchResultsFighter']/table//tr/td/a\")\n",
    "    # GET URL FOR NEXT FIGHTER\n",
    "    next_fighter = [row.get_attribute(\"href\") for row in rows]\n",
    "    \n",
    "    # EMPTY STRINGS ARE FALSY\n",
    "    if not next_fighter[0]:\n",
    "        return None\n",
    "    return next_fighter[0]\n",
    "\n",
    "    driver.close()\n",
    "    print( next_fighter )\n",
    "#get_next_fighter( \"Rose Namajunas\" )\n",
    "#get_next_fighter( \"Ronda Rousey\" )\n",
    "#get_next_fighter( \"maX HolloWay\" )\n",
    "#get_next_fighter( \"georges st. PIERRE\" )\n",
    "#get_next_fighter( \"renan barao\" )\n",
    "#get_next_fighter( \"michael bisping\" )\n",
    "#get_next_fighter( \"chuck liddell\" )\n",
    "#get_next_fighter( \"junior dos santos\" )\n",
    "#get_next_fighter( \"MIESHa TaTE\" )\n",
    "fighter_url = get_next_fighter_url( \"randy couture\" )\n",
    "print( fighter_records )"
   ]
  },
  {
   "cell_type": "code",
   "execution_count": 336,
   "id": "08eb7469",
   "metadata": {},
   "outputs": [
    {
     "data": {
      "text/plain": [
       "['Alexander Volkanovski',\n",
       " 'Amanda Nunes',\n",
       " 'Anderson Silva',\n",
       " 'Anthony Johnson',\n",
       " 'Anthony Pettis',\n",
       " 'Benson Henderson',\n",
       " 'Brock Lesnar',\n",
       " 'B.J. Penn',\n",
       " 'Cain Velasquez',\n",
       " 'Carla Esparza',\n",
       " 'Charles Oliveira',\n",
       " 'Chris Weidman',\n",
       " 'Cody Garbrandt',\n",
       " 'Conor McGregor',\n",
       " 'Daniel Cormier',\n",
       " 'Deiveson Figueiredo',\n",
       " 'Demetrious Johnson',\n",
       " 'Dominick Cruz',\n",
       " 'Dominick Reyes',\n",
       " 'Eddie Alvarez',\n",
       " 'Fabricio Werdum',\n",
       " 'Frankie Edgar',\n",
       " 'Henry Cejudo',\n",
       " 'Holly Holm',\n",
       " 'Israel Adesanya',\n",
       " 'Jan Blachowicz',\n",
       " 'Jessica Andrade',\n",
       " 'Joanna Jedrzejczyk',\n",
       " 'Johny Hendricks',\n",
       " 'Jon Jones',\n",
       " 'Jose Aldo',\n",
       " 'Joseph Benavidez',\n",
       " 'Kamaru Usman',\n",
       " 'Kelvin Gastelum',\n",
       " 'Khabib Nurmagomedov',\n",
       " 'Luke Rockhold',\n",
       " 'Matt Hughes',\n",
       " 'Matt Serra',\n",
       " 'Mauricio Rua',\n",
       " 'Max Holloway',\n",
       " 'Michael Bisping',\n",
       " 'Miesha Tate',\n",
       " 'Petr Yan',\n",
       " 'Renan Barao',\n",
       " 'Robbie Lawler',\n",
       " 'Robert Whittaker',\n",
       " 'Ronda Rousey',\n",
       " 'Rose Namajunas',\n",
       " 'Stipe Miocic',\n",
       " 'Tyron Woodley',\n",
       " 'Valentina Shevchenko',\n",
       " 'Weili Zhang']"
      ]
     },
     "execution_count": 336,
     "metadata": {},
     "output_type": "execute_result"
    }
   ],
   "source": [
    "# TEST CODE FOR THE SCRAPE\n",
    "# GRAB TOP DATA FROM CHAMPS\n",
    "\n",
    "f = pd.read_csv('/Users/mcmlxviii/Documents/NYCDS Academy/PROJECT_1/champs_dob.csv', index_col='fighter_name',\\\n",
    "                parse_dates=['birth_date'])\n",
    "f.head()\n",
    "\n",
    "list(f.index.values)"
   ]
  },
  {
   "cell_type": "code",
   "execution_count": 337,
   "id": "4625feea",
   "metadata": {},
   "outputs": [
    {
     "name": "stderr",
     "output_type": "stream",
     "text": [
      "/var/folders/kb/xz2_dkt914d1mkb8_lsxl6_w0000gn/T/ipykernel_19615/1008447249.py:3: DeprecationWarning: executable_path has been deprecated, please pass in a Service object\n",
      "  driver = webdriver.Chrome('/Users/mcmlxviii/Documents/NYCDS Academy/PROJECT_1/chromedriver')\n",
      "/var/folders/kb/xz2_dkt914d1mkb8_lsxl6_w0000gn/T/ipykernel_19615/1008447249.py:9: DeprecationWarning: find_element_by_* commands are deprecated. Please use find_element() instead\n",
      "  input=driver.find_element_by_id(\"siteSearch\")\n"
     ]
    },
    {
     "name": "stdout",
     "output_type": "stream",
     "text": [
      "alexander volkanovski\n"
     ]
    },
    {
     "name": "stderr",
     "output_type": "stream",
     "text": [
      "/var/folders/kb/xz2_dkt914d1mkb8_lsxl6_w0000gn/T/ipykernel_19615/1008447249.py:21: DeprecationWarning: find_elements_by_* commands are deprecated. Please use find_elements() instead\n",
      "  rows = driver.find_elements_by_xpath(\"//div[@class='searchResultsFighter']/table//tr/td/a\")\n",
      "/var/folders/kb/xz2_dkt914d1mkb8_lsxl6_w0000gn/T/ipykernel_19615/206136163.py:11: DeprecationWarning: find_elements_by_* commands are deprecated. Please use find_elements() instead\n",
      "  records = driver.find_elements_by_xpath(\"//div[@class='result']\")\n"
     ]
    },
    {
     "name": "stdout",
     "output_type": "stream",
     "text": [
      "[['Win · Decision · Unanimous', datetime.datetime(2021, 9, 25, 0, 0)], ['Win · Decision · Split', datetime.datetime(2020, 7, 11, 0, 0)], ['Win · Decision · Unanimous', datetime.datetime(2019, 12, 14, 0, 0)], ['Win · Decision · Unanimous', datetime.datetime(2019, 5, 11, 0, 0)], ['Win · Punches · 4:14 · R2', datetime.datetime(2018, 12, 29, 0, 0)], ['Win · Decision · Unanimous', datetime.datetime(2018, 7, 14, 0, 0)], ['Win · Ground & Pound · 4:57 · R2', datetime.datetime(2018, 2, 10, 0, 0)], ['Win · Decision · Unanimous', datetime.datetime(2017, 11, 18, 0, 0)], ['Win · Decision · Unanimous', datetime.datetime(2017, 6, 10, 0, 0)], ['Win · Ground & Pound · 2:06 · R2', datetime.datetime(2016, 11, 26, 0, 0)], ['Win · KO/TKO', datetime.datetime(2016, 7, 8, 0, 0)], ['Win · Punch · 3:23 · R1', datetime.datetime(2016, 3, 19, 0, 0)], ['Win · Triangle Choke · 3:43 · R4', datetime.datetime(2015, 12, 4, 0, 0)], ['Win · KO/TKO · 1:39 · R1', datetime.datetime(2015, 6, 14, 0, 0)], ['Win · Punches · 1:52 · R2', datetime.datetime(2014, 11, 1, 0, 0)], ['Win · Decision · Unanimous', datetime.datetime(2014, 10, 24, 0, 0)], ['Win · Rear Naked Choke · 4:58 · R1', datetime.datetime(2014, 7, 26, 0, 0)], ['Win · Punch · 3:41 · R1', datetime.datetime(2014, 5, 17, 0, 0)], ['Win · Guillotine Choke', datetime.datetime(2014, 2, 1, 0, 0)], ['Win · Punches · 4:39 · R3', datetime.datetime(2013, 12, 13, 0, 0)], ['Loss · Head Kick & Punches · 0:13 · R3', datetime.datetime(2013, 5, 10, 0, 0)], ['Win · Punches · 2:19 · R4', datetime.datetime(2013, 4, 6, 0, 0)], ['Win', datetime.datetime(2013, 2, 23, 0, 0)], ['Win', datetime.datetime(2012, 5, 19, 0, 0)]]\n",
      "amanda nunes\n",
      "[['Loss · Rear Naked Choke · 3:26 · R2', datetime.datetime(2021, 12, 11, 0, 0)], ['Win · Inverted Triangle-Armbar · 2:03 · R1', datetime.datetime(2021, 3, 6, 0, 0)], ['Win · Decision · Unanimous', datetime.datetime(2020, 6, 6, 0, 0)], ['Win · Decision · Unanimous', datetime.datetime(2019, 12, 14, 0, 0)], ['Win · Head Kick & Punches · 4:10 · R1', datetime.datetime(2019, 7, 6, 0, 0)], ['Win · Punches · 0:51 · R1', datetime.datetime(2018, 12, 29, 0, 0)], ['Win · Ground & Pound · 2:36 · R5', datetime.datetime(2018, 5, 12, 0, 0)], ['Win · Decision · Split', datetime.datetime(2017, 9, 9, 0, 0)], ['Win · Punches · 0:48 · R1', datetime.datetime(2016, 12, 30, 0, 0)], ['Win · Rear Naked Choke · 3:16 · R1', datetime.datetime(2016, 7, 9, 0, 0)], ['Win · Decision · Unanimous', datetime.datetime(2016, 3, 5, 0, 0)], ['Win · Rear Naked Choke · 2:53 · R1', datetime.datetime(2015, 8, 8, 0, 0)], ['Win · Leg Kick & Punches · 1:56 · R1', datetime.datetime(2015, 3, 21, 0, 0)], ['Loss · Ground & Pound · 1:21 · R3', datetime.datetime(2014, 9, 27, 0, 0)], ['Win · Elbows · 3:56 · R1', datetime.datetime(2013, 11, 6, 0, 0)], ['Win · Elbows · 2:08 · R1', datetime.datetime(2013, 8, 3, 0, 0)], ['Loss · Decision · Unanimous', datetime.datetime(2013, 1, 5, 0, 0)], ['Win · Rear Naked Choke · 2:24 · R1', datetime.datetime(2012, 7, 28, 0, 0)], ['Loss · Punches · 4:53 · R2', datetime.datetime(2011, 9, 10, 0, 0)], ['Win · Punches · 0:14 · R1', datetime.datetime(2011, 1, 7, 0, 0)], ['Win', datetime.datetime(2010, 2, 25, 0, 0)], ['Win', datetime.datetime(2009, 12, 12, 0, 0)], ['Win', datetime.datetime(2009, 9, 12, 0, 0)], ['Win', datetime.datetime(2008, 7, 1, 0, 0)], ['Win', datetime.datetime(2008, 5, 24, 0, 0)], ['Loss', datetime.datetime(2008, 3, 8, 0, 0)]]\n",
      "anderson silva\n",
      "[['Win · Right Left Hook Combo · 1:21 · R1', datetime.datetime(2021, 9, 11, 0, 0)], ['Win · Decision · Split', datetime.datetime(2021, 6, 19, 0, 0)], ['Loss · Punches · 1:24 · R4', datetime.datetime(2020, 10, 31, 0, 0)], ['Loss · Knee Injury Via Leg Kick · 4:47 · R1', datetime.datetime(2019, 5, 11, 0, 0)], ['Loss · Decision · Unanimous', datetime.datetime(2019, 2, 9, 0, 0)], ['Win · Decision · Unanimous', datetime.datetime(2017, 2, 11, 0, 0)], ['Loss · Decision · Unanimous', datetime.datetime(2016, 7, 9, 0, 0)], ['Loss · Decision · Unanimous', datetime.datetime(2016, 2, 27, 0, 0)], ['Loss · Broken Leg · 1:16 · R2', datetime.datetime(2013, 12, 28, 0, 0)], ['Loss · Punches · 1:18 · R2', datetime.datetime(2013, 7, 6, 0, 0)], ['Win · Knee to Body & Punches · 4:40 · R1', datetime.datetime(2012, 10, 13, 0, 0)], ['Win · Knee & Punches · 1:55 · R2', datetime.datetime(2012, 7, 7, 0, 0)], ['Win · Strikes · 2:04 · R2', datetime.datetime(2011, 8, 27, 0, 0)], ['Win · Head Kick & Punches · 3:25 · R1', datetime.datetime(2011, 2, 5, 0, 0)], ['Win · Triangle Armbar · 3:10 · R5', datetime.datetime(2010, 8, 7, 0, 0)], ['Win · Decision · Unanimous', datetime.datetime(2010, 4, 10, 0, 0)], ['Win · Punch · 3:23 · R1', datetime.datetime(2009, 8, 8, 0, 0)], ['Win · Decision · Unanimous', datetime.datetime(2009, 4, 18, 0, 0)], ['Win · Knee Injury · 0:39 · R3', datetime.datetime(2008, 10, 25, 0, 0)], ['Win · Punches · 1:01 · R1', datetime.datetime(2008, 7, 19, 0, 0)], ['Win · Rear Naked Choke · 4:52 · R2', datetime.datetime(2008, 3, 1, 0, 0)], ['Win · Knees · 1:07 · R2', datetime.datetime(2007, 10, 20, 0, 0)], ['Win · Punches · 4:50 · R1', datetime.datetime(2007, 7, 7, 0, 0)], ['Win · Elbows · 2:11 · R2', datetime.datetime(2007, 2, 3, 0, 0)], ['Win · Knee · 2:59 · R1', datetime.datetime(2006, 10, 14, 0, 0)], ['Win · Knee · 0:49 · R1', datetime.datetime(2006, 6, 28, 0, 0)], ['Win · Elbow · 2:02 · R1', datetime.datetime(2006, 4, 22, 0, 0)], ['Loss · Illegal Kick · 2:33 · R1', datetime.datetime(2006, 1, 20, 0, 0)], ['Win · Punches · 4:59 · R1', datetime.datetime(2005, 12, 3, 0, 0)], ['Win · KO/TKO', datetime.datetime(2005, 8, 5, 0, 0)], ['Win', datetime.datetime(2005, 4, 30, 0, 0)], ['Loss · Flying Scissor Heel Hook · 3:08 · R3', datetime.datetime(2004, 12, 31, 0, 0)], ['Win', datetime.datetime(2004, 9, 11, 0, 0)], ['Win · Decision · Unanimous', datetime.datetime(2004, 6, 27, 0, 0)], ['Win', datetime.datetime(2003, 12, 20, 0, 0)], ['Loss · Triangle Choke · 8:33 · R1', datetime.datetime(2003, 6, 8, 0, 0)], ['Win · Kicks, Punch · 2:57 · R1', datetime.datetime(2003, 4, 13, 0, 0)], ['Win · Flying Knee & Punches · 6:27 · R1', datetime.datetime(2003, 3, 16, 0, 0)], ['Win · Decision · Unanimous', datetime.datetime(2002, 9, 29, 0, 0)], ['Win · Doctor Stoppage · 1:23 · R1', datetime.datetime(2002, 6, 23, 0, 0)], ['Win · Punches · 5:33 · R1', datetime.datetime(2002, 1, 31, 0, 0)], ['Win · Decision · Unanimous', datetime.datetime(2001, 8, 26, 0, 0)], ['Win · Punches · 6:17 · R1', datetime.datetime(2001, 6, 9, 0, 0)], ['Win · Decision · Unanimous', datetime.datetime(2001, 3, 2, 0, 0)], ['Win · Punches & Knees · 4:35 · R1', datetime.datetime(2000, 12, 16, 0, 0)], ['Win · Head Kick & Punches · 1:06 · R1', datetime.datetime(2000, 8, 12, 0, 0)], ['Loss · Decision · Unanimous', datetime.datetime(2000, 5, 27, 0, 0)], ['Loss · KO/TKO', datetime.datetime(1998, 5, 22, 0, 0)], ['Win', datetime.datetime(1998, 4, 25, 0, 0)], ['Win', datetime.datetime(1998, 4, 25, 0, 0)]]\n",
      "anthony johnson\n",
      "[['Win · Cross · 1:30 · R2', datetime.datetime(2021, 5, 7, 0, 0)], ['Loss · Decision · Escape Time In Overtime', datetime.datetime(2020, 12, 20, 0, 0)], ['Draw · 8:00 · R1', datetime.datetime(2019, 12, 12, 0, 0)], ['Draw · 4:00 · R1', datetime.datetime(2019, 12, 12, 0, 0)], ['Loss · Heel Hook · 0:47 · R1', datetime.datetime(2019, 7, 7, 0, 0)], ['Loss · Rear Naked Choke · 3:37 · R2', datetime.datetime(2017, 4, 8, 0, 0)], ['Win · Punches · 0:13 · R1', datetime.datetime(2016, 8, 20, 0, 0)], ['Win · Ground & Pound · 1:26 · R1', datetime.datetime(2016, 1, 30, 0, 0)], ['Win · Punch · 0:28 · R2', datetime.datetime(2015, 9, 5, 0, 0)], ['Loss · Rear Naked Choke · 2:39 · R3', datetime.datetime(2015, 5, 23, 0, 0)], ['Win · Punches · 2:15 · R1', datetime.datetime(2015, 1, 24, 0, 0)], ['Win · Punches · 0:44 · R1', datetime.datetime(2014, 7, 26, 0, 0)], ['Win · Decision · Unanimous', datetime.datetime(2014, 4, 26, 0, 0)], ['Win · Punch · 2:03 · R1', datetime.datetime(2014, 1, 18, 0, 0)], ['Win · Decision · Unanimous', datetime.datetime(2013, 3, 23, 0, 0)], ['Win · Punch · 3:58 · R1', datetime.datetime(2012, 11, 3, 0, 0)], ['Win · Head Kick · 4:22 · R2', datetime.datetime(2012, 9, 21, 0, 0)], ['Win · Punches · 0:51 · R2', datetime.datetime(2012, 8, 24, 0, 0)], ['Win · Decision · Unanimous', datetime.datetime(2012, 5, 25, 0, 0)], ['Loss · Rear Naked Choke · 4:49 · R1', datetime.datetime(2012, 1, 14, 0, 0)], ['Win · Head Kick · 2:49 · R1', datetime.datetime(2011, 10, 1, 0, 0)], ['Win · Decision · Unanimous', datetime.datetime(2011, 3, 26, 0, 0)], ['Loss · Rear Naked Choke · 4:47 · R2', datetime.datetime(2009, 11, 21, 0, 0)], ['Win · Punches · 0:41 · R1', datetime.datetime(2009, 10, 24, 0, 0)], ['Win · Punches · 4:39 · R1', datetime.datetime(2009, 2, 7, 0, 0)], ['Win · Head Kick · 0:28 · R3', datetime.datetime(2008, 12, 13, 0, 0)], ['Loss · Eye Injury · 3:35 · R3', datetime.datetime(2008, 7, 19, 0, 0)], ['Win · Punches · 0:51 · R1', datetime.datetime(2008, 4, 2, 0, 0)], ['Loss · Rear Naked Choke · 3:05 · R2', datetime.datetime(2007, 9, 22, 0, 0)], ['Win · Punches · 0:13 · R1', datetime.datetime(2007, 6, 12, 0, 0)], ['Win', datetime.datetime(2006, 9, 16, 0, 0)], ['Win', datetime.datetime(2006, 9, 16, 0, 0)], ['Win', datetime.datetime(2006, 8, 18, 0, 0)]]\n"
     ]
    },
    {
     "name": "stdout",
     "output_type": "stream",
     "text": [
      "anthony pettis\n",
      "[['Loss · Decision · Split', datetime.datetime(2021, 6, 25, 0, 0)], ['Loss · Decision · Unanimous', datetime.datetime(2021, 4, 23, 0, 0)], ['Win · Decision · Unanimous', datetime.datetime(2020, 12, 19, 0, 0)], ['Win · Decision · Unanimous', datetime.datetime(2020, 5, 9, 0, 0)], ['Loss · Rear Naked Choke · 1:46 · R2', datetime.datetime(2020, 1, 18, 0, 0)], ['Loss · Decision · Unanimous', datetime.datetime(2019, 8, 17, 0, 0)], ['Draw · Decision', datetime.datetime(2019, 6, 15, 0, 0)], ['Win · Superman Punch · 4:55 · R2', datetime.datetime(2019, 3, 23, 0, 0)], ['Loss · Corner Stoppage (Broken Hand) · 5:00 · R2', datetime.datetime(2018, 10, 6, 0, 0)], ['Win · Triangle-Armbar · 0:52 · R2', datetime.datetime(2018, 7, 7, 0, 0)], ['Loss · Rib Injury from Body Triangle · 2:08 · R3', datetime.datetime(2017, 11, 11, 0, 0)], ['Win · Decision · Unanimous', datetime.datetime(2017, 7, 8, 0, 0)], ['Loss · Punches · 4:50 · R3', datetime.datetime(2016, 12, 10, 0, 0)], ['Win · Guillotine Choke · 1:49 · R3', datetime.datetime(2016, 8, 27, 0, 0)], ['Loss · Decision · Unanimous', datetime.datetime(2016, 4, 23, 0, 0)], ['Loss · Decision · Split', datetime.datetime(2016, 1, 17, 0, 0)], ['Loss · Decision · Unanimous', datetime.datetime(2015, 3, 14, 0, 0)], ['Win · Guillotine Choke · 1:53 · R2', datetime.datetime(2014, 12, 6, 0, 0)], ['Win · Armbar · 4:31 · R1', datetime.datetime(2013, 8, 31, 0, 0)], ['Win · Body Kick & Punches · 2:35 · R1', datetime.datetime(2013, 1, 26, 0, 0)], ['Win · Head Kick & Punches · 1:21 · R1', datetime.datetime(2012, 2, 25, 0, 0)], ['Win · Decision · Split', datetime.datetime(2011, 10, 8, 0, 0)], ['Loss · Decision · Unanimous', datetime.datetime(2011, 6, 4, 0, 0)], ['Win · Decision · Unanimous', datetime.datetime(2010, 12, 16, 0, 0)], ['Win · Triangle Choke · 4:51 · R3', datetime.datetime(2010, 8, 18, 0, 0)], ['Win · Triangle Choke · 1:35 · R2', datetime.datetime(2010, 4, 24, 0, 0)], ['Win · Head Kick & Punches · 2:27 · R1', datetime.datetime(2010, 3, 6, 0, 0)], ['Loss · Decision · Split', datetime.datetime(2009, 12, 19, 0, 0)], ['Win · Triangle Choke · 1:49 · R1', datetime.datetime(2009, 6, 7, 0, 0)], ['Win', datetime.datetime(2008, 12, 13, 0, 0)], ['Win', datetime.datetime(2008, 10, 4, 0, 0)], ['Win', datetime.datetime(2008, 6, 21, 0, 0)], ['Win', datetime.datetime(2008, 3, 29, 0, 0)], ['Win', datetime.datetime(2008, 2, 16, 0, 0)], ['Win', datetime.datetime(2007, 12, 1, 0, 0)], ['Win', datetime.datetime(2007, 8, 17, 0, 0)], ['Win', datetime.datetime(2007, 1, 27, 0, 0)]]\n",
      "benson henderson\n",
      "[['Win · Decision · Split', datetime.datetime(2022, 1, 29, 0, 0)], ['Win · Decision', datetime.datetime(2021, 12, 16, 0, 0)], ['Loss · Decision · Unanimous', datetime.datetime(2021, 10, 16, 0, 0)], ['Loss · Decision · Unanimous', datetime.datetime(2020, 11, 19, 0, 0)], ['Loss · Left Cross to Ground & Pound · 2:09 · R1', datetime.datetime(2020, 8, 7, 0, 0)], ['Loss · Flying Triangle Choke', datetime.datetime(2020, 5, 23, 0, 0)], ['Loss · Decision', datetime.datetime(2020, 1, 8, 0, 0)], ['Win · Decision · Unanimous', datetime.datetime(2019, 9, 27, 0, 0)], ['Win · Decision · Split', datetime.datetime(2019, 4, 27, 0, 0)], ['Loss · Rear Naked Choke', datetime.datetime(2018, 12, 9, 0, 0)], ['Win · Decision · Unanimous', datetime.datetime(2018, 10, 13, 0, 0)], ['Win · Guillotine Choke · 0:49 · R2', datetime.datetime(2018, 4, 6, 0, 0)], ['Win · Decision', datetime.datetime(2018, 2, 17, 0, 0)], ['Loss · Decision · Split', datetime.datetime(2017, 9, 23, 0, 0)], ['Loss · Decision · Split', datetime.datetime(2016, 11, 19, 0, 0)], ['Win · Leg Injury · 2:26 · R2', datetime.datetime(2016, 8, 26, 0, 0)], ['Loss · Decision · Unanimous', datetime.datetime(2016, 4, 22, 0, 0)], ['Win · Decision · Split', datetime.datetime(2015, 11, 28, 0, 0)], ['Win · Rear Naked Choke · 3:58 · R4', datetime.datetime(2015, 2, 14, 0, 0)], ['Loss · Decision · Unanimous', datetime.datetime(2015, 1, 18, 0, 0)], ['Loss · Punches · 2:31 · R1', datetime.datetime(2014, 8, 23, 0, 0)], ['Win · Rear Naked Choke · 1:16 · R4', datetime.datetime(2014, 6, 7, 0, 0)], ['Win · Decision · Split', datetime.datetime(2014, 1, 25, 0, 0)], ['Loss · Armbar · 4:31 · R1', datetime.datetime(2013, 8, 31, 0, 0)], ['Win · Decision · Split', datetime.datetime(2013, 4, 20, 0, 0)], ['Win · Decision · Unanimous', datetime.datetime(2012, 12, 8, 0, 0)], ['Win · Decision · Split', datetime.datetime(2012, 8, 11, 0, 0)], ['Win · Decision · Unanimous', datetime.datetime(2012, 2, 25, 0, 0)], ['Win · Decision · Unanimous', datetime.datetime(2011, 11, 12, 0, 0)], ['Win · Decision · Unanimous', datetime.datetime(2011, 8, 14, 0, 0)], ['Win · Decision · Unanimous', datetime.datetime(2011, 4, 30, 0, 0)], ['Loss · Decision · Unanimous', datetime.datetime(2010, 12, 16, 0, 0)], ['Win · Guillotine Choke · 1:57 · R1', datetime.datetime(2010, 4, 24, 0, 0)], ['Win · Guillotine Choke · 2:41 · R3', datetime.datetime(2010, 1, 10, 0, 0)], ['Win · Decision · Unanimous', datetime.datetime(2009, 10, 10, 0, 0)], ['Win · Punches · 1:41 · R1', datetime.datetime(2009, 4, 5, 0, 0)], ['Win · Guillotine Choke · 0:42 · R2', datetime.datetime(2009, 1, 25, 0, 0)], ['Win', datetime.datetime(2008, 10, 4, 0, 0)], ['Win', datetime.datetime(2008, 7, 25, 0, 0)], ['Win', datetime.datetime(2008, 5, 9, 0, 0)], ['Win', datetime.datetime(2007, 12, 7, 0, 0)], ['Win', datetime.datetime(2007, 6, 23, 0, 0)], ['Loss', datetime.datetime(2007, 3, 31, 0, 0)], ['Win', datetime.datetime(2007, 2, 16, 0, 0)], ['Win', datetime.datetime(2006, 11, 18, 0, 0)], ['Loss', datetime.datetime(2006, 12, 9, 0, 0)], ['Win', datetime.datetime(2006, 10, 27, 0, 0)]]\n",
      "brock lesnar\n",
      "[['Loss · Body Kick & Punches · 2:26 · R1', datetime.datetime(2011, 12, 30, 0, 0)], ['Loss · Punches · 4:12 · R1', datetime.datetime(2010, 10, 23, 0, 0)], ['Win · Arm-Triangle Choke · 2:19 · R2', datetime.datetime(2010, 7, 3, 0, 0)], ['Win · Punches · 1:48 · R2', datetime.datetime(2009, 7, 11, 0, 0)], ['Win · Punches · 3:07 · R2', datetime.datetime(2008, 11, 15, 0, 0)], ['Win · Decision · Unanimous', datetime.datetime(2008, 8, 9, 0, 0)], ['Loss · Kneebar · 1:30 · R1', datetime.datetime(2008, 2, 2, 0, 0)], ['Win · Punches · 1:09 · R1', datetime.datetime(2007, 6, 2, 0, 0)]]\n",
      "b j  penn\n",
      "[['Loss · Decision · Unanimous', datetime.datetime(2019, 5, 11, 0, 0)], ['Loss · Heel Hook · 2:46 · R1', datetime.datetime(2018, 12, 29, 0, 0)], ['Loss · Decision · Majority', datetime.datetime(2017, 6, 25, 0, 0)], ['Loss · Head Kick & Punches · 0:24 · R2', datetime.datetime(2017, 1, 15, 0, 0)], ['Loss · Punches · 4:16 · R3', datetime.datetime(2014, 7, 6, 0, 0)], ['Loss · Decision · Unanimous', datetime.datetime(2012, 12, 8, 0, 0)], ['Loss · Decision · Unanimous', datetime.datetime(2011, 10, 29, 0, 0)], ['Draw · Decision · Majority', datetime.datetime(2011, 2, 26, 0, 0)], ['Win · Punches · 0:21 · R1', datetime.datetime(2010, 11, 20, 0, 0)], ['Loss · Decision · Unanimous', datetime.datetime(2010, 8, 28, 0, 0)], ['Loss · Decision · Unanimous', datetime.datetime(2010, 4, 10, 0, 0)], ['Win · Doctor Stoppage · 2:37 · R5', datetime.datetime(2009, 12, 12, 0, 0)], ['Win · Rear Naked Choke · 3:54 · R4', datetime.datetime(2009, 8, 8, 0, 0)], ['Loss · Corner Stoppage · 5:00 · R4', datetime.datetime(2009, 1, 31, 0, 0)], ['Win · Knee & Punches · 5:00 · R3', datetime.datetime(2008, 5, 24, 0, 0)], ['Win · Rear Naked Choke · 4:02 · R2', datetime.datetime(2008, 1, 19, 0, 0)], ['Win · Rear Naked Choke · 3:12 · R2', datetime.datetime(2007, 6, 23, 0, 0)], ['Loss · Punches · 3:53 · R3', datetime.datetime(2006, 9, 23, 0, 0)], ['Loss · Decision · Split', datetime.datetime(2006, 3, 4, 0, 0)], ['Win · Decision · Unanimous', datetime.datetime(2005, 7, 29, 0, 0)], ['Loss · Decision · Unanimous', datetime.datetime(2005, 3, 26, 0, 0)], ['Win · Decision · Unanimous', datetime.datetime(2004, 11, 20, 0, 0)], ['Win · Arm-Triangle Choke · 1:45 · R1', datetime.datetime(2004, 5, 22, 0, 0)], ['Win · Rear Naked Choke · 4:39 · R1', datetime.datetime(2004, 1, 31, 0, 0)], ['Win · Rear Naked Choke · 2:35 · R3', datetime.datetime(2003, 10, 10, 0, 0)], ['Draw · Decision', datetime.datetime(2003, 2, 28, 0, 0)], ['Win · Decision · Unanimous', datetime.datetime(2002, 9, 27, 0, 0)], ['Win · Punches · 3:23 · R2', datetime.datetime(2002, 5, 10, 0, 0)], ['Loss · Decision · Majority', datetime.datetime(2002, 1, 11, 0, 0)], ['Win · Punches · 0:11 · R1', datetime.datetime(2001, 11, 2, 0, 0)], ['Win · Knee & Punches · 2:42 · R1', datetime.datetime(2001, 6, 29, 0, 0)], ['Win · Punches · 4:57 · R1', datetime.datetime(2001, 5, 4, 0, 0)], ['Win', datetime.datetime(2000, 7, 12, 0, 0)]]\n"
     ]
    },
    {
     "name": "stdout",
     "output_type": "stream",
     "text": [
      "cain velasquez\n",
      "[['Loss · Punches · 0:26 · R1', datetime.datetime(2019, 2, 17, 0, 0)], ['Win · Ground & Pound · 4:57 · R1', datetime.datetime(2016, 7, 9, 0, 0)], ['Loss · Guillotine Choke · 2:13 · R3', datetime.datetime(2015, 6, 13, 0, 0)], ['Win · Slam & Punches · 3:09 · R5', datetime.datetime(2013, 10, 19, 0, 0)], ['Win · Punches · 1:21 · R1', datetime.datetime(2013, 5, 25, 0, 0)], ['Win · Decision · Unanimous', datetime.datetime(2012, 12, 29, 0, 0)], ['Win · Punches · 3:36 · R1', datetime.datetime(2012, 5, 26, 0, 0)], ['Loss · Punches · 1:04 · R1', datetime.datetime(2011, 11, 12, 0, 0)], ['Win · Punches · 4:12 · R1', datetime.datetime(2010, 10, 23, 0, 0)], ['Win · Punches · 2:20 · R1', datetime.datetime(2010, 2, 20, 0, 0)], ['Win · Punches · 0:58 · R2', datetime.datetime(2009, 10, 24, 0, 0)], ['Win · Decision · Unanimous', datetime.datetime(2009, 6, 13, 0, 0)], ['Win · Punches · 2:34 · R2', datetime.datetime(2009, 2, 7, 0, 0)], ['Win · Punches · 2:02 · R1', datetime.datetime(2008, 7, 19, 0, 0)], ['Win · Punches · 2:10 · R1', datetime.datetime(2008, 4, 19, 0, 0)], ['Win · Punches · 4:00 · R1', datetime.datetime(2006, 12, 16, 0, 0)], ['Win · Punches · 1:58 · R1', datetime.datetime(2006, 10, 7, 0, 0)]]\n",
      "carla esparza\n",
      "[['Loss · Doctor Stoppage Cut · 4:26 · R1', datetime.datetime(2021, 12, 30, 0, 0)], ['Win · Ground & Pound from Crucifix · 2:58 · R2', datetime.datetime(2021, 5, 22, 0, 0)], ['Win · Decision · Split', datetime.datetime(2020, 7, 25, 0, 0)], ['Win · Decision · Split', datetime.datetime(2020, 5, 9, 0, 0)], ['Win · Decision · Majority', datetime.datetime(2019, 9, 21, 0, 0)], ['Win · Decision · Unanimous', datetime.datetime(2019, 4, 27, 0, 0)], ['Loss · Ground & Pound · 4:33 · R3', datetime.datetime(2018, 9, 8, 0, 0)], ['Loss · Decision · Split', datetime.datetime(2018, 6, 9, 0, 0)], ['Win · Decision · Unanimous', datetime.datetime(2017, 12, 30, 0, 0)], ['Win · Decision · Unanimous', datetime.datetime(2017, 6, 25, 0, 0)], ['Loss · Decision · Split', datetime.datetime(2017, 2, 19, 0, 0)], ['Win · Decision · Unanimous', datetime.datetime(2016, 4, 23, 0, 0)], ['Loss · Punches · 4:17 · R2', datetime.datetime(2015, 3, 14, 0, 0)], ['Win · Rear Naked Choke · 1:26 · R3', datetime.datetime(2014, 12, 12, 0, 0)], ['Win · Decision · Unanimous', datetime.datetime(2014, 8, 14, 0, 0)], ['Win · Decision · Majority', datetime.datetime(2014, 8, 6, 0, 0)], ['Win · Rear Naked Choke · 3:41 · R1', datetime.datetime(2014, 7, 18, 0, 0)], ['Win · Decision · Unanimous', datetime.datetime(2013, 1, 5, 0, 0)], ['Win · Strikes · 2:53 · R1', datetime.datetime(2012, 10, 6, 0, 0)], ['Win · Punches · 4:28 · R2', datetime.datetime(2012, 7, 28, 0, 0)], ['Win · Decision · Unanimous', datetime.datetime(2011, 12, 2, 0, 0)], ['Loss · Decision · Split', datetime.datetime(2011, 6, 25, 0, 0)], ['Win', datetime.datetime(2011, 4, 15, 0, 0)], ['Win', datetime.datetime(2010, 12, 10, 0, 0)], ['Loss · Armbar · 0:57 · R2', datetime.datetime(2010, 8, 12, 0, 0)], ['Win', datetime.datetime(2010, 7, 16, 0, 0)], ['Win', datetime.datetime(2010, 4, 18, 0, 0)], ['Win', datetime.datetime(2010, 2, 19, 0, 0)]]\n",
      "charles oliveira\n",
      "[['Win · Rear Naked Choke · 1:02 · R3', datetime.datetime(2021, 12, 11, 0, 0)], ['Win · Left Hook to Ground & Pound · 0:19 · R2', datetime.datetime(2021, 5, 15, 0, 0)], ['Win · Decision · Unanimous', datetime.datetime(2020, 12, 12, 0, 0)], ['Win · Guillotine Choke · 0:28 · R3', datetime.datetime(2020, 3, 14, 0, 0)], ['Win · Decision · Points', datetime.datetime(2020, 1, 25, 0, 0)], ['Win · Overhand Right & Uppercut · 1:26 · R1', datetime.datetime(2019, 11, 16, 0, 0)], ['Win · Right Cross to Ground & Pound · 2:11 · R2', datetime.datetime(2019, 5, 18, 0, 0)], ['Win · Anaconda Choke · 0:55 · R2', datetime.datetime(2019, 2, 2, 0, 0)], ['Win · Rear Naked Choke · 1:15 · R1', datetime.datetime(2018, 12, 15, 0, 0)], ['Win · Rear Naked Choke · 3:22 · R2', datetime.datetime(2018, 9, 22, 0, 0)], ['Win · Guillotine Choke · 2:18 · R1', datetime.datetime(2018, 6, 9, 0, 0)], ['Loss · Ground & Pound · 4:06 · R2', datetime.datetime(2017, 12, 2, 0, 0)], ['Win · Rear Naked Choke · 2:30 · R1', datetime.datetime(2017, 4, 8, 0, 0)], ['Loss · Guillotine Choke · 2:13 · R2', datetime.datetime(2016, 11, 5, 0, 0)], ['Loss · Guillotine Choke · 1:49 · R3', datetime.datetime(2016, 8, 27, 0, 0)], ['Win · Guillotine Choke · 3:05 · R1', datetime.datetime(2015, 12, 19, 0, 0)], ['Loss · Neck/Shoulder Injury · 1:39 · R1', datetime.datetime(2015, 8, 23, 0, 0)], ['Win · Guillotine Choke · 1:10 · R3', datetime.datetime(2015, 5, 30, 0, 0)], ['Win · Decision · Unanimous', datetime.datetime(2014, 12, 12, 0, 0)], ['Win · Modified Peruvian Choke · 4:32 · R2', datetime.datetime(2014, 6, 28, 0, 0)], ['Win · Triangle Choke · 2:40 · R3', datetime.datetime(2014, 2, 15, 0, 0)], ['Loss · Decision · Unanimous', datetime.datetime(2013, 7, 6, 0, 0)], ['Loss · Punches · 2:40 · R1', datetime.datetime(2012, 9, 22, 0, 0)], [\"Win · D'Arce Choke · 2:42 · R2\", datetime.datetime(2012, 6, 1, 0, 0)], ['Win · Calf Slicer · 1:43 · R1', datetime.datetime(2012, 1, 28, 0, 0)], ['Loss · Strikes · 3:01 · R1', datetime.datetime(2011, 8, 14, 0, 0)], ['Loss · Kneebar · 1:59 · R1', datetime.datetime(2010, 12, 11, 0, 0)], ['Win · Rear Naked Choke · 2:25 · R3', datetime.datetime(2010, 9, 15, 0, 0)], ['Win · Armbar · 0:41 · R1', datetime.datetime(2010, 8, 1, 0, 0)], ['Win', datetime.datetime(2010, 2, 14, 0, 0)], ['Win', datetime.datetime(2010, 2, 14, 0, 0)], ['Win', datetime.datetime(2009, 9, 26, 0, 0)], ['Win', datetime.datetime(2009, 9, 18, 0, 0)], ['Win · Rear Naked Choke · 3:33 · R1', datetime.datetime(2009, 4, 17, 0, 0)], ['Win', datetime.datetime(2009, 3, 21, 0, 0)], ['Win', datetime.datetime(2008, 12, 29, 0, 0)], ['Win', datetime.datetime(2008, 12, 29, 0, 0)], ['Win', datetime.datetime(2008, 12, 13, 0, 0)], ['Win', datetime.datetime(2008, 3, 15, 0, 0)], ['Win', datetime.datetime(2008, 3, 15, 0, 0)], ['Win', datetime.datetime(2008, 3, 15, 0, 0)], ['Win · Armbar', datetime.datetime(2007, 11, 3, 0, 0)]]\n",
      "chris weidman\n",
      "[['Loss · Broken Leg · 0:17 · R1', datetime.datetime(2021, 4, 24, 0, 0)], ['Win · Decision · Unanimous', datetime.datetime(2020, 8, 8, 0, 0)], ['Loss · Left Cross to Ground & Pound · 1:43 · R1', datetime.datetime(2019, 10, 18, 0, 0)], ['Loss · Punches · 2:46 · R3', datetime.datetime(2018, 11, 3, 0, 0)], ['Win · Arm Triangle Choke · 3:45 · R3', datetime.datetime(2017, 7, 22, 0, 0)], ['Loss · Knees · 3:13 · R2', datetime.datetime(2017, 4, 8, 0, 0)], ['Loss · Flying Knee & Punches · 0:24 · R3', datetime.datetime(2016, 11, 12, 0, 0)], ['Loss · Ground & Pound · 3:12 · R4', datetime.datetime(2015, 12, 12, 0, 0)], ['Win · Ground & Pound · 2:53 · R1', datetime.datetime(2015, 5, 23, 0, 0)], ['Win · Decision · Unanimous', datetime.datetime(2014, 7, 5, 0, 0)], ['Win · Broken Leg · 1:16 · R2', datetime.datetime(2013, 12, 28, 0, 0)], ['Win · Punches · 1:18 · R2', datetime.datetime(2013, 7, 6, 0, 0)], ['Win · Elbow & Punches · 1:37 · R2', datetime.datetime(2012, 7, 11, 0, 0)], ['Win · Decision · Split', datetime.datetime(2012, 1, 28, 0, 0)], [\"Win · D'Arce Choke · 2:07 · R1\", datetime.datetime(2011, 11, 19, 0, 0)], ['Win · Guillotine Choke · 4:54 · R1', datetime.datetime(2011, 6, 11, 0, 0)], ['Win · Decision · Unanimous', datetime.datetime(2011, 3, 3, 0, 0)], ['Win · Decision · Unanimous', datetime.datetime(2010, 12, 3, 0, 0)], ['Win · Punches · 3:06 · R1', datetime.datetime(2010, 9, 24, 0, 0)], ['Win · Punches · 2:38 · R1', datetime.datetime(2009, 4, 17, 0, 0)], ['Win · Kimura · 1:35 · R1', datetime.datetime(2009, 2, 20, 0, 0)]]\n",
      "cody garbrandt\n",
      "[['Loss · Punches · 3:21 · R1', datetime.datetime(2021, 12, 11, 0, 0)], ['Loss · Decision · Unanimous', datetime.datetime(2021, 5, 22, 0, 0)], ['Win · Right Hook · 4:59 · R2', datetime.datetime(2020, 6, 6, 0, 0)], ['Loss · Punches · 4:52 · R1', datetime.datetime(2019, 3, 2, 0, 0)], ['Loss · Punches · 4:17 · R1', datetime.datetime(2018, 8, 4, 0, 0)], ['Loss · Punches · 2:41 · R2', datetime.datetime(2017, 11, 4, 0, 0)], ['Win · Decision · Unanimous', datetime.datetime(2016, 12, 30, 0, 0)], ['Win · Punches · 0:48 · R1', datetime.datetime(2016, 8, 20, 0, 0)], ['Win · Punches · 2:53 · R1', datetime.datetime(2016, 5, 29, 0, 0)], ['Win · Punches · 4:18 · R1', datetime.datetime(2016, 2, 21, 0, 0)], ['Win · Decision · Unanimous', datetime.datetime(2015, 7, 11, 0, 0)], ['Win · Punches · 4:50 · R3', datetime.datetime(2015, 1, 3, 0, 0)], ['Win · KO/TKO · 1:37 · R1', datetime.datetime(2014, 10, 4, 0, 0)], ['Win · Punches · 2:17 · R1', datetime.datetime(2014, 5, 24, 0, 0)], ['Win · Punches · 0:32 · R2', datetime.datetime(2014, 3, 15, 0, 0)], ['Win · Punches · 3:57 · R1', datetime.datetime(2013, 11, 27, 0, 0)], ['Win · KO/TKO · 4:11 · R1', datetime.datetime(2012, 12, 29, 0, 0)], ['Win', datetime.datetime(2012, 9, 15, 0, 0)], ['Loss · Punch · 0:10 · R3', datetime.datetime(2012, 2, 18, 0, 0)], ['Win', datetime.datetime(2011, 6, 4, 0, 0)], ['Win', datetime.datetime(2011, 2, 25, 0, 0)], ['Win', datetime.datetime(2011, 1, 15, 0, 0)], ['Win', datetime.datetime(2010, 5, 22, 0, 0)], ['Win', datetime.datetime(2010, 4, 24, 0, 0)], ['Loss', datetime.datetime(2009, 7, 25, 0, 0)]]\n"
     ]
    },
    {
     "name": "stdout",
     "output_type": "stream",
     "text": [
      "conor mcgregor\n",
      "[['Loss · Doctor Stoppage (Broken Ankle) · 5:00 · R1', datetime.datetime(2021, 7, 10, 0, 0)], ['Loss · Punches · 2:32 · R2', datetime.datetime(2021, 1, 23, 0, 0)], ['Win · Head Kick & Punches · 0:40 · R1', datetime.datetime(2020, 1, 18, 0, 0)], ['Loss · Rear Naked Choke · 3:03 · R4', datetime.datetime(2018, 10, 6, 0, 0)], ['Loss · KO/TKO · 1:05 · R10', datetime.datetime(2017, 8, 26, 0, 0)], ['Win · Punches · 3:04 · R2', datetime.datetime(2016, 11, 12, 0, 0)], ['Win · Decision · Majority', datetime.datetime(2016, 8, 20, 0, 0)], ['Loss · Rear Naked Choke · 4:12 · R2', datetime.datetime(2016, 3, 5, 0, 0)], ['Win · Punches · 0:13 · R1', datetime.datetime(2015, 12, 12, 0, 0)], ['Win · Punches · 4:57 · R2', datetime.datetime(2015, 7, 11, 0, 0)], ['Win · Ground & Pound · 1:54 · R2', datetime.datetime(2015, 1, 18, 0, 0)], ['Win · Punches · 1:46 · R1', datetime.datetime(2014, 9, 27, 0, 0)], ['Win · Punches · 4:05 · R1', datetime.datetime(2014, 7, 19, 0, 0)], ['Win · Decision · Unanimous', datetime.datetime(2013, 8, 17, 0, 0)], ['Win · Punches · 1:07 · R1', datetime.datetime(2013, 4, 6, 0, 0)], ['Win · Punch · 3:40 · R1', datetime.datetime(2012, 12, 31, 0, 0)], ['Win · Rear Naked Choke · 4:10 · R2', datetime.datetime(2012, 6, 2, 0, 0)], ['Win · Elbows · 1:33 · R1', datetime.datetime(2012, 2, 18, 0, 0)], ['Win · Punches · 3:29 · R1', datetime.datetime(2011, 9, 8, 0, 0)], ['Win', datetime.datetime(2011, 6, 11, 0, 0)], ['Win', datetime.datetime(2011, 4, 16, 0, 0)], ['Win', datetime.datetime(2011, 3, 11, 0, 0)], ['Win', datetime.datetime(2011, 2, 12, 0, 0)], ['Loss', datetime.datetime(2010, 11, 27, 0, 0)], ['Win', datetime.datetime(2010, 10, 9, 0, 0)], ['Win', datetime.datetime(2008, 12, 12, 0, 0)], ['Loss', datetime.datetime(2008, 6, 27, 0, 0)], ['Win', datetime.datetime(2008, 5, 3, 0, 0)], ['Win', datetime.datetime(2008, 3, 8, 0, 0)], ['Win', datetime.datetime(2007, 2, 17, 0, 0)]]\n",
      "daniel cormier\n",
      "[['Loss · Decision · Unanimous', datetime.datetime(2020, 8, 15, 0, 0)], ['Loss · Punches · 4:09 · R4', datetime.datetime(2019, 8, 17, 0, 0)], ['Win · Rear Naked Choke · 2:14 · R2', datetime.datetime(2018, 11, 3, 0, 0)], ['Win · Punches · 4:33 · R1', datetime.datetime(2018, 7, 7, 0, 0)], ['Win · Ground & Pound · 2:00 · R2', datetime.datetime(2018, 1, 20, 0, 0)], ['Win · Rear Naked Choke · 3:37 · R2', datetime.datetime(2017, 4, 8, 0, 0)], ['Win · Decision · Unanimous', datetime.datetime(2016, 7, 9, 0, 0)], ['Win · Decision · Split', datetime.datetime(2015, 10, 3, 0, 0)], ['Win · Rear Naked Choke · 2:39 · R3', datetime.datetime(2015, 5, 23, 0, 0)], ['Loss · Decision · Unanimous', datetime.datetime(2015, 1, 3, 0, 0)], ['Win · Rear Naked Choke · 3:53 · R3', datetime.datetime(2014, 5, 24, 0, 0)], ['Win · Punches · 1:19 · R1', datetime.datetime(2014, 2, 22, 0, 0)], ['Win · Decision · Unanimous', datetime.datetime(2013, 10, 19, 0, 0)], ['Win · Decision · Unanimous', datetime.datetime(2013, 4, 20, 0, 0)], ['Win · Punches · 4:02 · R2', datetime.datetime(2013, 1, 12, 0, 0)], ['Win · Decision · Unanimous', datetime.datetime(2012, 5, 19, 0, 0)], ['Win · Punches · 3:56 · R1', datetime.datetime(2011, 9, 10, 0, 0)], ['Win · Decision · Unanimous', datetime.datetime(2011, 6, 18, 0, 0)], ['Win · Decision · Unanimous', datetime.datetime(2011, 1, 7, 0, 0)], ['Win', datetime.datetime(2010, 11, 5, 0, 0)], ['Win · Punches · 1:02 · R1', datetime.datetime(2010, 8, 21, 0, 0)], ['Win · Rear Naked Choke · 2:27 · R1', datetime.datetime(2010, 8, 13, 0, 0)], ['Win', datetime.datetime(2010, 7, 31, 0, 0)], ['Win · Punch · 1:09 · R1', datetime.datetime(2010, 3, 27, 0, 0)], ['Win · Punches · 3:39 · R2', datetime.datetime(2009, 9, 25, 0, 0)], ['Loss', datetime.datetime(2004, 8, 29, 0, 0)], ['Loss', datetime.datetime(2004, 8, 29, 0, 0)], ['Win', datetime.datetime(2004, 8, 29, 0, 0)], ['Win', datetime.datetime(2004, 8, 29, 0, 0)]]\n",
      "deiveson figueiredo\n",
      "[['Win · Decision · Unanimous', datetime.datetime(2022, 1, 22, 0, 0)], ['Loss · Rear Naked Choke · 2:26 · R3', datetime.datetime(2021, 6, 12, 0, 0)], ['Draw · Decision · Majority', datetime.datetime(2020, 12, 12, 0, 0)], ['Win · Guillotine Choke · 1:57 · R1', datetime.datetime(2020, 11, 21, 0, 0)], ['Win · Rear Naked Choke · 4:48 · R1', datetime.datetime(2020, 7, 18, 0, 0)], ['Win · Right Cross to Ground & Pound · 1:54 · R2', datetime.datetime(2020, 2, 29, 0, 0)], ['Win · Guillotine Choke · 3:08 · R1', datetime.datetime(2019, 10, 12, 0, 0)], ['Win · Decision · Unanimous', datetime.datetime(2019, 7, 27, 0, 0)], ['Loss · Decision · Unanimous', datetime.datetime(2019, 3, 23, 0, 0)], ['Win · Body Punch · 3:08 · R2', datetime.datetime(2018, 8, 25, 0, 0)], ['Win · Punches · 4:34 · R2', datetime.datetime(2018, 2, 3, 0, 0)], ['Win · Decision · Split', datetime.datetime(2017, 10, 28, 0, 0)], ['Win · Corner Stoppage · 5:00 · R2', datetime.datetime(2017, 6, 3, 0, 0)], ['Win', datetime.datetime(2016, 12, 1, 0, 0)], ['Win · Punch · 2:52 · R2', datetime.datetime(2016, 9, 3, 0, 0)], ['Win · Guillotine Choke · 2:38 · R1', datetime.datetime(2016, 5, 21, 0, 0)], ['Win · Punches · 3:20 · R2', datetime.datetime(2014, 12, 18, 0, 0)], ['Win · KO/TKO · 2:18 · R1', datetime.datetime(2014, 11, 13, 0, 0)], ['Win · KO/TKO · 3:30 · R1', datetime.datetime(2014, 8, 7, 0, 0)], ['Win', datetime.datetime(2014, 7, 3, 0, 0)], ['Win', datetime.datetime(2014, 5, 1, 0, 0)], ['Win', datetime.datetime(2014, 3, 20, 0, 0)], ['Win', datetime.datetime(2012, 8, 11, 0, 0)], ['Win', datetime.datetime(2012, 2, 17, 0, 0)]]\n",
      "demetrious johnson\n",
      "[['Loss · Uppercut, Knee & Ground & Pound · 2:24 · R2', datetime.datetime(2021, 4, 7, 0, 0)], ['Win · Decision · Unanimous', datetime.datetime(2019, 10, 12, 0, 0)], ['Win · Decision · Unanimous', datetime.datetime(2019, 8, 2, 0, 0)], ['Win · Guillotine Choke · 2:40 · R2', datetime.datetime(2019, 3, 31, 0, 0)], ['Loss · Decision · Split', datetime.datetime(2018, 8, 4, 0, 0)], ['Win · Armbar · 3:15 · R5', datetime.datetime(2017, 10, 7, 0, 0)], ['Win · Armbar · 4:49 · R3', datetime.datetime(2017, 4, 15, 0, 0)], ['Win · Decision · Unanimous', datetime.datetime(2016, 12, 3, 0, 0)], ['Win · Knees & Punches · 2:49 · R1', datetime.datetime(2016, 4, 23, 0, 0)], ['Win · Decision · Unanimous', datetime.datetime(2015, 9, 5, 0, 0)], ['Win · Armbar · 4:59 · R5', datetime.datetime(2015, 4, 25, 0, 0)], ['Win · Kimura · 2:29 · R2', datetime.datetime(2014, 9, 27, 0, 0)], ['Win · Decision · Unanimous', datetime.datetime(2014, 6, 14, 0, 0)], ['Win · Punches · 2:08 · R1', datetime.datetime(2013, 12, 14, 0, 0)], ['Win · Armbar · 3:43 · R5', datetime.datetime(2013, 7, 27, 0, 0)], ['Win · Decision · Unanimous', datetime.datetime(2013, 1, 26, 0, 0)], ['Win · Decision · Split', datetime.datetime(2012, 9, 22, 0, 0)], ['Win · Decision · Unanimous', datetime.datetime(2012, 6, 8, 0, 0)], ['Draw · Decision · Majority', datetime.datetime(2012, 3, 2, 0, 0)], ['Loss · Decision · Unanimous', datetime.datetime(2011, 10, 1, 0, 0)], ['Win · Decision · Unanimous', datetime.datetime(2011, 5, 28, 0, 0)], ['Win · Decision · Unanimous', datetime.datetime(2011, 2, 5, 0, 0)], ['Win · Guillotine Choke · 2:27 · R3', datetime.datetime(2010, 11, 11, 0, 0)], ['Win · Decision · Unanimous', datetime.datetime(2010, 9, 30, 0, 0)], ['Loss · Decision · Unanimous', datetime.datetime(2010, 4, 24, 0, 0)], ['Win', datetime.datetime(2010, 2, 10, 0, 0)], ['Win', datetime.datetime(2010, 1, 13, 0, 0)], ['Win · Rear Naked Choke · 4:38 · R1', datetime.datetime(2009, 8, 15, 0, 0)], ['Win', datetime.datetime(2009, 6, 27, 0, 0)], ['Win', datetime.datetime(2008, 12, 6, 0, 0)], ['Win', datetime.datetime(2008, 8, 16, 0, 0)], ['Win', datetime.datetime(2008, 3, 29, 0, 0)], ['Win', datetime.datetime(2008, 3, 8, 0, 0)], ['Result Unknown', datetime.datetime(2007, 6, 2, 0, 0)], ['Win · Decision', datetime.datetime(2007, 2, 10, 0, 0)], ['Win · Decision · Unanimous', datetime.datetime(2007, 9, 22, 0, 0)], ['Win · Punch · 0:17 · R1', datetime.datetime(2007, 4, 28, 0, 0)], ['Win · Punches · 2:29 · R1', datetime.datetime(2006, 7, 29, 0, 0)]]\n",
      "dominick cruz\n",
      "[['Win · Decision · Unanimous', datetime.datetime(2021, 12, 11, 0, 0)], ['Win · Decision · Split', datetime.datetime(2021, 3, 6, 0, 0)], ['Loss · Knee & Punches · 4:58 · R2', datetime.datetime(2020, 5, 9, 0, 0)], ['Loss · Decision · Unanimous', datetime.datetime(2016, 12, 30, 0, 0)], ['Win · Decision · Unanimous', datetime.datetime(2016, 6, 4, 0, 0)], ['Win · Decision · Split', datetime.datetime(2016, 1, 17, 0, 0)], ['Win · Punches · 1:01 · R1', datetime.datetime(2014, 9, 27, 0, 0)], ['Win · Decision · Unanimous', datetime.datetime(2011, 10, 1, 0, 0)], ['Win · Decision · Unanimous', datetime.datetime(2011, 7, 2, 0, 0)], ['Win · Decision · Unanimous', datetime.datetime(2010, 12, 16, 0, 0)], ['Win · Decision · Split', datetime.datetime(2010, 8, 18, 0, 0)], ['Win · Doctor Stoppage · 5:00 · R2', datetime.datetime(2010, 3, 6, 0, 0)], ['Win · Decision · Unanimous', datetime.datetime(2009, 8, 9, 0, 0)], ['Win · Decision · Unanimous', datetime.datetime(2009, 4, 5, 0, 0)], ['Win · Decision · Unanimous', datetime.datetime(2009, 1, 25, 0, 0)], ['Win · Decision · Unanimous', datetime.datetime(2008, 6, 1, 0, 0)], ['Win', datetime.datetime(2008, 3, 22, 0, 0)], ['Loss · Guillotine Choke · 1:38 · R1', datetime.datetime(2007, 3, 24, 0, 0)], ['Win', datetime.datetime(2006, 11, 4, 0, 0)], ['Win', datetime.datetime(2006, 9, 9, 0, 0)], ['Win', datetime.datetime(2006, 7, 15, 0, 0)], ['Win', datetime.datetime(2006, 2, 24, 0, 0)], ['Win · Decision · Unanimous', datetime.datetime(2005, 9, 30, 0, 0)], ['Win · Punches · 1:09 · R2', datetime.datetime(2005, 9, 10, 0, 0)], ['Win · Punches · 0:56 · R1', datetime.datetime(2005, 8, 6, 0, 0)], ['Win · Punches · 1:26 · R2', datetime.datetime(2005, 6, 11, 0, 0)], ['Win · Decision · Split', datetime.datetime(2005, 1, 29, 0, 0)]]\n"
     ]
    },
    {
     "name": "stdout",
     "output_type": "stream",
     "text": [
      "dominick reyes\n",
      "[['Loss · Spinning Elbow · 4:29 · R2', datetime.datetime(2021, 5, 1, 0, 0)], ['Loss · Punches · 4:36 · R2', datetime.datetime(2020, 9, 26, 0, 0)], ['Loss · Decision · Unanimous', datetime.datetime(2020, 2, 8, 0, 0)], ['Win · Left Cross to Ground & Pound · 1:43 · R1', datetime.datetime(2019, 10, 18, 0, 0)], ['Win · Decision · Split', datetime.datetime(2019, 3, 16, 0, 0)], ['Win · Decision · Unanimous', datetime.datetime(2018, 10, 6, 0, 0)], ['Win · Punches · 2:55 · R1', datetime.datetime(2018, 5, 19, 0, 0)], ['Win · Rear Naked Choke · 3:39 · R1', datetime.datetime(2017, 12, 2, 0, 0)], ['Win · Punches · 0:29 · R1', datetime.datetime(2017, 6, 25, 0, 0)], ['Win · Head Kick · 0:53 · R1', datetime.datetime(2017, 6, 2, 0, 0)], ['Win · Punches · 0:27 · R1', datetime.datetime(2017, 2, 11, 0, 0)], ['Win · KO/TKO · 1:35 · R1', datetime.datetime(2016, 9, 18, 0, 0)], ['Win · Decision · Unanimous', datetime.datetime(2015, 10, 17, 0, 0)], ['Win · Guillotine Choke · 0:55 · R1', datetime.datetime(2015, 4, 3, 0, 0)], ['Win · KO/TKO · 3:23 · R1', datetime.datetime(2014, 12, 4, 0, 0)], ['Win · KO/TKO · 0:09 · R1', datetime.datetime(2014, 8, 24, 0, 0)], ['Win · Submission · 0:27 · R1', datetime.datetime(2014, 6, 1, 0, 0)], ['Win · Decision · Unanimous', datetime.datetime(2014, 3, 30, 0, 0)], ['Win · Punch · 1:20 · R1', datetime.datetime(2014, 1, 25, 0, 0)], ['Win', datetime.datetime(2013, 12, 8, 0, 0)]]\n",
      "eddie alvarez\n",
      "[['Loss · Decision · Unanimous', datetime.datetime(2021, 4, 28, 0, 0)], ['Win · Rear Naked Choke · 2:16 · R1', datetime.datetime(2019, 8, 2, 0, 0)], ['Loss · Punches · 4:05 · R1', datetime.datetime(2019, 3, 31, 0, 0)], ['Loss · Punches · 4:05 · R2', datetime.datetime(2018, 7, 28, 0, 0)], ['Win · Knee & Punches · 3:59 · R3', datetime.datetime(2017, 12, 2, 0, 0)], ['Loss · Punches · 3:04 · R2', datetime.datetime(2016, 11, 12, 0, 0)], ['Win · Punches · 3:49 · R1', datetime.datetime(2016, 7, 7, 0, 0)], ['Win · Decision · Split', datetime.datetime(2016, 1, 17, 0, 0)], ['Win · Decision · Split', datetime.datetime(2015, 6, 13, 0, 0)], ['Loss · Decision · Unanimous', datetime.datetime(2014, 9, 27, 0, 0)], ['Win · Decision · Split', datetime.datetime(2013, 11, 2, 0, 0)], ['Win · Head Kick · 4:54 · R1', datetime.datetime(2012, 10, 12, 0, 0)], ['Win · Punches · 2:14 · R1', datetime.datetime(2012, 4, 20, 0, 0)], ['Loss · Rear Naked Choke · 3:06 · R4', datetime.datetime(2011, 11, 19, 0, 0)], ['Win · Decision · Unanimous', datetime.datetime(2011, 4, 2, 0, 0)], ['Win · Doctor Stoppage · 5:00 · R2', datetime.datetime(2010, 10, 21, 0, 0)], ['Win · Rear Naked Choke · 2:08 · R2', datetime.datetime(2010, 5, 6, 0, 0)], ['Win · Arm-Triangle Choke · 3:42 · R2', datetime.datetime(2009, 10, 25, 0, 0)], ['Win · Rear Naked Choke · 0:38 · R2', datetime.datetime(2009, 6, 19, 0, 0)], ['Win · Rear Naked Choke · 1:30 · R3', datetime.datetime(2009, 5, 1, 0, 0)], ['Win · Guillotine Choke · 2:44 · R1', datetime.datetime(2009, 4, 3, 0, 0)], ['Loss · Heel Hook · 1:32 · R1', datetime.datetime(2008, 12, 31, 0, 0)], ['Win · Punches · 7:35 · R1', datetime.datetime(2008, 7, 21, 0, 0)], ['Win · Decision · Unanimous', datetime.datetime(2008, 5, 11, 0, 0)], ['Win · Punches · 6:47 · R1', datetime.datetime(2008, 3, 15, 0, 0)], ['Win · Punches · 2:32 · R2', datetime.datetime(2008, 1, 25, 0, 0)], ['Win', datetime.datetime(2007, 7, 14, 0, 0)], ['Loss · Punches · 4:32 · R2', datetime.datetime(2007, 4, 14, 0, 0)], ['Win', datetime.datetime(2007, 2, 17, 0, 0)], ['Win · Punches · 1:05 · R1', datetime.datetime(2006, 12, 2, 0, 0)], ['Win · Punches · 1:26 · R1', datetime.datetime(2006, 8, 26, 0, 0)], ['Win · Punches · 1:01 · R1', datetime.datetime(2006, 6, 3, 0, 0)], ['Win · Punches · 4:00 · R1', datetime.datetime(2005, 11, 5, 0, 0)], ['Win · Punches · 2:15 · R2', datetime.datetime(2005, 5, 14, 0, 0)], ['Win · Punches · 1:25 · R2', datetime.datetime(2005, 2, 26, 0, 0)], ['Win · Punches · 1:00 · R1', datetime.datetime(2004, 10, 16, 0, 0)], ['Win · Punches · 2:06 · R1', datetime.datetime(2004, 4, 24, 0, 0)], ['Win · Punches · 3:57 · R1', datetime.datetime(2003, 12, 14, 0, 0)]]\n",
      "fabricio werdum\n",
      "[['Win · Armbar · 2:30 · R1', datetime.datetime(2020, 7, 25, 0, 0)], ['Loss · Decision · Split', datetime.datetime(2020, 5, 9, 0, 0)], ['Loss · Punches · 1:38 · R4', datetime.datetime(2018, 3, 17, 0, 0)], ['Win · Decision · Unanimous', datetime.datetime(2017, 11, 18, 0, 0)], ['Win · Armbar · 1:05 · R1', datetime.datetime(2017, 10, 7, 0, 0)], ['Loss · Decision · Majority', datetime.datetime(2017, 7, 8, 0, 0)], ['Win · Decision · Unanimous', datetime.datetime(2016, 9, 10, 0, 0)], ['Loss · Punch · 2:47 · R1', datetime.datetime(2016, 5, 14, 0, 0)], ['Win · Guillotine Choke · 2:13 · R3', datetime.datetime(2015, 6, 13, 0, 0)], ['Win · Flying Knee & Ground & Pound · 2:27 · R2', datetime.datetime(2014, 11, 15, 0, 0)], ['Win · Decision · Unanimous', datetime.datetime(2014, 4, 19, 0, 0)], ['Win · Armbar · 2:41 · R2', datetime.datetime(2013, 6, 8, 0, 0)], ['Win · Punches · 2:28 · R1', datetime.datetime(2012, 6, 23, 0, 0)], ['Win · Decision · Unanimous', datetime.datetime(2012, 2, 4, 0, 0)], ['Loss', datetime.datetime(2011, 9, 24, 0, 0)], ['Loss · Decision · Unanimous', datetime.datetime(2011, 6, 18, 0, 0)], ['Win · Triangle Armbar · 1:09 · R1', datetime.datetime(2010, 6, 26, 0, 0)], ['Win · Decision · Unanimous', datetime.datetime(2009, 11, 7, 0, 0)], ['Win', datetime.datetime(2009, 9, 26, 0, 0)], ['Win · Guillotine Choke · 1:24 · R1', datetime.datetime(2009, 8, 15, 0, 0)], ['Loss · Punches · 1:21 · R1', datetime.datetime(2008, 10, 25, 0, 0)], ['Win · Punches · 4:40 · R1', datetime.datetime(2008, 6, 7, 0, 0)], ['Win · Punches · 4:34 · R2', datetime.datetime(2008, 1, 19, 0, 0)], ['Win', datetime.datetime(2007, 5, 4, 0, 0)], ['Loss · Decision · Unanimous', datetime.datetime(2007, 4, 21, 0, 0)], ['Win · Arm-Triangle Choke · 3:24 · R1', datetime.datetime(2006, 11, 12, 0, 0)], ['Loss · Decision · Unanimous', datetime.datetime(2006, 7, 1, 0, 0)], ['Win · Kimura · 3:43 · R2', datetime.datetime(2006, 5, 5, 0, 0)], ['Win · Decision · Unanimous', datetime.datetime(2006, 2, 26, 0, 0)], ['Loss · Decision · Split', datetime.datetime(2005, 10, 23, 0, 0)], ['Win · Triangle Armbar · 6:01 · R1', datetime.datetime(2005, 8, 28, 0, 0)], ['Win · Rear Naked Choke · 5:11 · R1', datetime.datetime(2005, 2, 20, 0, 0)], ['Win', datetime.datetime(2004, 7, 25, 0, 0)], ['Win', datetime.datetime(2004, 5, 15, 0, 0)], ['Win', datetime.datetime(2003, 9, 13, 0, 0)], ['Win', datetime.datetime(2003, 8, 1, 0, 0)], ['Loss', datetime.datetime(2003, 5, 17, 0, 0)], ['Win', datetime.datetime(2003, 3, 22, 0, 0)], ['Draw', datetime.datetime(2002, 9, 22, 0, 0)], ['Win', datetime.datetime(2002, 6, 16, 0, 0)]]\n",
      "frankie edgar\n",
      "[['Loss · Front Kick · 3:50 · R3', datetime.datetime(2021, 11, 6, 0, 0)], ['Loss · Flying Knee · 0:28 · R1', datetime.datetime(2021, 2, 6, 0, 0)], ['Win · Decision · Split', datetime.datetime(2020, 8, 22, 0, 0)], ['Loss · Punches · 3:18 · R1', datetime.datetime(2019, 12, 21, 0, 0)], ['Loss · Decision · Unanimous', datetime.datetime(2019, 7, 27, 0, 0)], ['Win · Decision · Unanimous', datetime.datetime(2018, 4, 21, 0, 0)], ['Loss · Punches · 4:44 · R1', datetime.datetime(2018, 3, 3, 0, 0)], ['Win · Doctor Stoppage · 5:00 · R2', datetime.datetime(2017, 5, 13, 0, 0)], ['Win · Decision · Unanimous', datetime.datetime(2016, 11, 12, 0, 0)], ['Loss · Decision · Unanimous', datetime.datetime(2016, 7, 9, 0, 0)], ['Win · Punches · 2:28 · R1', datetime.datetime(2015, 12, 11, 0, 0)], ['Win · Decision · Unanimous', datetime.datetime(2015, 5, 16, 0, 0)], ['Win · Neck Crank · 4:56 · R5', datetime.datetime(2014, 11, 22, 0, 0)], ['Win · Punches · 4:16 · R3', datetime.datetime(2014, 7, 6, 0, 0)], ['Win · Decision · Unanimous', datetime.datetime(2013, 7, 6, 0, 0)], ['Loss · Decision · Unanimous', datetime.datetime(2013, 2, 2, 0, 0)], ['Loss · Decision · Split', datetime.datetime(2012, 8, 11, 0, 0)], ['Loss · Decision · Unanimous', datetime.datetime(2012, 2, 25, 0, 0)], ['Win · Punches · 3:54 · R4', datetime.datetime(2011, 10, 8, 0, 0)], ['Draw · Decision · Split', datetime.datetime(2011, 1, 1, 0, 0)], ['Win · Decision · Unanimous', datetime.datetime(2010, 8, 28, 0, 0)], ['Win · Decision · Unanimous', datetime.datetime(2010, 4, 10, 0, 0)], ['Win · Rear Naked Choke · 2:22 · R2', datetime.datetime(2009, 12, 5, 0, 0)], ['Win · Decision · Unanimous', datetime.datetime(2009, 5, 23, 0, 0)], ['Win · Decision · Unanimous', datetime.datetime(2008, 7, 19, 0, 0)], ['Loss · Decision · Unanimous', datetime.datetime(2008, 4, 2, 0, 0)], ['Win · Decision · Unanimous', datetime.datetime(2007, 11, 17, 0, 0)], ['Win · Punches · 4:55 · R1', datetime.datetime(2007, 7, 7, 0, 0)], ['Win · Decision · Unanimous', datetime.datetime(2007, 2, 3, 0, 0)], ['Win · Decision · Unanimous', datetime.datetime(2006, 11, 18, 0, 0)], ['Win · Decision · Unanimous', datetime.datetime(2006, 8, 5, 0, 0)], ['Win · Guillotine Choke · 2:37 · R1', datetime.datetime(2006, 4, 14, 0, 0)], ['Win · Choke · 3:26 · R1', datetime.datetime(2005, 12, 10, 0, 0)], ['Win · Punches · 4:21 · R1', datetime.datetime(2005, 10, 29, 0, 0)], ['Win', datetime.datetime(2005, 7, 10, 0, 0)]]\n"
     ]
    },
    {
     "name": "stdout",
     "output_type": "stream",
     "text": [
      "henry cejudo\n",
      "[['Win · Knee & Punches · 4:58 · R2', datetime.datetime(2020, 5, 9, 0, 0)], ['Win · Ground & Pound · 4:51 · R3', datetime.datetime(2019, 6, 8, 0, 0)], ['Win · Punches · 0:32 · R1', datetime.datetime(2019, 1, 19, 0, 0)], ['Win · Decision · Split', datetime.datetime(2018, 8, 4, 0, 0)], ['Win · Decision · Unanimous', datetime.datetime(2017, 12, 2, 0, 0)], ['Win · Punches · 0:25 · R2', datetime.datetime(2017, 9, 9, 0, 0)], ['Loss · Decision · Split', datetime.datetime(2016, 12, 3, 0, 0)], ['Loss · Knees & Punches · 2:49 · R1', datetime.datetime(2016, 4, 23, 0, 0)], ['Win · Decision · Split', datetime.datetime(2015, 11, 21, 0, 0)], ['Win · Decision · Unanimous', datetime.datetime(2015, 6, 13, 0, 0)], ['Win · Decision · Unanimous', datetime.datetime(2015, 3, 14, 0, 0)], ['Win · Decision · Unanimous', datetime.datetime(2014, 12, 13, 0, 0)], ['Win · Decision · Unanimous', datetime.datetime(2014, 1, 31, 0, 0)], ['Win · Decision · Unanimous', datetime.datetime(2013, 10, 11, 0, 0)], ['Win · Punches · 1:43 · R1', datetime.datetime(2013, 5, 18, 0, 0)], ['Win · Punches · 4:23 · R1', datetime.datetime(2013, 4, 19, 0, 0)], ['Win · Punches · 4:55 · R1', datetime.datetime(2013, 3, 24, 0, 0)], ['Win · Strikes · 1:25 · R1', datetime.datetime(2013, 3, 2, 0, 0)], ['Win', datetime.datetime(2008, 8, 19, 0, 0)], ['Win', datetime.datetime(2008, 8, 19, 0, 0)], ['Win', datetime.datetime(2008, 8, 19, 0, 0)], ['Win', datetime.datetime(2008, 8, 19, 0, 0)]]\n",
      "holly holm\n",
      "[['Win · Decision · Unanimous', datetime.datetime(2020, 10, 3, 0, 0)], ['Win · Decision · Unanimous', datetime.datetime(2020, 1, 18, 0, 0)], ['Loss · Head Kick & Punches · 4:10 · R1', datetime.datetime(2019, 7, 6, 0, 0)], ['Win · Decision · Unanimous', datetime.datetime(2018, 6, 9, 0, 0)], ['Loss · Decision · Unanimous', datetime.datetime(2017, 12, 30, 0, 0)], ['Win · Head Kick & Punch · 1:09 · R3', datetime.datetime(2017, 6, 17, 0, 0)], ['Loss · Decision · Unanimous', datetime.datetime(2017, 2, 11, 0, 0)], ['Loss · Decision · Unanimous', datetime.datetime(2016, 7, 23, 0, 0)], ['Loss · Rear Naked Choke · 3:30 · R5', datetime.datetime(2016, 3, 5, 0, 0)], ['Win · Head Kick & Punches · 0:59 · R2', datetime.datetime(2015, 11, 14, 0, 0)], ['Win · Decision · Unanimous', datetime.datetime(2015, 7, 15, 0, 0)], ['Win · Decision · Split', datetime.datetime(2015, 2, 28, 0, 0)], ['Win · Head Kick & Punches · 1:50 · R5', datetime.datetime(2014, 4, 4, 0, 0)], ['Win · Decision · Unanimous', datetime.datetime(2013, 12, 6, 0, 0)], ['Win · Knees & Punches · 1:18 · R2', datetime.datetime(2013, 10, 11, 0, 0)], ['Win · Head Kick · 2:22 · R2', datetime.datetime(2013, 7, 19, 0, 0)], ['Win · Punches · 3:02 · R2', datetime.datetime(2013, 2, 28, 0, 0)], ['Win', datetime.datetime(2011, 9, 9, 0, 0)], ['Win', datetime.datetime(2011, 3, 3, 0, 0)], ['Win · Decision · Unanimous', datetime.datetime(2006, 12, 1, 0, 0)], ['Win · KO/TKO · 1:30 · R1', datetime.datetime(2003, 8, 9, 0, 0)], ['Loss · KO/TKO', datetime.datetime(2003, 4, 6, 0, 0)], ['Win · KO/TKO', datetime.datetime(2002, 6, 1, 0, 0)], ['Win · Decision · Unanimous', datetime.datetime(2001, 9, 9, 0, 0)], ['Win · KO/TKO · 0:34 · R1', datetime.datetime(2001, 9, 9, 0, 0)]]\n",
      "israel adesanya\n",
      "[['Win · Decision · Unanimous', datetime.datetime(2021, 6, 12, 0, 0)], ['Loss · Decision · Unanimous', datetime.datetime(2021, 3, 6, 0, 0)], ['Win · Left Hook to Ground & Pound · 3:59 · R2', datetime.datetime(2020, 9, 26, 0, 0)], ['Win · Decision · Unanimous', datetime.datetime(2020, 3, 7, 0, 0)], ['Win · Counter Left Hook · 3:33 · R2', datetime.datetime(2019, 10, 5, 0, 0)], ['Win · Decision · Unanimous', datetime.datetime(2019, 4, 13, 0, 0)], ['Win · Decision · Unanimous', datetime.datetime(2019, 2, 9, 0, 0)], ['Win · Knees & Punches · 4:51 · R1', datetime.datetime(2018, 11, 3, 0, 0)], ['Win · Decision · Unanimous', datetime.datetime(2018, 7, 6, 0, 0)], ['Win · Decision · Split', datetime.datetime(2018, 4, 14, 0, 0)], ['Win · Knees & Punches · 3:37 · R2', datetime.datetime(2018, 2, 10, 0, 0)], ['Win · Kick · 4:53 · R1', datetime.datetime(2017, 11, 24, 0, 0)], ['Win · KO/TKO · 4:49 · R1', datetime.datetime(2017, 7, 28, 0, 0)], ['Loss · KO/TKO', datetime.datetime(2017, 3, 4, 0, 0)], ['Loss · Decision · Unanimous', datetime.datetime(2017, 1, 20, 0, 0)], ['Win · Decision · Split', datetime.datetime(2016, 10, 21, 0, 0)], ['Win · Decision · Unanimous', datetime.datetime(2016, 10, 21, 0, 0)], ['Win · Kick · 1:45 · R2', datetime.datetime(2016, 10, 1, 0, 0)], ['Win · Decision · Unanimous', datetime.datetime(2016, 9, 17, 0, 0)], ['Win · Decision · Unanimous', datetime.datetime(2016, 8, 6, 0, 0)], ['Win', datetime.datetime(2016, 7, 2, 0, 0)], ['Win · Decision · Unanimous', datetime.datetime(2016, 6, 25, 0, 0)], ['Win · KO/TKO · 1:05 · R2', datetime.datetime(2016, 5, 28, 0, 0)], ['Win · Retirement · 5:00 · R1', datetime.datetime(2016, 5, 7, 0, 0)], ['Loss · Decision · Unanimous', datetime.datetime(2016, 4, 2, 0, 0)], ['Win · Punches · 2:23 · R2', datetime.datetime(2016, 3, 12, 0, 0)], ['Win · Punch to the Body', datetime.datetime(2016, 1, 30, 0, 0)], ['Win · Cut', datetime.datetime(2016, 1, 13, 0, 0)], ['Win · Decision · Unanimous', datetime.datetime(2015, 11, 3, 0, 0)], ['Win · Decision · Unanimous', datetime.datetime(2015, 11, 3, 0, 0)], ['Win · Decision · Unanimous', datetime.datetime(2015, 10, 31, 0, 0)], ['Win · Punch', datetime.datetime(2015, 10, 31, 0, 0)], ['Win · Corner Stoppage', datetime.datetime(2015, 10, 31, 0, 0)], ['Win · Elbows · 3:37 · R2', datetime.datetime(2015, 9, 19, 0, 0)], ['Win · Body Kick · 1:25 · R2', datetime.datetime(2015, 9, 5, 0, 0)], ['Win · Kick · 1:59 · R1', datetime.datetime(2015, 8, 8, 0, 0)], ['Win · Head Kick, Punches · 1:03 · R1', datetime.datetime(2015, 4, 11, 0, 0)], ['Win · Knee, Punch · 1:58 · R2', datetime.datetime(2015, 4, 11, 0, 0)], ['Win · Leg Kick, Punches · 0:46 · R3', datetime.datetime(2015, 4, 11, 0, 0)], ['Win · Decision · Split', datetime.datetime(2015, 3, 28, 0, 0)], ['Win · Decision · Majority', datetime.datetime(2015, 3, 28, 0, 0)], ['Win · KO/TKO', datetime.datetime(2015, 3, 28, 0, 0)], ['Win · KO/TKO', datetime.datetime(2015, 2, 14, 0, 0)], ['Loss · Decision · Unanimous', datetime.datetime(2014, 11, 22, 0, 0)], ['Win · Knee', datetime.datetime(2014, 10, 11, 0, 0)], ['Win · Punches, Knee · 0:55 · R1', datetime.datetime(2014, 8, 30, 0, 0)], ['Win · Punch', datetime.datetime(2014, 8, 30, 0, 0)], ['Win · Decision · Unanimous', datetime.datetime(2014, 8, 30, 0, 0)], ['Win · KO/TKO', datetime.datetime(2014, 5, 24, 0, 0)], ['Loss · Decision · Unanimous', datetime.datetime(2014, 4, 14, 0, 0)], ['Loss · Decision · Unanimous', datetime.datetime(2014, 2, 16, 0, 0)], ['Win · KO/TKO', datetime.datetime(2013, 11, 27, 0, 0)], ['Win', datetime.datetime(2013, 6, 15, 0, 0)], ['Win · Decision · Unanimous', datetime.datetime(2013, 1, 1, 0, 0)], ['Win · Punches', datetime.datetime(2012, 7, 21, 0, 0)], ['Win · Decision · Unanimous', datetime.datetime(2012, 6, 23, 0, 0)], ['Win', datetime.datetime(2012, 3, 24, 0, 0)], ['Win · Decision · Unanimous', datetime.datetime(2012, 2, 25, 0, 0)], ['Win · KO/TKO', datetime.datetime(2011, 9, 24, 0, 0)], ['Loss', datetime.datetime(2009, 11, 28, 0, 0)]]\n",
      "jan blachowicz\n",
      "[['Loss · Rear Naked Choke · 3:02 · R2', datetime.datetime(2021, 10, 30, 0, 0)], ['Win · Decision · Unanimous', datetime.datetime(2021, 3, 6, 0, 0)], ['Win · Punches · 4:36 · R2', datetime.datetime(2020, 9, 26, 0, 0)], ['Win · Right Hook · 3:08 · R1', datetime.datetime(2020, 2, 15, 0, 0)], ['Win · Decision · Split', datetime.datetime(2019, 11, 16, 0, 0)], ['Win · Left Hook to Ground & Pound · 1:39 · R2', datetime.datetime(2019, 7, 6, 0, 0)], ['Loss · Punches · 0:39 · R3', datetime.datetime(2019, 2, 23, 0, 0)], ['Win · Arm Triangle Choke · 2:41 · R2', datetime.datetime(2018, 9, 15, 0, 0)], ['Win · Decision · Unanimous', datetime.datetime(2018, 3, 17, 0, 0)], ['Win · Decision · Unanimous', datetime.datetime(2017, 12, 16, 0, 0)], ['Win · Rear Naked Choke · 3:02 · R2', datetime.datetime(2017, 10, 21, 0, 0)], ['Loss · Decision · Majority', datetime.datetime(2017, 4, 8, 0, 0)], ['Loss · Decision · Unanimous', datetime.datetime(2016, 9, 3, 0, 0)], ['Win · Decision · Unanimous', datetime.datetime(2016, 4, 10, 0, 0)], ['Loss · Decision · Unanimous', datetime.datetime(2015, 9, 5, 0, 0)], ['Loss · Decision · Unanimous', datetime.datetime(2015, 4, 11, 0, 0)], ['Win · Body Kick & Punches · 1:58 · R1', datetime.datetime(2014, 10, 4, 0, 0)], ['Win · Decision · Unanimous', datetime.datetime(2013, 3, 16, 0, 0)], ['Win · Decision · Unanimous', datetime.datetime(2012, 9, 15, 0, 0)], ['Win · Decision · Unanimous', datetime.datetime(2012, 2, 25, 0, 0)], ['Win · Decision · Unanimous', datetime.datetime(2011, 11, 26, 0, 0)], ['Win · Rear Naked Choke · 1:23 · R2', datetime.datetime(2011, 5, 21, 0, 0)], ['Loss · Retirement · 5:00 · R2', datetime.datetime(2011, 3, 19, 0, 0)], ['Win · Corner Stoppage · 4:19 · R2', datetime.datetime(2010, 9, 18, 0, 0)], ['Win · Rear Naked Choke · 2:32 · R2', datetime.datetime(2010, 6, 23, 0, 0)], ['Win · Rear Naked Choke · 1:37 · R1', datetime.datetime(2010, 5, 7, 0, 0)], ['Win · Head Kick & Punches · 3:40 · R1', datetime.datetime(2010, 5, 7, 0, 0)], ['Win · Rear Naked Choke · 1:51 · R2', datetime.datetime(2008, 12, 12, 0, 0)], ['Win · Armbar · 3:12 · R2', datetime.datetime(2008, 9, 13, 0, 0)], ['Win · Armbar · 4:13 · R1', datetime.datetime(2008, 5, 9, 0, 0)], ['Win · Armbar · 2:54 · R2', datetime.datetime(2008, 5, 9, 0, 0)], ['Win · Decision · Unanimous', datetime.datetime(2008, 5, 9, 0, 0)], ['Loss · Kimura · 1:57 · R1', datetime.datetime(2007, 11, 10, 0, 0)], ['Win · Punches · 1:35 · R1', datetime.datetime(2007, 9, 15, 0, 0)], ['Win · Punches · 2:36 · R1', datetime.datetime(2007, 9, 15, 0, 0)], ['Win · Decision · Unanimous', datetime.datetime(2007, 9, 15, 0, 0)], ['Loss', datetime.datetime(2007, 2, 25, 0, 0)]]\n"
     ]
    },
    {
     "name": "stdout",
     "output_type": "stream",
     "text": [
      "jessica andrade\n",
      "[['Win · Punches · 4:54 · R1', datetime.datetime(2021, 9, 25, 0, 0)], ['Loss · Decision · Escape Time', datetime.datetime(2021, 5, 15, 0, 0)], ['Loss · Elbows from Crucifix · 3:19 · R2', datetime.datetime(2021, 4, 24, 0, 0)], ['Win · Hook to the Body · 4:55 · R1', datetime.datetime(2020, 10, 17, 0, 0)], ['Loss · Decision · Split', datetime.datetime(2020, 7, 11, 0, 0)], ['Loss · Knees & Punches · 0:42 · R1', datetime.datetime(2019, 8, 31, 0, 0)], ['Win · Slam · 2:58 · R2', datetime.datetime(2019, 5, 11, 0, 0)], ['Win · Punch · 1:58 · R1', datetime.datetime(2018, 9, 8, 0, 0)], ['Win · Decision · Unanimous', datetime.datetime(2018, 2, 24, 0, 0)], ['Win · Decision · Unanimous', datetime.datetime(2017, 9, 22, 0, 0)], ['Loss · Decision · Unanimous', datetime.datetime(2017, 5, 13, 0, 0)], ['Win · Decision · Unanimous', datetime.datetime(2017, 2, 4, 0, 0)], ['Win · Guillotine Choke · 4:38 · R1', datetime.datetime(2016, 9, 10, 0, 0)], ['Win · Punches · 2:56 · R2', datetime.datetime(2016, 6, 4, 0, 0)], ['Win · Guillotine Choke · 5:10 · R1', datetime.datetime(2016, 1, 30, 0, 0)], ['Loss · Rear Naked Choke · 4:58 · R2', datetime.datetime(2015, 9, 5, 0, 0)], ['Win · Decision · Unanimous', datetime.datetime(2015, 7, 15, 0, 0)], ['Loss · Triangle Choke · 1:54 · R1', datetime.datetime(2015, 2, 22, 0, 0)], ['Win · Guillotine Choke · 4:33 · R1', datetime.datetime(2014, 9, 13, 0, 0)], ['Win · Decision · Split', datetime.datetime(2014, 3, 15, 0, 0)], ['Win · Decision · Unanimous', datetime.datetime(2013, 10, 26, 0, 0)], ['Loss · Punches · 3:57 · R2', datetime.datetime(2013, 7, 27, 0, 0)], ['Win · Guillotine Choke · 4:34 · R2', datetime.datetime(2013, 4, 14, 0, 0)], ['Win', datetime.datetime(2013, 1, 27, 0, 0)], ['Loss', datetime.datetime(2012, 12, 15, 0, 0)], ['Win', datetime.datetime(2012, 10, 13, 0, 0)], ['Win', datetime.datetime(2012, 9, 15, 0, 0)], ['Win · Guillotine Choke · 3:01 · R1', datetime.datetime(2012, 9, 8, 0, 0)], ['Win', datetime.datetime(2012, 8, 28, 0, 0)], ['Win', datetime.datetime(2012, 5, 20, 0, 0)], ['Loss', datetime.datetime(2012, 5, 5, 0, 0)], ['Win', datetime.datetime(2011, 11, 19, 0, 0)], ['Win', datetime.datetime(2011, 9, 6, 0, 0)]]\n",
      "joanna jedrzejczyk\n",
      "[['Loss · Decision · Split', datetime.datetime(2020, 3, 7, 0, 0)], ['Win · Decision · Unanimous', datetime.datetime(2019, 10, 12, 0, 0)], ['Loss · Decision · Unanimous', datetime.datetime(2018, 12, 8, 0, 0)], ['Win · Decision · Unanimous', datetime.datetime(2018, 7, 28, 0, 0)], ['Loss · Decision · Unanimous', datetime.datetime(2018, 4, 7, 0, 0)], ['Loss · Punches · 3:03 · R1', datetime.datetime(2017, 11, 4, 0, 0)], ['Win · Decision · Unanimous', datetime.datetime(2017, 5, 13, 0, 0)], ['Win · Decision · Unanimous', datetime.datetime(2016, 11, 12, 0, 0)], ['Win · Decision · Unanimous', datetime.datetime(2016, 7, 8, 0, 0)], ['Win · Decision · Unanimous', datetime.datetime(2015, 11, 14, 0, 0)], ['Win · Punches · 4:22 · R3', datetime.datetime(2015, 6, 20, 0, 0)], ['Win · Punches · 4:17 · R2', datetime.datetime(2015, 3, 14, 0, 0)], ['Win · Decision · Split', datetime.datetime(2014, 12, 13, 0, 0)], ['Win · Decision · Unanimous', datetime.datetime(2014, 7, 26, 0, 0)], ['Win · Punches · 2:36 · R2', datetime.datetime(2014, 6, 7, 0, 0)], ['Win · Decision · Unanimous', datetime.datetime(2014, 5, 9, 0, 0)], ['Win · Decision · Unanimous', datetime.datetime(2013, 6, 20, 0, 0)], ['Win · Retirement · 5:00 · R2', datetime.datetime(2013, 5, 18, 0, 0)], ['Win · Rear Naked Choke · 3:22 · R1', datetime.datetime(2012, 12, 8, 0, 0)], ['Win · Decision · Unanimous', datetime.datetime(2012, 5, 19, 0, 0)], ['Win · Decision', datetime.datetime(2009, 11, 21, 0, 0)], ['Win', datetime.datetime(2012, 3, 4, 0, 0)], ['Win', datetime.datetime(2012, 3, 4, 0, 0)]]\n",
      "johny hendricks\n",
      "[['Loss · Punches · 0:21 · R2', datetime.datetime(2018, 11, 9, 0, 0)], ['Loss · Punches · 1:26 · R2', datetime.datetime(2017, 11, 4, 0, 0)], ['Loss · Head Kick & Punches · 0:46 · R2', datetime.datetime(2017, 6, 25, 0, 0)], ['Win · Decision · Unanimous', datetime.datetime(2017, 2, 19, 0, 0)], ['Loss · Decision · Unanimous', datetime.datetime(2016, 12, 30, 0, 0)], ['Loss · Decision · Unanimous', datetime.datetime(2016, 7, 9, 0, 0)], ['Loss · Spinning Back Kick & Punches · 3:31 · R1', datetime.datetime(2016, 2, 6, 0, 0)], ['Win · Decision · Unanimous', datetime.datetime(2015, 3, 14, 0, 0)], ['Loss · Decision · Split', datetime.datetime(2014, 12, 6, 0, 0)], ['Win · Decision · Unanimous', datetime.datetime(2014, 3, 15, 0, 0)], ['Loss · Decision · Split', datetime.datetime(2013, 11, 16, 0, 0)], ['Win · Decision · Unanimous', datetime.datetime(2013, 3, 16, 0, 0)], ['Win · Punch · 0:46 · R1', datetime.datetime(2012, 11, 17, 0, 0)], ['Win · Decision · Split', datetime.datetime(2012, 5, 5, 0, 0)], ['Win · Punch · 0:12 · R1', datetime.datetime(2011, 12, 30, 0, 0)], ['Win · Decision · Split', datetime.datetime(2011, 8, 6, 0, 0)], ['Win · Punches · 1:35 · R1', datetime.datetime(2011, 3, 26, 0, 0)], ['Loss · Decision · Unanimous', datetime.datetime(2010, 12, 4, 0, 0)], ['Win · Punches · 0:40 · R2', datetime.datetime(2010, 8, 7, 0, 0)], ['Win · Decision · Majority', datetime.datetime(2010, 5, 8, 0, 0)], ['Win · Decision · Unanimous', datetime.datetime(2009, 12, 12, 0, 0)], ['Win · Punches · 0:29 · R1', datetime.datetime(2009, 8, 8, 0, 0)], ['Win · Decision · Unanimous', datetime.datetime(2009, 3, 1, 0, 0)], ['Win · Punches · 0:52 · R2', datetime.datetime(2008, 12, 3, 0, 0)], ['Win', datetime.datetime(2008, 3, 15, 0, 0)], ['Win', datetime.datetime(2007, 11, 16, 0, 0)], ['Win', datetime.datetime(2007, 9, 28, 0, 0)]]\n",
      "jon jones\n",
      "[['Loss · Rear Naked Choke · 3:39 · R3', datetime.datetime(2017, 1, 15, 0, 0)], ['Loss · Decision · Unanimous', datetime.datetime(2016, 6, 18, 0, 0)], ['Loss · Decision · Unanimous', datetime.datetime(2015, 12, 12, 0, 0)], ['Win · Decision · Unanimous', datetime.datetime(2015, 10, 9, 0, 0)], ['Win · Decision · Unanimous', datetime.datetime(2015, 2, 6, 0, 0)], ['Win · Decision · Split', datetime.datetime(2014, 10, 10, 0, 0)], ['Win · Decision · Unanimous', datetime.datetime(2014, 4, 11, 0, 0)], ['Loss · Decision · Unanimous', datetime.datetime(2013, 7, 20, 0, 0)], ['Win · Guillotine Choke · 0:27 · R1', datetime.datetime(2013, 5, 25, 0, 0)], ['Win · Decision · Unanimous', datetime.datetime(2012, 7, 28, 0, 0)], ['Win', datetime.datetime(2012, 4, 7, 0, 0)], ['Loss', datetime.datetime(2011, 4, 8, 0, 0)]]\n",
      "jose aldo\n",
      "[['Win · Decision · Unanimous', datetime.datetime(2021, 12, 4, 0, 0)], ['Win · Decision · Unanimous', datetime.datetime(2021, 8, 7, 0, 0)], ['Win · Decision · Unanimous', datetime.datetime(2020, 12, 19, 0, 0)], ['Loss · Ground & Pound · 3:24 · R5', datetime.datetime(2020, 7, 11, 0, 0)], ['Loss · Decision · Split', datetime.datetime(2019, 12, 14, 0, 0)], ['Loss · Decision · Unanimous', datetime.datetime(2019, 5, 11, 0, 0)], ['Win · Punches · 0:44 · R2', datetime.datetime(2019, 2, 2, 0, 0)], ['Win · Body Punch & Ground & Pound · 4:19 · R1', datetime.datetime(2018, 7, 28, 0, 0)], ['Loss · Ground & Pound · 4:51 · R3', datetime.datetime(2017, 12, 2, 0, 0)], ['Loss · Ground & Pound · 4:13 · R3', datetime.datetime(2017, 6, 3, 0, 0)], ['Win · Decision · Unanimous', datetime.datetime(2016, 7, 9, 0, 0)], ['Loss · Punches · 0:13 · R1', datetime.datetime(2015, 12, 12, 0, 0)], ['Win · Decision · Unanimous', datetime.datetime(2014, 10, 25, 0, 0)], ['Win · Decision · Unanimous', datetime.datetime(2014, 2, 1, 0, 0)], ['Win · Punches · 2:00 · R4', datetime.datetime(2013, 8, 3, 0, 0)], ['Win · Decision · Unanimous', datetime.datetime(2013, 2, 2, 0, 0)], ['Win · Knee & Punches · 4:59 · R1', datetime.datetime(2012, 1, 14, 0, 0)], ['Win · Decision · Unanimous', datetime.datetime(2011, 10, 8, 0, 0)], ['Win · Decision · Unanimous', datetime.datetime(2011, 4, 30, 0, 0)], ['Win · Punches · 1:32 · R2', datetime.datetime(2010, 9, 30, 0, 0)], ['Win · Decision · Unanimous', datetime.datetime(2010, 4, 24, 0, 0)], ['Win · Punches · 1:20 · R2', datetime.datetime(2009, 11, 18, 0, 0)], ['Win · Flying Knee & Punches · 0:08 · R1', datetime.datetime(2009, 6, 7, 0, 0)], ['Win · Punches · 1:39 · R1', datetime.datetime(2009, 3, 1, 0, 0)], ['Win · Knee & Punches · 4:15 · R1', datetime.datetime(2009, 1, 25, 0, 0)], ['Win · Punches · 0:45 · R3', datetime.datetime(2008, 11, 5, 0, 0)], ['Win · Punches · 3:22 · R2', datetime.datetime(2008, 6, 1, 0, 0)], ['Win · Decision · Unanimous', datetime.datetime(2007, 7, 27, 0, 0)], ['Win', datetime.datetime(2007, 5, 2, 0, 0)], ['Win', datetime.datetime(2006, 5, 20, 0, 0)], ['Loss', datetime.datetime(2005, 11, 26, 0, 0)], ['Win', datetime.datetime(2005, 10, 15, 0, 0)], ['Win', datetime.datetime(2005, 9, 17, 0, 0)], ['Win', datetime.datetime(2005, 7, 9, 0, 0)], ['Win', datetime.datetime(2005, 5, 12, 0, 0)], ['Win', datetime.datetime(2005, 3, 19, 0, 0)], ['Win', datetime.datetime(2004, 10, 23, 0, 0)], ['Win', datetime.datetime(2004, 8, 10, 0, 0)]]\n"
     ]
    },
    {
     "name": "stdout",
     "output_type": "stream",
     "text": [
      "joseph benavidez\n",
      "[['Loss · Decision · Unanimous', datetime.datetime(2021, 3, 6, 0, 0)], ['Loss · Rear Naked Choke · 4:48 · R1', datetime.datetime(2020, 7, 18, 0, 0)], ['Loss · Right Cross to Ground & Pound · 1:54 · R2', datetime.datetime(2020, 2, 29, 0, 0)], ['Win · Punches · 4:47 · R2', datetime.datetime(2019, 6, 29, 0, 0)], ['Win · Decision · Unanimous', datetime.datetime(2019, 1, 19, 0, 0)], ['Win · Ground & Pound · 4:19 · R1', datetime.datetime(2018, 11, 30, 0, 0)], ['Loss · Decision · Split', datetime.datetime(2018, 6, 9, 0, 0)], ['Win · Decision · Split', datetime.datetime(2016, 12, 3, 0, 0)], ['Win · Decision · Unanimous', datetime.datetime(2016, 2, 6, 0, 0)], ['Win · Decision · Unanimous', datetime.datetime(2015, 10, 3, 0, 0)], ['Win · Decision · Unanimous', datetime.datetime(2015, 5, 23, 0, 0)], ['Win · Decision · Unanimous', datetime.datetime(2014, 11, 22, 0, 0)], ['Win · Guillotine Choke · 4:08 · R1', datetime.datetime(2014, 4, 26, 0, 0)], ['Loss · Punches · 2:08 · R1', datetime.datetime(2013, 12, 14, 0, 0)], ['Win · Punches · 3:07 · R1', datetime.datetime(2013, 9, 4, 0, 0)], ['Win · Punches · 4:50 · R2', datetime.datetime(2013, 4, 20, 0, 0)], ['Win · Decision · Unanimous', datetime.datetime(2013, 2, 2, 0, 0)], ['Loss · Decision · Split', datetime.datetime(2012, 9, 22, 0, 0)], ['Win · Punches · 0:11 · R2', datetime.datetime(2012, 3, 2, 0, 0)], ['Win · Decision · Unanimous', datetime.datetime(2011, 8, 14, 0, 0)], ['Win · Decision · Unanimous', datetime.datetime(2011, 3, 19, 0, 0)], ['Win · Guillotine Choke · 2:45 · R2', datetime.datetime(2010, 11, 11, 0, 0)], ['Loss · Decision · Split', datetime.datetime(2010, 8, 18, 0, 0)], ['Win · Guillotine Choke · 2:57 · R2', datetime.datetime(2010, 3, 6, 0, 0)], ['Win · Punches · 1:35 · R1', datetime.datetime(2009, 12, 19, 0, 0)], ['Loss · Decision · Unanimous', datetime.datetime(2009, 8, 9, 0, 0)], ['Win · Decision · Unanimous', datetime.datetime(2009, 4, 5, 0, 0)], ['Win · Decision · Unanimous', datetime.datetime(2008, 12, 3, 0, 0)], ['Win · Guillotine Choke · 2:42 · R1', datetime.datetime(2008, 7, 21, 0, 0)], ['Win', datetime.datetime(2008, 5, 8, 0, 0)], ['Win', datetime.datetime(2008, 1, 17, 0, 0)], ['Win', datetime.datetime(2007, 6, 1, 0, 0)], ['Win', datetime.datetime(2007, 4, 28, 0, 0)], ['Win', datetime.datetime(2007, 4, 7, 0, 0)], ['Win', datetime.datetime(2006, 10, 14, 0, 0)], ['Win', datetime.datetime(2006, 6, 3, 0, 0)]]\n",
      "kamaru usman\n",
      "[['Win · Decision · Unanimous', datetime.datetime(2021, 11, 6, 0, 0)], ['Win · Right Cross · 1:02 · R2', datetime.datetime(2021, 4, 24, 0, 0)], ['Win · Power Jab to Ground & Pound · 0:34 · R3', datetime.datetime(2021, 2, 13, 0, 0)], ['Win · Decision · Unanimous', datetime.datetime(2020, 7, 11, 0, 0)], ['Win · Punches · 4:10 · R5', datetime.datetime(2019, 12, 14, 0, 0)], ['Win · Decision · Unanimous', datetime.datetime(2019, 3, 2, 0, 0)], ['Win · Decision · Unanimous', datetime.datetime(2018, 11, 30, 0, 0)], ['Win · Decision · Unanimous', datetime.datetime(2018, 5, 19, 0, 0)], ['Win · Decision · Unanimous', datetime.datetime(2018, 1, 14, 0, 0)], ['Win · Punch · 2:48 · R1', datetime.datetime(2017, 9, 16, 0, 0)], ['Win · Decision · Unanimous', datetime.datetime(2017, 4, 8, 0, 0)], ['Win · Decision · Unanimous', datetime.datetime(2016, 11, 19, 0, 0)], ['Win · Decision · Unanimous', datetime.datetime(2016, 7, 23, 0, 0)], ['Win · Decision · Unanimous', datetime.datetime(2015, 12, 19, 0, 0)], ['Win · Arm Triangle Choke · 1:19 · R2', datetime.datetime(2015, 7, 12, 0, 0)], ['Win · Decision · Unanimous', datetime.datetime(2015, 2, 24, 0, 0)], ['Win · Decision · Majority', datetime.datetime(2015, 1, 27, 0, 0)], ['Win · Punches · 5:00 · R2', datetime.datetime(2014, 7, 18, 0, 0)], ['Win · Punches · 1:04 · R3', datetime.datetime(2014, 4, 4, 0, 0)], ['Win · Punches · 1:31 · R1', datetime.datetime(2014, 1, 31, 0, 0)], ['Win · KO/TKO · 3:49 · R1', datetime.datetime(2013, 12, 14, 0, 0)], ['Loss · Rear Naked Choke · 3:47 · R1', datetime.datetime(2013, 5, 24, 0, 0)], ['Win · Punches · 4:50 · R2', datetime.datetime(2012, 11, 30, 0, 0)]]\n",
      "kelvin gastelum\n",
      "[['Loss · Decision · Unanimous', datetime.datetime(2021, 8, 21, 0, 0)], ['Loss · Decision · Unanimous', datetime.datetime(2021, 4, 17, 0, 0)], ['Win · Decision · Unanimous', datetime.datetime(2021, 2, 13, 0, 0)], ['Loss · Heel Hook · 1:18 · R1', datetime.datetime(2020, 7, 18, 0, 0)], ['Loss · Decision · Split', datetime.datetime(2019, 11, 2, 0, 0)], ['Loss · Decision · Unanimous', datetime.datetime(2019, 4, 13, 0, 0)], ['Win · Decision · Split', datetime.datetime(2018, 5, 12, 0, 0)], ['Win · Punches · 2:30 · R1', datetime.datetime(2017, 11, 25, 0, 0)], ['Loss · Arm Triangle Choke · 3:45 · R3', datetime.datetime(2017, 7, 22, 0, 0)], ['Win · Punches · 2:45 · R3', datetime.datetime(2016, 12, 10, 0, 0)], ['Win · Decision · Unanimous', datetime.datetime(2016, 7, 9, 0, 0)], ['Loss · Decision · Split', datetime.datetime(2015, 11, 21, 0, 0)], ['Win · Corner Stoppage · 5:00 · R2', datetime.datetime(2015, 6, 13, 0, 0)], ['Loss · Decision · Split', datetime.datetime(2015, 1, 31, 0, 0)], ['Win · Rear Naked Choke · 4:46 · R1', datetime.datetime(2014, 11, 15, 0, 0)], ['Win · Decision · Unanimous', datetime.datetime(2014, 6, 28, 0, 0)], ['Win · Decision · Split', datetime.datetime(2014, 3, 15, 0, 0)], ['Win · Rear Naked Choke · 2:26 · R1', datetime.datetime(2013, 8, 28, 0, 0)], ['Win · Decision · Split', datetime.datetime(2013, 4, 13, 0, 0)], ['Win · Rear Naked Choke · 4:02 · R1', datetime.datetime(2012, 12, 11, 0, 0)], ['Win · Punches · 0:33 · R1', datetime.datetime(2012, 12, 4, 0, 0)], ['Win · Rear Naked Choke · 2:38 · R2', datetime.datetime(2012, 11, 15, 0, 0)], ['Win · Decision · Unanimous', datetime.datetime(2012, 10, 30, 0, 0)], ['Win', datetime.datetime(2012, 7, 20, 0, 0)], ['Win', datetime.datetime(2012, 7, 7, 0, 0)], ['Win', datetime.datetime(2011, 10, 22, 0, 0)], ['Win', datetime.datetime(2011, 7, 16, 0, 0)], ['Win', datetime.datetime(2010, 12, 11, 0, 0)], ['Win', datetime.datetime(2009, 3, 28, 0, 0)]]\n",
      "khabib nurmagomedov\n",
      "[['Win · Triangle Choke · 1:34 · R2', datetime.datetime(2020, 10, 24, 0, 0)], ['Win · Rear Naked Choke · 2:06 · R3', datetime.datetime(2019, 9, 7, 0, 0)], ['Win · Rear Naked Choke · 3:03 · R4', datetime.datetime(2018, 10, 6, 0, 0)], ['Win · Decision · Unanimous', datetime.datetime(2018, 4, 7, 0, 0)], ['Win · Decision · Unanimous', datetime.datetime(2017, 12, 30, 0, 0)], ['Win · Kimura · 2:31 · R3', datetime.datetime(2016, 11, 12, 0, 0)], ['Win · Ground & Pound · 3:38 · R2', datetime.datetime(2016, 4, 16, 0, 0)], ['Win · Decision · Unanimous', datetime.datetime(2014, 4, 19, 0, 0)], ['Win · Decision · Unanimous', datetime.datetime(2013, 9, 21, 0, 0)], ['Win · Decision · Unanimous', datetime.datetime(2013, 5, 25, 0, 0)], ['Win · Punches & Elbows · 1:55 · R1', datetime.datetime(2013, 1, 19, 0, 0)], ['Win · Decision · Unanimous', datetime.datetime(2012, 7, 7, 0, 0)], ['Win · Rear Naked Choke · 2:08 · R3', datetime.datetime(2012, 1, 20, 0, 0)], ['Win · Punches · 3:33 · R1', datetime.datetime(2011, 10, 22, 0, 0)], ['Win', datetime.datetime(2011, 9, 15, 0, 0)], ['Win · Triangle Choke · 3:51 · R1', datetime.datetime(2011, 8, 5, 0, 0)], ['Win · Triangle Choke · 4:28 · R1', datetime.datetime(2011, 7, 2, 0, 0)], ['Win · Punches · 2:18 · R1', datetime.datetime(2011, 5, 6, 0, 0)], ['Win · Kimura · 3:16 · R1', datetime.datetime(2011, 4, 8, 0, 0)], ['Win · Corner Stoppage · 5:00 · R2', datetime.datetime(2011, 2, 12, 0, 0)], ['Win · Punches · 4:06 · R1', datetime.datetime(2010, 9, 17, 0, 0)], ['Win · Decision · Unanimous', datetime.datetime(2010, 6, 10, 0, 0)], ['Win · Armbar · 4:36 · R1', datetime.datetime(2009, 11, 3, 0, 0)], ['Win · Punches · 2:44 · R2', datetime.datetime(2009, 8, 8, 0, 0)], ['Win · Punches · 2:05 · R1', datetime.datetime(2009, 8, 8, 0, 0)], ['Win · Decision · Unanimous', datetime.datetime(2008, 10, 11, 0, 0)], ['Win · Decision · Unanimous', datetime.datetime(2008, 10, 11, 0, 0)], ['Win · Decision · Unanimous', datetime.datetime(2008, 10, 11, 0, 0)], ['Win · Rear Naked Choke · 2:20 · R2', datetime.datetime(2008, 9, 13, 0, 0)]]\n",
      "luke rockhold\n",
      "[['Loss · Decision', datetime.datetime(2019, 11, 30, 0, 0)], ['Loss · Left Hook to Ground & Pound · 1:39 · R2', datetime.datetime(2019, 7, 6, 0, 0)], ['Loss · Punch · 1:48 · R3', datetime.datetime(2018, 2, 10, 0, 0)], ['Win · Strikes · 4:05 · R2', datetime.datetime(2017, 9, 16, 0, 0)], ['Loss · Punches · 3:36 · R1', datetime.datetime(2016, 6, 4, 0, 0)], ['Win · Ground & Pound · 3:12 · R4', datetime.datetime(2015, 12, 12, 0, 0)], ['Win · Rear Naked Choke · 2:31 · R2', datetime.datetime(2015, 4, 18, 0, 0)], ['Win · Guillotine Choke · 0:57 · R2', datetime.datetime(2014, 11, 7, 0, 0)], ['Win · Kimura · 2:08 · R1', datetime.datetime(2014, 4, 26, 0, 0)], ['Win · Body Kick · 2:31 · R1', datetime.datetime(2014, 1, 15, 0, 0)], ['Loss · Wheel Kick & Punches · 2:32 · R1', datetime.datetime(2013, 5, 18, 0, 0)], ['Win · Decision · Unanimous', datetime.datetime(2012, 7, 14, 0, 0)], ['Win · Punches · 4:26 · R1', datetime.datetime(2012, 1, 7, 0, 0)], ['Win · Decision · Unanimous', datetime.datetime(2011, 9, 10, 0, 0)], ['Win · Knees to the Body · 2:24 · R1', datetime.datetime(2010, 2, 26, 0, 0)], ['Win · Rear Naked Choke · 3:42 · R1', datetime.datetime(2009, 11, 6, 0, 0)], ['Win · Rear Naked Choke · 0:30 · R1', datetime.datetime(2009, 6, 19, 0, 0)], ['Win · Rear Naked Choke · 4:07 · R1', datetime.datetime(2009, 4, 11, 0, 0)], ['Win · Rear Naked Choke · 3:06 · R1', datetime.datetime(2008, 11, 21, 0, 0)], ['Win · Punches · 1:49 · R1', datetime.datetime(2008, 2, 1, 0, 0)], ['Loss', datetime.datetime(2007, 11, 6, 0, 0)], ['Win', datetime.datetime(2007, 7, 24, 0, 0)]]\n"
     ]
    },
    {
     "name": "stdout",
     "output_type": "stream",
     "text": [
      "matt hughes\n",
      "[['Loss · Punches · 4:59 · R1', datetime.datetime(2011, 9, 24, 0, 0)], ['Loss · Punches · 0:21 · R1', datetime.datetime(2010, 11, 20, 0, 0)], ['Win · Modified Anaconda Choke · 3:15 · R1', datetime.datetime(2010, 8, 7, 0, 0)], ['Win · Punches · 4:40 · R3', datetime.datetime(2010, 4, 10, 0, 0)], ['Win · Decision · Unanimous', datetime.datetime(2009, 5, 23, 0, 0)], ['Loss · Flying Knee & Punches · 1:02 · R2', datetime.datetime(2008, 6, 7, 0, 0)], ['Loss · Armbar · 4:54 · R2', datetime.datetime(2007, 12, 29, 0, 0)], ['Win · Decision · Unanimous', datetime.datetime(2007, 3, 3, 0, 0)], ['Loss · Head Kick & Punches · 1:25 · R2', datetime.datetime(2006, 11, 18, 0, 0)], ['Win · Punches · 3:53 · R3', datetime.datetime(2006, 9, 23, 0, 0)], ['Win · Punches · 4:39 · R1', datetime.datetime(2006, 5, 27, 0, 0)], ['Win · Kimura · 3:28 · R1', datetime.datetime(2005, 11, 19, 0, 0)], ['Win · Rear Naked Choke · 4:05 · R1', datetime.datetime(2005, 4, 16, 0, 0)], ['Win · Armbar · 4:59 · R1', datetime.datetime(2004, 10, 22, 0, 0)], ['Win · Decision · Unanimous', datetime.datetime(2004, 6, 19, 0, 0)], ['Loss · Rear Naked Choke · 4:39 · R1', datetime.datetime(2004, 1, 31, 0, 0)], ['Win · Rear Naked Choke · 3:54 · R1', datetime.datetime(2003, 11, 21, 0, 0)], ['Win · Decision · Unanimous', datetime.datetime(2003, 4, 25, 0, 0)], ['Win · Cut · 5:00 · R1', datetime.datetime(2002, 11, 22, 0, 0)], ['Win · Punches · 3:27 · R4', datetime.datetime(2002, 7, 13, 0, 0)], ['Win · Punches · 3:01 · R4', datetime.datetime(2002, 3, 22, 0, 0)], ['Win · Slam · 1:27 · R2', datetime.datetime(2001, 11, 2, 0, 0)], ['Win', datetime.datetime(2001, 9, 8, 0, 0)], ['Win · Decision · Majority', datetime.datetime(2001, 8, 11, 0, 0)], ['Win · Arm-Triangle Choke · 2:31 · R3', datetime.datetime(2001, 7, 13, 0, 0)], ['Win · Knee, Punch · 3:24 · R1', datetime.datetime(2001, 6, 16, 0, 0)], ['Win', datetime.datetime(2001, 5, 11, 0, 0)], ['Win', datetime.datetime(2001, 3, 31, 0, 0)], ['Win', datetime.datetime(2001, 3, 17, 0, 0)], ['Loss · Knee · 4:45 · R1', datetime.datetime(2001, 2, 8, 0, 0)], ['Loss · Armbar · 0:20 · R1', datetime.datetime(2000, 12, 16, 0, 0)], ['Win · Keylock · 6:29 · R1', datetime.datetime(2000, 11, 12, 0, 0)], ['Win · Arm Triangle Choke · 1:40 · R1', datetime.datetime(2000, 9, 30, 0, 0)], ['Win · Decision · Unanimous', datetime.datetime(2000, 8, 23, 0, 0)], ['Win', datetime.datetime(2000, 6, 29, 0, 0)], ['Win · Cut · 4:34 · R1', datetime.datetime(2000, 6, 9, 0, 0)], ['Win · Choke · 2:52 · R1', datetime.datetime(2000, 5, 21, 0, 0)], ['Win', datetime.datetime(2000, 5, 13, 0, 0)], ['Win · Keylock · 3:24 · R2', datetime.datetime(2000, 4, 15, 0, 0)], ['Win', datetime.datetime(2000, 1, 15, 0, 0)], ['Win', datetime.datetime(1999, 11, 20, 0, 0)], ['Win', datetime.datetime(1999, 11, 13, 0, 0)], ['Win', datetime.datetime(1999, 11, 13, 0, 0)], ['Win', datetime.datetime(1999, 11, 13, 0, 0)], ['Win · Decision · Unanimous', datetime.datetime(1999, 9, 24, 0, 0)], ['Win · Decision · Unanimous', datetime.datetime(1999, 5, 29, 0, 0)], ['Win', datetime.datetime(1999, 4, 24, 0, 0)], ['Win', datetime.datetime(1999, 4, 2, 0, 0)], ['Win', datetime.datetime(1998, 12, 11, 0, 0)], ['Win', datetime.datetime(1998, 10, 17, 0, 0)], ['Win', datetime.datetime(1998, 10, 17, 0, 0)], ['Loss', datetime.datetime(1998, 10, 17, 0, 0)], ['Win', datetime.datetime(1998, 4, 25, 0, 0)], ['Win', datetime.datetime(1998, 1, 1, 0, 0)]]\n",
      "matt serra\n",
      "[['Loss · Decision · Unanimous', datetime.datetime(2010, 9, 25, 0, 0)], ['Win · Punches · 2:23 · R1', datetime.datetime(2010, 2, 6, 0, 0)], ['Loss · Decision · Unanimous', datetime.datetime(2009, 5, 23, 0, 0)], ['Loss · Knees to the Body · 4:45 · R2', datetime.datetime(2008, 4, 19, 0, 0)], ['Win · Punches · 3:25 · R1', datetime.datetime(2007, 4, 7, 0, 0)], ['Win · Decision · Split', datetime.datetime(2006, 11, 11, 0, 0)], ['Win · Decision · Unanimous', datetime.datetime(2006, 6, 26, 0, 0)], ['Win · Strikes · 3:29 · R1', datetime.datetime(2006, 6, 16, 0, 0)], ['Loss · Decision · Unanimous', datetime.datetime(2005, 6, 4, 0, 0)], ['Win · Decision · Unanimous', datetime.datetime(2004, 6, 19, 0, 0)], ['Win · Decision · Unanimous', datetime.datetime(2004, 1, 31, 0, 0)], ['Loss · Decision · Split', datetime.datetime(2003, 2, 28, 0, 0)], ['Loss · Decision · Unanimous', datetime.datetime(2002, 9, 27, 0, 0)], ['Win · Triangle Choke · 2:58 · R1', datetime.datetime(2002, 3, 22, 0, 0)], ['Win · Decision · Majority', datetime.datetime(2001, 9, 28, 0, 0)], ['Loss · Spinning Back Fist · 4:51 · R3', datetime.datetime(2001, 5, 4, 0, 0)], ['Loss', datetime.datetime(2001, 4, 11, 0, 0)], ['Win', datetime.datetime(2001, 2, 24, 0, 0)], ['Win', datetime.datetime(2000, 1, 29, 0, 0)], ['Win', datetime.datetime(1999, 8, 21, 0, 0)], ['Win', datetime.datetime(1998, 4, 1, 0, 0)], ['Win', datetime.datetime(1999, 4, 7, 0, 0)]]\n",
      "mauricio rua\n",
      "[['Loss · Tapped to Strikes · 3:36 · R2', datetime.datetime(2020, 11, 21, 0, 0)], ['Win · Decision · Split', datetime.datetime(2020, 7, 25, 0, 0)], ['Draw · Decision · Split', datetime.datetime(2019, 11, 16, 0, 0)], ['Win · Punches · 0:43 · R3', datetime.datetime(2018, 12, 1, 0, 0)], ['Loss · Punches · 1:29 · R1', datetime.datetime(2018, 7, 22, 0, 0)], ['Win · Punches · 0:59 · R3', datetime.datetime(2017, 3, 11, 0, 0)], ['Win · Decision · Split', datetime.datetime(2016, 5, 14, 0, 0)], ['Win · Decision · Unanimous', datetime.datetime(2015, 8, 1, 0, 0)], ['Loss · Punches · 0:34 · R1', datetime.datetime(2014, 11, 8, 0, 0)], ['Loss · Punches · 1:31 · R3', datetime.datetime(2014, 3, 23, 0, 0)], ['Win · Punch · 1:03 · R1', datetime.datetime(2013, 12, 6, 0, 0)], ['Loss · Guillotine Choke · 4:47 · R1', datetime.datetime(2013, 8, 17, 0, 0)], ['Loss · Decision · Unanimous', datetime.datetime(2012, 12, 8, 0, 0)], ['Win · Punches · 4:09 · R4', datetime.datetime(2012, 8, 4, 0, 0)], ['Loss · Decision · Unanimous', datetime.datetime(2011, 11, 19, 0, 0)], ['Win · Punches · 1:53 · R1', datetime.datetime(2011, 8, 27, 0, 0)], ['Loss · Punches & Knees · 2:37 · R3', datetime.datetime(2011, 3, 19, 0, 0)], ['Win · Punches · 3:35 · R1', datetime.datetime(2010, 5, 8, 0, 0)], ['Loss · Decision · Unanimous', datetime.datetime(2009, 10, 24, 0, 0)], ['Win · Punches · 4:28 · R1', datetime.datetime(2009, 4, 18, 0, 0)], ['Win · Punches · 4:36 · R3', datetime.datetime(2009, 1, 17, 0, 0)], ['Loss · Rear Naked Choke · 4:45 · R3', datetime.datetime(2007, 9, 22, 0, 0)], ['Win · Punches · 3:37 · R1', datetime.datetime(2007, 2, 24, 0, 0)], ['Win · Decision · Unanimous', datetime.datetime(2006, 12, 31, 0, 0)], ['Win · Kneebar · 2:35 · R1', datetime.datetime(2006, 10, 21, 0, 0)], ['Win · Stomps · 5:29 · R1', datetime.datetime(2006, 9, 10, 0, 0)], ['Loss · Broken Arm · 0:49 · R1', datetime.datetime(2006, 2, 26, 0, 0)], ['Win · Punches · 2:54 · R1', datetime.datetime(2005, 8, 28, 0, 0)], ['Win · Punches · 6:42 · R1', datetime.datetime(2005, 8, 28, 0, 0)], ['Win · Decision · Unanimous', datetime.datetime(2005, 6, 26, 0, 0)], ['Win · Soccer Kicks · 4:47 · R1', datetime.datetime(2005, 4, 23, 0, 0)], ['Win · Stomp · 1:40 · R1', datetime.datetime(2005, 2, 20, 0, 0)], ['Win · Punches · 6:02 · R1', datetime.datetime(2004, 10, 14, 0, 0)], ['Win · Soccer Kicks · 9:04 · R1', datetime.datetime(2004, 2, 15, 0, 0)], ['Win · Punches · 3:47 · R1', datetime.datetime(2003, 10, 5, 0, 0)], ['Loss · Guillotine Choke · 3:07 · R3', datetime.datetime(2003, 9, 6, 0, 0)], ['Win · Punches · 2:54 · R2', datetime.datetime(2003, 9, 6, 0, 0)], ['Win · Punches · 9:22 · R1', datetime.datetime(2003, 8, 1, 0, 0)], ['Win', datetime.datetime(2003, 5, 16, 0, 0)], ['Win', datetime.datetime(2002, 11, 8, 0, 0)]]\n",
      "max holloway\n",
      "[['Win · Decision · Unanimous', datetime.datetime(2021, 11, 13, 0, 0)], ['Win · Decision · Unanimous', datetime.datetime(2021, 1, 16, 0, 0)], ['Loss · Decision · Split', datetime.datetime(2020, 7, 11, 0, 0)], ['Loss · Decision · Unanimous', datetime.datetime(2019, 12, 14, 0, 0)], ['Win · Decision · Unanimous', datetime.datetime(2019, 7, 27, 0, 0)], ['Loss · Decision · Unanimous', datetime.datetime(2019, 4, 13, 0, 0)], ['Win · Doctor Stoppage · 5:00 · R4', datetime.datetime(2018, 12, 8, 0, 0)], ['Win · Ground & Pound · 4:51 · R3', datetime.datetime(2017, 12, 2, 0, 0)], ['Win · Ground & Pound · 4:13 · R3', datetime.datetime(2017, 6, 3, 0, 0)], ['Win · Punches · 4:50 · R3', datetime.datetime(2016, 12, 10, 0, 0)], ['Win · Decision · Unanimous', datetime.datetime(2016, 6, 4, 0, 0)], ['Win · Decision · Unanimous', datetime.datetime(2015, 12, 12, 0, 0)], ['Win · Neck/Shoulder Injury · 1:39 · R1', datetime.datetime(2015, 8, 23, 0, 0)], ['Win · Guillotine Choke · 3:58 · R3', datetime.datetime(2015, 4, 18, 0, 0)], ['Win · Decision · Unanimous', datetime.datetime(2015, 2, 14, 0, 0)], ['Win · Punches · 3:11 · R1', datetime.datetime(2014, 10, 4, 0, 0)], ['Win · Ground & Pound · 3:47 · R3', datetime.datetime(2014, 8, 23, 0, 0)], ['Win · Guillotine Choke · 3:39 · R3', datetime.datetime(2014, 4, 26, 0, 0)], ['Win · Punches · 2:27 · R2', datetime.datetime(2014, 1, 4, 0, 0)], ['Loss · Decision · Unanimous', datetime.datetime(2013, 8, 17, 0, 0)], ['Loss · Decision · Split', datetime.datetime(2013, 5, 25, 0, 0)], ['Win · Decision · Split', datetime.datetime(2012, 12, 29, 0, 0)], ['Win · Body Punch · 4:49 · R2', datetime.datetime(2012, 8, 11, 0, 0)], ['Win · Decision · Unanimous', datetime.datetime(2012, 6, 1, 0, 0)], ['Loss · Triangle Armbar · 3:23 · R1', datetime.datetime(2012, 2, 4, 0, 0)], ['Win', datetime.datetime(2011, 7, 1, 0, 0)], ['Win · Decision · Split', datetime.datetime(2011, 3, 11, 0, 0)], ['Win · Punches · 3:09 · R1', datetime.datetime(2010, 11, 6, 0, 0)], ['Win · Decision · Unanimous', datetime.datetime(2010, 9, 11, 0, 0)], ['Win · KO/TKO · 1:30 · R1', datetime.datetime(2008, 9, 27, 0, 0)], ['Win · KO/TKO', datetime.datetime(2010, 4, 16, 0, 0)], ['Win · Rear Naked Choke', datetime.datetime(2010, 4, 16, 0, 0)], ['Win', datetime.datetime(2010, 3, 27, 0, 0)], ['Win · KO/TKO', datetime.datetime(2010, 2, 19, 0, 0)], ['Win', datetime.datetime(2009, 11, 25, 0, 0)], ['Win', datetime.datetime(2007, 3, 9, 0, 0)], ['Loss', datetime.datetime(2006, 11, 25, 0, 0)]]\n"
     ]
    },
    {
     "name": "stdout",
     "output_type": "stream",
     "text": [
      "michael bisping\n",
      "[['Loss · Punches · 2:30 · R1', datetime.datetime(2017, 11, 25, 0, 0)], ['Loss · Rear Naked Choke · 4:23 · R3', datetime.datetime(2017, 11, 4, 0, 0)], ['Win · Decision · Unanimous', datetime.datetime(2016, 10, 8, 0, 0)], ['Win · Punches · 3:36 · R1', datetime.datetime(2016, 6, 4, 0, 0)], ['Win · Decision · Unanimous', datetime.datetime(2016, 2, 27, 0, 0)], ['Win · Decision · Split', datetime.datetime(2015, 7, 18, 0, 0)], ['Win · Decision · Unanimous', datetime.datetime(2015, 4, 25, 0, 0)], ['Loss · Guillotine Choke · 0:57 · R2', datetime.datetime(2014, 11, 7, 0, 0)], ['Win · Knee & Punches · 0:57 · R4', datetime.datetime(2014, 8, 23, 0, 0)], ['Loss · Decision · Unanimous', datetime.datetime(2014, 4, 16, 0, 0)], ['Win · Decision · Technical', datetime.datetime(2013, 4, 27, 0, 0)], ['Loss · Head Kick & Punches · 1:27 · R2', datetime.datetime(2013, 1, 19, 0, 0)], ['Win · Decision · Unanimous', datetime.datetime(2012, 9, 22, 0, 0)], ['Loss · Decision · Unanimous', datetime.datetime(2012, 1, 28, 0, 0)], ['Win · Strikes · 3:34 · R3', datetime.datetime(2011, 12, 3, 0, 0)], ['Win · Punches · 1:54 · R2', datetime.datetime(2011, 2, 26, 0, 0)], ['Win · Decision · Unanimous', datetime.datetime(2010, 10, 16, 0, 0)], ['Win · Decision · Unanimous', datetime.datetime(2010, 5, 29, 0, 0)], ['Loss · Decision · Unanimous', datetime.datetime(2010, 2, 20, 0, 0)], ['Win · Punches · 4:24 · R2', datetime.datetime(2009, 11, 14, 0, 0)], ['Loss · Punch · 3:20 · R2', datetime.datetime(2009, 7, 11, 0, 0)], ['Win · Decision · Unanimous', datetime.datetime(2008, 10, 18, 0, 0)], ['Win · Punches · 3:42 · R1', datetime.datetime(2008, 6, 7, 0, 0)], ['Win · Arm Injury · 5:00 · R1', datetime.datetime(2008, 4, 19, 0, 0)], ['Loss · Decision · Split', datetime.datetime(2007, 11, 17, 0, 0)], ['Win · Decision · Split', datetime.datetime(2007, 9, 8, 0, 0)], ['Win · Punches · 1:20 · R2', datetime.datetime(2007, 4, 21, 0, 0)], ['Win · Punches · 4:24 · R1', datetime.datetime(2006, 12, 30, 0, 0)], ['Win · Punches · 4:14 · R2', datetime.datetime(2006, 6, 24, 0, 0)], ['Win · Strikes · 2:12 · R1', datetime.datetime(2006, 2, 24, 0, 0)], ['Win · KO/TKO · 4:02 · R1', datetime.datetime(2006, 2, 2, 0, 0)], ['Win · Armbar · 2:00 · R1', datetime.datetime(2005, 11, 26, 0, 0)], ['Win · Punches · 1:10 · R1', datetime.datetime(2005, 10, 1, 0, 0)], ['Win', datetime.datetime(2005, 7, 16, 0, 0)], ['Win', datetime.datetime(2005, 6, 18, 0, 0)], ['Loss · Decision · Unanimous', datetime.datetime(2005, 5, 21, 0, 0)], ['Win · KO/TKO · 2:46 · R1', datetime.datetime(2005, 4, 30, 0, 0)], ['Win · Cut', datetime.datetime(2005, 1, 29, 0, 0)], ['Win', datetime.datetime(2004, 11, 27, 0, 0)], ['Win · KO/TKO · 0:45 · R1', datetime.datetime(2004, 8, 7, 0, 0)], ['Win', datetime.datetime(2004, 7, 10, 0, 0)], ['Win · Punches · 0:50 · R1', datetime.datetime(2004, 5, 30, 0, 0)], ['Win', datetime.datetime(2004, 4, 10, 0, 0)]]\n",
      "miesha tate\n",
      "[['Loss · Decision · Unanimous', datetime.datetime(2021, 11, 20, 0, 0)], ['Win · Ground & Pound · 1:53 · R3', datetime.datetime(2021, 7, 17, 0, 0)], ['Win', datetime.datetime(2016, 12, 10, 0, 0)], ['Loss · Decision · Unanimous', datetime.datetime(2016, 11, 12, 0, 0)], ['Loss · Rear Naked Choke · 3:16 · R1', datetime.datetime(2016, 7, 9, 0, 0)], ['Win · Rear Naked Choke · 3:30 · R5', datetime.datetime(2016, 3, 5, 0, 0)], ['Win · Decision · Unanimous', datetime.datetime(2015, 7, 25, 0, 0)], ['Win · Decision · Majority', datetime.datetime(2015, 1, 31, 0, 0)], ['Win · Decision · Unanimous', datetime.datetime(2014, 9, 20, 0, 0)], ['Win · Decision · Unanimous', datetime.datetime(2014, 4, 19, 0, 0)], ['Loss · Armbar · 0:58 · R3', datetime.datetime(2013, 12, 28, 0, 0)], ['Loss · Knees · 2:55 · R3', datetime.datetime(2013, 4, 13, 0, 0)], ['Win · Armbar · 3:28 · R3', datetime.datetime(2012, 8, 18, 0, 0)], ['Loss · Armbar · 4:27 · R1', datetime.datetime(2012, 3, 3, 0, 0)], ['Win · Arm Triangle Choke · 3:03 · R4', datetime.datetime(2011, 7, 30, 0, 0)], ['Win · Decision · Unanimous', datetime.datetime(2010, 8, 14, 0, 0)], ['Win · Decision · Unanimous', datetime.datetime(2010, 8, 14, 0, 0)], ['Win · Armbar · 4:09 · R2', datetime.datetime(2010, 3, 27, 0, 0)], ['Win', datetime.datetime(2010, 1, 16, 0, 0)], ['Win', datetime.datetime(2009, 10, 3, 0, 0)], ['Loss · Decision · Unanimous', datetime.datetime(2009, 5, 16, 0, 0)], ['Win', datetime.datetime(2009, 4, 4, 0, 0)], ['Win', datetime.datetime(2009, 2, 21, 0, 0)], ['Win', datetime.datetime(2009, 1, 31, 0, 0)], ['Win', datetime.datetime(2008, 11, 29, 0, 0)], ['Win · Decision · Unanimous', datetime.datetime(2008, 6, 27, 0, 0)], ['Win', datetime.datetime(2007, 11, 24, 0, 0)], ['Loss', datetime.datetime(2007, 11, 24, 0, 0)], ['Win', datetime.datetime(2007, 10, 6, 0, 0)], ['Win', datetime.datetime(2006, 10, 14, 0, 0)], ['Loss · Corner Stoppage · 3:00 · R2', datetime.datetime(2006, 3, 25, 0, 0)]]\n",
      "petr yan\n",
      "[['Win · Decision · Unanimous', datetime.datetime(2021, 10, 30, 0, 0)], ['Loss · Illegal Knee · 4:29 · R4', datetime.datetime(2021, 3, 6, 0, 0)], ['Win · Ground & Pound · 3:24 · R5', datetime.datetime(2020, 7, 11, 0, 0)], ['Win · Head Kick · 0:43 · R3', datetime.datetime(2019, 12, 14, 0, 0)], ['Win · Decision · Unanimous', datetime.datetime(2019, 6, 8, 0, 0)], ['Win · Decision · Unanimous', datetime.datetime(2019, 2, 23, 0, 0)], ['Win · Corner Stoppage · 5:00 · R2', datetime.datetime(2018, 12, 29, 0, 0)], ['Win · Decision · Unanimous', datetime.datetime(2018, 9, 15, 0, 0)], ['Win · Punches · 3:28 · R1', datetime.datetime(2018, 6, 23, 0, 0)], ['Win · Punches · 2:27 · R3', datetime.datetime(2017, 9, 30, 0, 0)], ['Win · Decision · Unanimous', datetime.datetime(2017, 4, 15, 0, 0)], ['Win · Decision · Unanimous', datetime.datetime(2016, 7, 15, 0, 0)], ['Loss · Decision · Split', datetime.datetime(2016, 3, 26, 0, 0)], ['Win · Decision · Unanimous', datetime.datetime(2015, 10, 24, 0, 0)], ['Win · Punches · 2:40 · R1', datetime.datetime(2015, 7, 5, 0, 0)], ['Win · Guillotine Choke · 0:47 · R1', datetime.datetime(2015, 5, 30, 0, 0)], ['Win · Decision · Unanimous', datetime.datetime(2015, 2, 28, 0, 0)], ['Win · Punch · 0:45 · R3', datetime.datetime(2014, 12, 20, 0, 0)], ['Loss · Spinning Backfist · 1:05 · R2', datetime.datetime(2014, 9, 26, 0, 0)], ['Win · Punch · 2:46 · R1', datetime.datetime(2014, 9, 26, 0, 0)], ['Win · Punches · 0:27 · R2', datetime.datetime(2014, 9, 26, 0, 0)]]\n",
      "renan barao\n",
      "[['Loss · Decision · Unanimous', datetime.datetime(2019, 11, 16, 0, 0)], ['Loss · Punches · 1:01 · R2', datetime.datetime(2019, 2, 17, 0, 0)], ['Loss · Decision · Split', datetime.datetime(2018, 9, 22, 0, 0)], ['Loss · Decision · Unanimous', datetime.datetime(2018, 2, 24, 0, 0)], ['Loss · Decision · Unanimous', datetime.datetime(2017, 7, 29, 0, 0)], ['Win · Decision · Unanimous', datetime.datetime(2016, 9, 24, 0, 0)], ['Loss · Decision · Unanimous', datetime.datetime(2016, 5, 29, 0, 0)], ['Loss · Punches · 0:35 · R4', datetime.datetime(2015, 7, 25, 0, 0)], ['Win · Arm Triangle Choke · 3:53 · R3', datetime.datetime(2014, 12, 20, 0, 0)], ['Loss · Head Kick & Punches · 2:26 · R5', datetime.datetime(2014, 5, 24, 0, 0)], ['Win · Punches · 3:42 · R1', datetime.datetime(2014, 2, 1, 0, 0)], ['Win · Spinning Back Kick & Punches · 0:35 · R2', datetime.datetime(2013, 9, 21, 0, 0)], ['Win · Arm Triangle Choke · 3:57 · R4', datetime.datetime(2013, 2, 16, 0, 0)], ['Win · Decision · Unanimous', datetime.datetime(2012, 7, 21, 0, 0)], ['Win · Decision · Unanimous', datetime.datetime(2012, 2, 4, 0, 0)], ['Win · Rear Naked Choke · 4:09 · R1', datetime.datetime(2011, 11, 5, 0, 0)], ['Win · Decision · Unanimous', datetime.datetime(2011, 5, 28, 0, 0)], ['Win · Rear Naked Choke · 3:47 · R1', datetime.datetime(2010, 12, 16, 0, 0)], ['Win · Armbar · 2:29 · R3', datetime.datetime(2010, 6, 20, 0, 0)], ['Win', datetime.datetime(2010, 2, 27, 0, 0)], ['Win', datetime.datetime(2009, 12, 5, 0, 0)], ['Win', datetime.datetime(2009, 9, 26, 0, 0)], ['Win', datetime.datetime(2009, 8, 27, 0, 0)], ['Win', datetime.datetime(2009, 8, 13, 0, 0)], ['Win', datetime.datetime(2009, 3, 19, 0, 0)], ['Win', datetime.datetime(2008, 11, 29, 0, 0)], ['Win', datetime.datetime(2008, 9, 25, 0, 0)], ['Win', datetime.datetime(2008, 9, 25, 0, 0)], ['Win', datetime.datetime(2008, 8, 30, 0, 0)], ['Win', datetime.datetime(2008, 6, 5, 0, 0)], ['Win', datetime.datetime(2008, 5, 23, 0, 0)], ['Win', datetime.datetime(2008, 4, 19, 0, 0)], ['Win', datetime.datetime(2007, 10, 27, 0, 0)], ['Win', datetime.datetime(2007, 7, 7, 0, 0)], ['Win', datetime.datetime(2007, 4, 25, 0, 0)], ['Win', datetime.datetime(2007, 4, 25, 0, 0)], ['Win', datetime.datetime(2006, 11, 9, 0, 0)], ['Win', datetime.datetime(2006, 9, 6, 0, 0)], ['Win', datetime.datetime(2006, 6, 8, 0, 0)], ['Win', datetime.datetime(2005, 11, 22, 0, 0)], ['Win', datetime.datetime(2005, 8, 26, 0, 0)], ['Win', datetime.datetime(2005, 5, 13, 0, 0)], ['Loss', datetime.datetime(2005, 4, 14, 0, 0)]]\n"
     ]
    },
    {
     "name": "stdout",
     "output_type": "stream",
     "text": [
      "robbie lawler\n",
      "[['Win · Retirement · 0:44 · R3', datetime.datetime(2021, 9, 25, 0, 0)], ['Loss · Decision · Unanimous', datetime.datetime(2020, 8, 29, 0, 0)], ['Loss · Decision · Unanimous', datetime.datetime(2019, 8, 3, 0, 0)], ['Loss · Bulldog Choke · 3:20 · R1', datetime.datetime(2019, 3, 2, 0, 0)], ['Loss · Decision · Unanimous', datetime.datetime(2017, 12, 16, 0, 0)], ['Win · Decision · Unanimous', datetime.datetime(2017, 7, 29, 0, 0)], ['Loss · Punches · 2:12 · R1', datetime.datetime(2016, 7, 30, 0, 0)], ['Win · Decision · Split', datetime.datetime(2016, 1, 2, 0, 0)], ['Win · Punches · 1:00 · R5', datetime.datetime(2015, 7, 11, 0, 0)], ['Win · Decision · Split', datetime.datetime(2014, 12, 6, 0, 0)], ['Win · Decision · Unanimous', datetime.datetime(2014, 7, 26, 0, 0)], ['Win · Knee & Punches · 3:06 · R3', datetime.datetime(2014, 5, 24, 0, 0)], ['Loss · Decision · Unanimous', datetime.datetime(2014, 3, 15, 0, 0)], ['Win · Decision · Split', datetime.datetime(2013, 11, 16, 0, 0)], ['Win · Head Kick & Punch · 0:24 · R2', datetime.datetime(2013, 7, 27, 0, 0)], ['Win · Punches · 3:57 · R1', datetime.datetime(2013, 2, 23, 0, 0)], ['Loss · Decision · Unanimous', datetime.datetime(2012, 7, 14, 0, 0)], ['Win · Flying Knee & Punches · 1:48 · R1', datetime.datetime(2012, 1, 7, 0, 0)], ['Loss · Decision · Unanimous', datetime.datetime(2011, 7, 30, 0, 0)], ['Loss · Rear Naked Choke · 2:00 · R3', datetime.datetime(2011, 1, 29, 0, 0)], ['Win · Punch · 0:50 · R1', datetime.datetime(2010, 12, 4, 0, 0)], ['Loss · Decision · Unanimous', datetime.datetime(2010, 6, 17, 0, 0)], ['Win · Punches · 3:33 · R1', datetime.datetime(2010, 1, 30, 0, 0)], ['Loss · Guillotine Choke · 2:02 · R1', datetime.datetime(2009, 6, 6, 0, 0)], ['Win · Kicks & Punches · 2:35 · R2', datetime.datetime(2008, 7, 26, 0, 0)], ['Win · Punches · 2:04 · R3', datetime.datetime(2007, 9, 15, 0, 0)], ['Win · Punches · 1:40 · R4', datetime.datetime(2007, 3, 31, 0, 0)], ['Win · Punches · 1:36 · R3', datetime.datetime(2007, 2, 23, 0, 0)], ['Win · Flying Knee · 0:22 · R1', datetime.datetime(2006, 10, 21, 0, 0)], ['Loss', datetime.datetime(2006, 9, 2, 0, 0)], ['Win', datetime.datetime(2006, 2, 25, 0, 0)], ['Win · Armbar · 2:48 · R1', datetime.datetime(2005, 9, 17, 0, 0)], ['Win · Punches · 4:36 · R2', datetime.datetime(2005, 7, 23, 0, 0)], ['Loss · Triangle Choke · 2:22 · R1', datetime.datetime(2004, 10, 22, 0, 0)], ['Loss · Punches · 1:31 · R2', datetime.datetime(2004, 4, 2, 0, 0)], ['Win · Decision · Unanimous', datetime.datetime(2003, 11, 21, 0, 0)], ['Loss · Injury · 2:28 · R2', datetime.datetime(2003, 4, 25, 0, 0)], ['Win · Punches · 1:29 · R1', datetime.datetime(2002, 11, 22, 0, 0)], ['Win · Punches · 0:27 · R2', datetime.datetime(2002, 6, 22, 0, 0)], ['Win · Decision · Unanimous', datetime.datetime(2002, 5, 10, 0, 0)], ['Win · Punches · 4:49 · R1', datetime.datetime(2001, 12, 15, 0, 0)], ['Win · Punches · 1:19 · R1', datetime.datetime(2001, 7, 13, 0, 0)], ['Win · Punches · 0:14 · R1', datetime.datetime(2001, 6, 15, 0, 0)], ['Win · Punches · 2:14 · R1', datetime.datetime(2001, 4, 7, 0, 0)], ['Win · Punches · 3:05 · R1', datetime.datetime(2001, 1, 20, 0, 0)], ['Win · KO/TKO · 4:27 · R1', datetime.datetime(2001, 1, 20, 0, 0)]]\n",
      "robert whittaker\n",
      "[['Win · Decision · Unanimous', datetime.datetime(2021, 4, 17, 0, 0)], ['Win · Decision · Unanimous', datetime.datetime(2020, 10, 24, 0, 0)], ['Win · Decision · Unanimous', datetime.datetime(2020, 7, 25, 0, 0)], ['Loss · Counter Left Hook · 3:33 · R2', datetime.datetime(2019, 10, 5, 0, 0)], ['Win · Decision · Split', datetime.datetime(2018, 6, 9, 0, 0)], ['Win · Decision · Unanimous', datetime.datetime(2017, 7, 8, 0, 0)], ['Win · Head Kick & Punches · 3:28 · R2', datetime.datetime(2017, 4, 15, 0, 0)], ['Win · Head Kick & Punches · 4:07 · R1', datetime.datetime(2016, 11, 26, 0, 0)], ['Win · Decision · Unanimous', datetime.datetime(2016, 4, 23, 0, 0)], ['Win · Decision · Unanimous', datetime.datetime(2015, 11, 14, 0, 0)], ['Win · Punches · 0:44 · R1', datetime.datetime(2015, 5, 9, 0, 0)], ['Win · Knee & Punches · 2:43 · R2', datetime.datetime(2014, 11, 7, 0, 0)], ['Win · Decision · Unanimous', datetime.datetime(2014, 6, 28, 0, 0)], ['Loss · Punches · 3:43 · R1', datetime.datetime(2014, 2, 22, 0, 0)], ['Loss · Decision · Split', datetime.datetime(2013, 8, 28, 0, 0)], ['Win · Punches · 0:41 · R3', datetime.datetime(2013, 5, 25, 0, 0)], ['Win · Decision · Unanimous', datetime.datetime(2012, 12, 14, 0, 0)], ['Loss · Decision · Unanimous', datetime.datetime(2012, 5, 18, 0, 0)], ['Win', datetime.datetime(2012, 3, 23, 0, 0)], ['Win', datetime.datetime(2011, 12, 9, 0, 0)], ['Loss · Triangle Choke · 3:01 · R1', datetime.datetime(2011, 10, 30, 0, 0)], ['Win', datetime.datetime(2011, 8, 26, 0, 0)], ['Win', datetime.datetime(2011, 6, 3, 0, 0)], ['Win', datetime.datetime(2010, 10, 8, 0, 0)], ['Win', datetime.datetime(2010, 6, 5, 0, 0)], ['Win', datetime.datetime(2010, 3, 12, 0, 0)], ['Win', datetime.datetime(2009, 11, 20, 0, 0)], ['Win', datetime.datetime(2009, 3, 14, 0, 0)]]\n",
      "ronda rousey\n",
      "[['Loss · Punches · 0:48 · R1', datetime.datetime(2016, 12, 30, 0, 0)], ['Loss · Head Kick & Punches · 0:59 · R2', datetime.datetime(2015, 11, 14, 0, 0)], ['Win · Punches · 0:34 · R1', datetime.datetime(2015, 8, 1, 0, 0)], ['Win · Armbar · 0:14 · R1', datetime.datetime(2015, 2, 28, 0, 0)], ['Win · Punches · 0:16 · R1', datetime.datetime(2014, 7, 5, 0, 0)], ['Win · Knee to the Body · 1:06 · R1', datetime.datetime(2014, 2, 22, 0, 0)], ['Win · Armbar · 0:58 · R3', datetime.datetime(2013, 12, 28, 0, 0)], ['Win · Armbar · 4:49 · R1', datetime.datetime(2013, 2, 23, 0, 0)], ['Win · Armbar · 0:54 · R1', datetime.datetime(2012, 8, 18, 0, 0)], ['Win · Armbar · 4:27 · R1', datetime.datetime(2012, 3, 3, 0, 0)], ['Win · Armbar · 0:39 · R1', datetime.datetime(2011, 11, 18, 0, 0)], ['Win · Armbar · 0:25 · R1', datetime.datetime(2011, 8, 12, 0, 0)], ['Win · Armbar · 0:49 · R1', datetime.datetime(2011, 6, 17, 0, 0)], ['Win · Armbar · 0:25 · R1', datetime.datetime(2011, 3, 26, 0, 0)], ['Loss', datetime.datetime(2008, 8, 13, 0, 0)], ['Win', datetime.datetime(2008, 8, 13, 0, 0)], ['Win', datetime.datetime(2008, 8, 13, 0, 0)], ['Win', datetime.datetime(2008, 8, 13, 0, 0)], ['Win', datetime.datetime(2008, 8, 13, 0, 0)], ['Win', datetime.datetime(2008, 8, 13, 0, 0)], ['Loss', datetime.datetime(2004, 8, 17, 0, 0)], ['Win', datetime.datetime(2004, 8, 17, 0, 0)], ['Loss', datetime.datetime(2004, 8, 17, 0, 0)], ['Win', datetime.datetime(2011, 1, 7, 0, 0)], ['Win', datetime.datetime(2010, 11, 12, 0, 0)]]\n",
      "rose namajunas\n",
      "[['Win · Decision · Split', datetime.datetime(2021, 11, 6, 0, 0)], ['Win · Head Kick · 1:18 · R1', datetime.datetime(2021, 4, 24, 0, 0)], ['Win · Decision · Split', datetime.datetime(2020, 7, 11, 0, 0)], ['Loss · Slam · 2:58 · R2', datetime.datetime(2019, 5, 11, 0, 0)], ['Win · Decision · Unanimous', datetime.datetime(2018, 4, 7, 0, 0)], ['Win · Punches · 3:03 · R1', datetime.datetime(2017, 11, 4, 0, 0)], ['Win · Rear Naked Choke · 2:47 · R2', datetime.datetime(2017, 4, 15, 0, 0)], ['Loss · Decision · Split', datetime.datetime(2016, 7, 30, 0, 0)], ['Win · Decision · Unanimous', datetime.datetime(2016, 4, 16, 0, 0)], ['Win · Rear Naked Choke · 2:25 · R5', datetime.datetime(2015, 12, 10, 0, 0)], ['Win · Rear Naked Choke · 2:47 · R1', datetime.datetime(2015, 10, 3, 0, 0)], ['Loss · Rear Naked Choke · 1:26 · R3', datetime.datetime(2014, 12, 12, 0, 0)], ['Win · Kimura · 2:45 · R1', datetime.datetime(2014, 8, 14, 0, 0)], ['Win · Kimura · 2:06 · R2', datetime.datetime(2014, 8, 6, 0, 0)], ['Win · Rear Naked Choke · 4:38 · R1', datetime.datetime(2014, 7, 28, 0, 0)], ['Loss · Decision · Unanimous', datetime.datetime(2013, 7, 13, 0, 0)], ['Win · Flying Armbar · 0:12 · R1', datetime.datetime(2013, 4, 5, 0, 0)], ['Win · Rear Naked Choke · 3:44 · R3', datetime.datetime(2013, 1, 5, 0, 0)], ['Win', datetime.datetime(2012, 6, 30, 0, 0)], ['Win', datetime.datetime(2012, 3, 17, 0, 0)], ['Win', datetime.datetime(2011, 12, 10, 0, 0)], ['Win', datetime.datetime(2010, 8, 7, 0, 0)]]\n",
      "stipe miocic\n",
      "[['Loss · Left Hook · 0:52 · R2', datetime.datetime(2021, 3, 27, 0, 0)], ['Win · Decision · Unanimous', datetime.datetime(2020, 8, 15, 0, 0)], ['Win · Punches · 4:09 · R4', datetime.datetime(2019, 8, 17, 0, 0)], ['Loss · Decision', datetime.datetime(2019, 4, 27, 0, 0)], ['Loss · Punches · 4:33 · R1', datetime.datetime(2018, 7, 7, 0, 0)], ['Win · Decision · Unanimous', datetime.datetime(2018, 1, 20, 0, 0)], ['Win · Punches · 2:22 · R1', datetime.datetime(2017, 5, 13, 0, 0)], ['Win · Ground & Pound · 4:27 · R1', datetime.datetime(2016, 9, 10, 0, 0)], ['Win · Punch · 2:47 · R1', datetime.datetime(2016, 5, 14, 0, 0)], ['Win · Punches · 0:54 · R1', datetime.datetime(2016, 1, 2, 0, 0)], ['Win · Punches · 2:47 · R5', datetime.datetime(2015, 5, 9, 0, 0)], ['Loss · Decision · Unanimous', datetime.datetime(2014, 12, 13, 0, 0)], ['Win · Punches · 0:35 · R1', datetime.datetime(2014, 5, 31, 0, 0)], ['Win · Decision · Unanimous', datetime.datetime(2014, 1, 25, 0, 0)], ['Win · Decision · Unanimous', datetime.datetime(2013, 6, 15, 0, 0)], ['Loss · Punches · 3:50 · R2', datetime.datetime(2012, 9, 29, 0, 0)], ['Win · Elbows · 3:14 · R2', datetime.datetime(2012, 5, 26, 0, 0)], ['Win · Punches · 0:43 · R1', datetime.datetime(2012, 2, 15, 0, 0)], ['Win · Decision · Unanimous', datetime.datetime(2011, 10, 8, 0, 0)], ['Win', datetime.datetime(2011, 6, 4, 0, 0)], ['Win', datetime.datetime(2011, 4, 15, 0, 0)], ['Win', datetime.datetime(2010, 12, 4, 0, 0)], ['Win', datetime.datetime(2010, 8, 28, 0, 0)], ['Win · Punches · 1:32 · R2', datetime.datetime(2010, 5, 21, 0, 0)], ['Win', datetime.datetime(2010, 2, 20, 0, 0)], ['Win', datetime.datetime(2008, 6, 7, 0, 0)], ['Win', datetime.datetime(2008, 2, 16, 0, 0)], ['Win', datetime.datetime(2007, 11, 3, 0, 0)], ['Win', datetime.datetime(2007, 9, 8, 0, 0)], ['Win', datetime.datetime(2006, 8, 3, 0, 0)]]\n"
     ]
    },
    {
     "name": "stdout",
     "output_type": "stream",
     "text": [
      "tyron woodley\n",
      "[['Loss · Right Hook · 2:12 · R6', datetime.datetime(2021, 12, 18, 0, 0)], ['Loss · Decision · Split', datetime.datetime(2021, 8, 29, 0, 0)], [\"Loss · D'Arce Choke · 3:56 · R1\", datetime.datetime(2021, 3, 27, 0, 0)], ['Loss · Rib Injury · 1:19 · R5', datetime.datetime(2020, 9, 19, 0, 0)], ['Loss · Decision · Unanimous', datetime.datetime(2020, 5, 30, 0, 0)], ['Loss · Decision · Unanimous', datetime.datetime(2019, 3, 2, 0, 0)], [\"Win · D'Arce Choke · 4:19 · R2\", datetime.datetime(2018, 9, 8, 0, 0)], ['Win · Decision · Unanimous', datetime.datetime(2017, 7, 29, 0, 0)], ['Win · Decision · Majority', datetime.datetime(2017, 3, 4, 0, 0)], ['Draw · Decision · Majority', datetime.datetime(2016, 11, 12, 0, 0)], ['Win · Punches · 2:12 · R1', datetime.datetime(2016, 7, 30, 0, 0)], ['Win · Decision · Split', datetime.datetime(2015, 1, 31, 0, 0)], ['Win · Punches · 1:01 · R1', datetime.datetime(2014, 8, 23, 0, 0)], ['Loss · Decision · Unanimous', datetime.datetime(2014, 6, 14, 0, 0)], ['Win · Knee Injury · 2:00 · R2', datetime.datetime(2014, 3, 15, 0, 0)], ['Win · Punches · 4:38 · R1', datetime.datetime(2013, 11, 16, 0, 0)], ['Loss · Decision · Split', datetime.datetime(2013, 6, 15, 0, 0)], ['Win · Punches · 0:36 · R1', datetime.datetime(2013, 2, 2, 0, 0)], ['Loss · Punches & Elbows · 1:39 · R4', datetime.datetime(2012, 7, 14, 0, 0)], ['Win · Decision · Split', datetime.datetime(2012, 1, 7, 0, 0)], ['Win · Decision · Unanimous', datetime.datetime(2011, 7, 30, 0, 0)], ['Win · Decision · Unanimous', datetime.datetime(2011, 1, 7, 0, 0)], ['Win · Punches · 1:48 · R1', datetime.datetime(2010, 10, 9, 0, 0)], ['Win · Decision · Split', datetime.datetime(2010, 5, 22, 0, 0)], ['Win · Arm-Triangle Choke · 2:52 · R1', datetime.datetime(2009, 11, 20, 0, 0)], ['Win · Armbar · 3:38 · R2', datetime.datetime(2009, 9, 25, 0, 0)], ['Win · Brabo Choke · 4:20 · R1', datetime.datetime(2009, 6, 6, 0, 0)], ['Win', datetime.datetime(2009, 4, 30, 0, 0)], ['Win', datetime.datetime(2009, 2, 7, 0, 0)], ['Win', datetime.datetime(2007, 6, 15, 0, 0)], ['Win', datetime.datetime(2006, 2, 3, 0, 0)]]\n",
      "valentina shevchenko\n",
      "[['Win · Ground & Pound · 4:00 · R4', datetime.datetime(2021, 9, 25, 0, 0)], ['Win · Elbows from Crucifix · 3:19 · R2', datetime.datetime(2021, 4, 24, 0, 0)], ['Win · Decision · Unanimous', datetime.datetime(2020, 11, 21, 0, 0)], ['Win · Ground & Pound from Crucifix · 1:03 · R3', datetime.datetime(2020, 2, 8, 0, 0)], ['Win · Decision · Unanimous', datetime.datetime(2019, 8, 10, 0, 0)], ['Win · Head Kick · 0:26 · R2', datetime.datetime(2019, 6, 8, 0, 0)], ['Win · Decision · Unanimous', datetime.datetime(2018, 12, 8, 0, 0)], ['Win · Rear Naked Choke · 4:25 · R2', datetime.datetime(2018, 2, 3, 0, 0)], ['Loss · Decision · Split', datetime.datetime(2017, 9, 9, 0, 0)], ['Win · Armbar · 4:29 · R2', datetime.datetime(2017, 1, 28, 0, 0)], ['Win · Decision · Unanimous', datetime.datetime(2016, 7, 23, 0, 0)], ['Loss · Decision · Unanimous', datetime.datetime(2016, 3, 5, 0, 0)], ['Win · Decision · Split', datetime.datetime(2015, 12, 19, 0, 0)], ['Loss · Decision · Unanimous', datetime.datetime(2015, 10, 31, 0, 0)], ['Win · Decision · Unanimous', datetime.datetime(2015, 2, 27, 0, 0)], ['Win · Decision · Unanimous', datetime.datetime(2014, 10, 5, 0, 0)], ['Win · KO/TKO', datetime.datetime(2014, 8, 31, 0, 0)], ['Win · Decision', datetime.datetime(2014, 8, 31, 0, 0)], ['Win · Decision', datetime.datetime(2014, 8, 31, 0, 0)], ['Win · Retirement · 3:00 · R2', datetime.datetime(2014, 2, 26, 0, 0)], ['Win · Punches · 0:50 · R2', datetime.datetime(2013, 12, 18, 0, 0)], ['Win · Retirement', datetime.datetime(2011, 12, 17, 0, 0)], ['Win · Decision · Unanimous', datetime.datetime(2011, 4, 30, 0, 0)], ['Loss', datetime.datetime(2010, 9, 30, 0, 0)], ['Win · Decision · Unanimous', datetime.datetime(2010, 5, 8, 0, 0)], ['Win · Ezequiel Choke · 1:11 · R1', datetime.datetime(2006, 3, 3, 0, 0)], ['Win · Armbar · 1:09 · R1', datetime.datetime(2005, 7, 9, 0, 0)], ['Win · Rear Naked Choke · 1:29 · R2', datetime.datetime(2005, 3, 22, 0, 0)], ['Win · Rear Naked Choke', datetime.datetime(2005, 3, 21, 0, 0)], ['Win', datetime.datetime(2004, 10, 15, 0, 0)], ['Win', datetime.datetime(2004, 3, 10, 0, 0)], ['Win · Rear Naked Choke · 1:55 · R1', datetime.datetime(2003, 12, 3, 0, 0)], ['Win', datetime.datetime(2003, 4, 21, 0, 0)]]\n",
      "weili zhang\n",
      "[['Loss · Decision · Split', datetime.datetime(2021, 11, 6, 0, 0)], ['Loss · Head Kick · 1:18 · R1', datetime.datetime(2021, 4, 24, 0, 0)], ['Win · Decision · Split', datetime.datetime(2020, 3, 7, 0, 0)], ['Win · Knees & Punches · 0:42 · R1', datetime.datetime(2019, 8, 31, 0, 0)], ['Win · Decision · Unanimous', datetime.datetime(2019, 3, 2, 0, 0)], ['Win · Armbar · 3:41 · R1', datetime.datetime(2018, 11, 24, 0, 0)], ['Win · Decision · Unanimous', datetime.datetime(2018, 8, 4, 0, 0)], ['Win · Arm Bar · 3:29 · R1', datetime.datetime(2017, 10, 3, 0, 0)], ['Win · KO/TKO · 3:20 · R2', datetime.datetime(2017, 8, 28, 0, 0)], ['Win · Elbow & Punches · 1:35 · R2', datetime.datetime(2017, 7, 22, 0, 0)], ['Win · Decision · Unanimous', datetime.datetime(2017, 6, 1, 0, 0)], ['Win · KO/TKO · 2:29 · R1', datetime.datetime(2017, 5, 4, 0, 0)], ['Win · Guillotine Choke · 0:41 · R1', datetime.datetime(2017, 2, 25, 0, 0)], ['Win · KO/TKO · 1:50 · R1', datetime.datetime(2017, 1, 2, 0, 0)], ['Win · KO/TKO · 2:15 · R1', datetime.datetime(2016, 12, 15, 0, 0)], ['Win · Submission · 4:11 · R1', datetime.datetime(2016, 9, 24, 0, 0)], ['Win · Referee Stoppage (Cut) · 2:51 · R2', datetime.datetime(2016, 8, 6, 0, 0)], ['Win · KO/TKO · 4:13 · R2', datetime.datetime(2016, 7, 10, 0, 0)], ['Win · Rear Naked Choke · 4:41 · R2', datetime.datetime(2016, 5, 22, 0, 0)], ['Win · Punches · 2:29 · R2', datetime.datetime(2016, 2, 21, 0, 0)], ['Win · Punches · 3:37 · R1', datetime.datetime(2015, 12, 19, 0, 0)], ['Win · Rear Naked Choke', datetime.datetime(2014, 10, 27, 0, 0)], ['Win · Armbar · 1:56 · R1', datetime.datetime(2014, 10, 14, 0, 0)], ['Loss · Decision · Unanimous', datetime.datetime(2013, 12, 14, 0, 0)], ['Loss', datetime.datetime(2013, 11, 9, 0, 0)]]\n",
      " \n"
     ]
    }
   ],
   "source": [
    "fighters = list(f.index.values)\n",
    "#fighters = [\"Rose Namajunas\",\"Ronda Rousey\", \"renan barao\"]\n",
    "#fighters = [\"Rose Namajunas\",\"Ronda Rousey\",\"maX HolloWay\",\"georges st. PIERRE\",\"renan barao\",\"michael bisping\",\n",
    "#            \"chuck liddell\",\"junior dos santos\",\"MIESHa TaTE\",\"randy couture\"]\n",
    "fight_recs = {}\n",
    "for fighter in fighters:\n",
    "    inner_hash = {}\n",
    "    fighter_url = get_next_fighter_url(fighter)\n",
    "    fighter_records = fighter_page( fighter_url )\n",
    "    fight_recs[fighter] = fighter_records\n",
    "    inner_hash['fights'] = fighter_records\n",
    "    inner_hash['dob'] = f.loc[fighter]['birth_date']\n",
    "    #fight_recs[fighter] = fighter_records\n",
    "    fight_recs[fighter] = inner_hash\n",
    "    \n",
    "print(' ')"
   ]
  },
  {
   "cell_type": "code",
   "execution_count": 326,
   "id": "5f863d0a",
   "metadata": {
    "scrolled": false
   },
   "outputs": [],
   "source": [
    "#fight_recs"
   ]
  },
  {
   "cell_type": "code",
   "execution_count": 344,
   "id": "7f2956f7",
   "metadata": {
    "scrolled": false
   },
   "outputs": [],
   "source": [
    "def get_age(dob, fdate):\n",
    "    now = dt.datetime.now()\n",
    "    delt = fdate - dob\n",
    "    return int(delt.days // 365.25)\n",
    "\n",
    "#rows = driver.find_elements_by_xpath(\"//div[@class='searchResultsFighter']/table//tr/td/a\")\n",
    "#[row.get_attribute(\"href\") for row in rows]\n",
    "\n",
    "final = {}\n",
    "# KEY IS UNIQUE FIGHTER NAME\n",
    "for key in fight_recs:\n",
    "    # fight_recs is a list of lists\n",
    "    foo = []\n",
    "\n",
    "    # ITERATE THROUGH FIGHT RECORD\n",
    "    outcome = ''\n",
    "    fight_age = 0\n",
    "    stats_list = []\n",
    "    dob = fight_recs[key]['dob']\n",
    "\n",
    "    for rec in fight_recs[key]['fights']:\n",
    "        fdate = rec[1]\n",
    "        if(rec[0].lower().count('win') > 0):\n",
    "            outcome = 'W'\n",
    "        else:\n",
    "            outcome = 'L'\n",
    "        fight_age = get_age(dob, fdate)\n",
    "        stats_list.append( [outcome, fdate.strftime('%Y-%m-%d'), fight_age] )\n",
    "    final[key] = stats_list\n",
    "#final"
   ]
  },
  {
   "cell_type": "code",
   "execution_count": 352,
   "id": "9f4e87a9",
   "metadata": {},
   "outputs": [],
   "source": [
    "df_list = []\n",
    "for key in final:\n",
    "    for item in final[key]:\n",
    "        df_list.append([item][0])"
   ]
  },
  {
   "cell_type": "code",
   "execution_count": 355,
   "id": "66fa9544",
   "metadata": {},
   "outputs": [],
   "source": [
    "df_list\n",
    "df_ft = pd.DataFrame(df_list, columns=['outcome','fdate','fight_age'])"
   ]
  },
  {
   "cell_type": "code",
   "execution_count": 408,
   "id": "b3ce8ac6",
   "metadata": {},
   "outputs": [
    {
     "data": {
      "text/html": [
       "<div>\n",
       "<style scoped>\n",
       "    .dataframe tbody tr th:only-of-type {\n",
       "        vertical-align: middle;\n",
       "    }\n",
       "\n",
       "    .dataframe tbody tr th {\n",
       "        vertical-align: top;\n",
       "    }\n",
       "\n",
       "    .dataframe thead th {\n",
       "        text-align: right;\n",
       "    }\n",
       "</style>\n",
       "<table border=\"1\" class=\"dataframe\">\n",
       "  <thead>\n",
       "    <tr style=\"text-align: right;\">\n",
       "      <th></th>\n",
       "      <th>outcome</th>\n",
       "      <th>fdate</th>\n",
       "      <th>fight_age</th>\n",
       "    </tr>\n",
       "  </thead>\n",
       "  <tbody>\n",
       "    <tr>\n",
       "      <th>0</th>\n",
       "      <td>W</td>\n",
       "      <td>2021-09-25</td>\n",
       "      <td>32</td>\n",
       "    </tr>\n",
       "    <tr>\n",
       "      <th>1</th>\n",
       "      <td>W</td>\n",
       "      <td>2020-07-11</td>\n",
       "      <td>31</td>\n",
       "    </tr>\n",
       "    <tr>\n",
       "      <th>2</th>\n",
       "      <td>W</td>\n",
       "      <td>2019-12-14</td>\n",
       "      <td>31</td>\n",
       "    </tr>\n",
       "    <tr>\n",
       "      <th>3</th>\n",
       "      <td>W</td>\n",
       "      <td>2019-05-11</td>\n",
       "      <td>30</td>\n",
       "    </tr>\n",
       "    <tr>\n",
       "      <th>4</th>\n",
       "      <td>W</td>\n",
       "      <td>2018-12-29</td>\n",
       "      <td>30</td>\n",
       "    </tr>\n",
       "    <tr>\n",
       "      <th>...</th>\n",
       "      <td>...</td>\n",
       "      <td>...</td>\n",
       "      <td>...</td>\n",
       "    </tr>\n",
       "    <tr>\n",
       "      <th>1614</th>\n",
       "      <td>W</td>\n",
       "      <td>2015-12-19</td>\n",
       "      <td>26</td>\n",
       "    </tr>\n",
       "    <tr>\n",
       "      <th>1615</th>\n",
       "      <td>W</td>\n",
       "      <td>2014-10-27</td>\n",
       "      <td>25</td>\n",
       "    </tr>\n",
       "    <tr>\n",
       "      <th>1616</th>\n",
       "      <td>W</td>\n",
       "      <td>2014-10-14</td>\n",
       "      <td>25</td>\n",
       "    </tr>\n",
       "    <tr>\n",
       "      <th>1617</th>\n",
       "      <td>L</td>\n",
       "      <td>2013-12-14</td>\n",
       "      <td>24</td>\n",
       "    </tr>\n",
       "    <tr>\n",
       "      <th>1618</th>\n",
       "      <td>L</td>\n",
       "      <td>2013-11-09</td>\n",
       "      <td>24</td>\n",
       "    </tr>\n",
       "  </tbody>\n",
       "</table>\n",
       "<p>1619 rows × 3 columns</p>\n",
       "</div>"
      ],
      "text/plain": [
       "     outcome       fdate  fight_age\n",
       "0          W  2021-09-25         32\n",
       "1          W  2020-07-11         31\n",
       "2          W  2019-12-14         31\n",
       "3          W  2019-05-11         30\n",
       "4          W  2018-12-29         30\n",
       "...      ...         ...        ...\n",
       "1614       W  2015-12-19         26\n",
       "1615       W  2014-10-27         25\n",
       "1616       W  2014-10-14         25\n",
       "1617       L  2013-12-14         24\n",
       "1618       L  2013-11-09         24\n",
       "\n",
       "[1619 rows x 3 columns]"
      ]
     },
     "execution_count": 408,
     "metadata": {},
     "output_type": "execute_result"
    }
   ],
   "source": [
    "import matplotlib.pyplot as plt\n",
    "df_ft"
   ]
  },
  {
   "cell_type": "code",
   "execution_count": 375,
   "id": "c66a96fe",
   "metadata": {},
   "outputs": [],
   "source": [
    "foo = df_ft.loc[:,'fight_age'].unique()"
   ]
  },
  {
   "cell_type": "code",
   "execution_count": 400,
   "id": "637ae197",
   "metadata": {},
   "outputs": [
    {
     "data": {
      "text/plain": [
       "[20,\n",
       " 21,\n",
       " 22,\n",
       " 23,\n",
       " 24,\n",
       " 25,\n",
       " 26,\n",
       " 27,\n",
       " 28,\n",
       " 29,\n",
       " 30,\n",
       " 31,\n",
       " 32,\n",
       " 33,\n",
       " 34,\n",
       " 35,\n",
       " 36,\n",
       " 37,\n",
       " 38,\n",
       " 39,\n",
       " 40]"
      ]
     },
     "execution_count": 400,
     "metadata": {},
     "output_type": "execute_result"
    }
   ],
   "source": [
    "f = sorted( foo.tolist() )"
   ]
  },
  {
   "cell_type": "code",
   "execution_count": 473,
   "id": "aa552bf1",
   "metadata": {},
   "outputs": [],
   "source": [
    "filt = (df_ft['fight_age'] > 19) & (df_ft['fight_age'] < 41)\n",
    "df_ft = df_ft[filt].sort_values('fight_age')"
   ]
  },
  {
   "cell_type": "code",
   "execution_count": 503,
   "id": "6f5c77b5",
   "metadata": {
    "scrolled": false
   },
   "outputs": [],
   "source": [
    "df_ft\n",
    "\n",
    "plot_df = df_ft.groupby(['fight_age', 'outcome']).size().unstack(fill_value=0)\n",
    "plot_df['pct_loss'] = (plot_df['L'] / (plot_df['L'] + plot_df['W'])) * 100\n"
   ]
  },
  {
   "cell_type": "code",
   "execution_count": 500,
   "id": "4c2718d0",
   "metadata": {},
   "outputs": [
    {
     "data": {
      "text/plain": [
       "[11.29032258064516,\n",
       " 14.285714285714285,\n",
       " 17.24137931034483,\n",
       " 15.625,\n",
       " 14.414414414414415,\n",
       " 12.408759124087592,\n",
       " 10.144927536231885,\n",
       " 18.852459016393443,\n",
       " 23.809523809523807,\n",
       " 26.666666666666668,\n",
       " 28.888888888888886,\n",
       " 27.380952380952383,\n",
       " 35.36585365853659,\n",
       " 40.0,\n",
       " 38.775510204081634,\n",
       " 47.368421052631575,\n",
       " 44.11764705882353,\n",
       " 44.44444444444444,\n",
       " 62.5,\n",
       " 50.0,\n",
       " 75.0]"
      ]
     },
     "execution_count": 500,
     "metadata": {},
     "output_type": "execute_result"
    }
   ],
   "source": [
    "import numpy as np\n",
    "import seaborn as sns\n",
    "\n",
    "plot_df['pct_loss'].to_list()"
   ]
  },
  {
   "cell_type": "code",
   "execution_count": 512,
   "id": "a18a4c91",
   "metadata": {},
   "outputs": [],
   "source": [
    "plot_df['fight_freq'] = (plot_df['L'] + plot_df['W'])"
   ]
  },
  {
   "cell_type": "code",
   "execution_count": 513,
   "id": "9da8b84c",
   "metadata": {},
   "outputs": [
    {
     "data": {
      "text/html": [
       "<div>\n",
       "<style scoped>\n",
       "    .dataframe tbody tr th:only-of-type {\n",
       "        vertical-align: middle;\n",
       "    }\n",
       "\n",
       "    .dataframe tbody tr th {\n",
       "        vertical-align: top;\n",
       "    }\n",
       "\n",
       "    .dataframe thead th {\n",
       "        text-align: right;\n",
       "    }\n",
       "</style>\n",
       "<table border=\"1\" class=\"dataframe\">\n",
       "  <thead>\n",
       "    <tr style=\"text-align: right;\">\n",
       "      <th>outcome</th>\n",
       "      <th>L</th>\n",
       "      <th>W</th>\n",
       "      <th>pct_loss</th>\n",
       "      <th>fight_freq</th>\n",
       "    </tr>\n",
       "    <tr>\n",
       "      <th>fight_age</th>\n",
       "      <th></th>\n",
       "      <th></th>\n",
       "      <th></th>\n",
       "      <th></th>\n",
       "    </tr>\n",
       "  </thead>\n",
       "  <tbody>\n",
       "    <tr>\n",
       "      <th>20</th>\n",
       "      <td>7</td>\n",
       "      <td>55</td>\n",
       "      <td>11.290323</td>\n",
       "      <td>62</td>\n",
       "    </tr>\n",
       "    <tr>\n",
       "      <th>21</th>\n",
       "      <td>11</td>\n",
       "      <td>66</td>\n",
       "      <td>14.285714</td>\n",
       "      <td>77</td>\n",
       "    </tr>\n",
       "    <tr>\n",
       "      <th>22</th>\n",
       "      <td>15</td>\n",
       "      <td>72</td>\n",
       "      <td>17.241379</td>\n",
       "      <td>87</td>\n",
       "    </tr>\n",
       "    <tr>\n",
       "      <th>23</th>\n",
       "      <td>15</td>\n",
       "      <td>81</td>\n",
       "      <td>15.625000</td>\n",
       "      <td>96</td>\n",
       "    </tr>\n",
       "    <tr>\n",
       "      <th>24</th>\n",
       "      <td>16</td>\n",
       "      <td>95</td>\n",
       "      <td>14.414414</td>\n",
       "      <td>111</td>\n",
       "    </tr>\n",
       "    <tr>\n",
       "      <th>25</th>\n",
       "      <td>17</td>\n",
       "      <td>120</td>\n",
       "      <td>12.408759</td>\n",
       "      <td>137</td>\n",
       "    </tr>\n",
       "    <tr>\n",
       "      <th>26</th>\n",
       "      <td>14</td>\n",
       "      <td>124</td>\n",
       "      <td>10.144928</td>\n",
       "      <td>138</td>\n",
       "    </tr>\n",
       "    <tr>\n",
       "      <th>27</th>\n",
       "      <td>23</td>\n",
       "      <td>99</td>\n",
       "      <td>18.852459</td>\n",
       "      <td>122</td>\n",
       "    </tr>\n",
       "    <tr>\n",
       "      <th>28</th>\n",
       "      <td>25</td>\n",
       "      <td>80</td>\n",
       "      <td>23.809524</td>\n",
       "      <td>105</td>\n",
       "    </tr>\n",
       "    <tr>\n",
       "      <th>29</th>\n",
       "      <td>28</td>\n",
       "      <td>77</td>\n",
       "      <td>26.666667</td>\n",
       "      <td>105</td>\n",
       "    </tr>\n",
       "    <tr>\n",
       "      <th>30</th>\n",
       "      <td>26</td>\n",
       "      <td>64</td>\n",
       "      <td>28.888889</td>\n",
       "      <td>90</td>\n",
       "    </tr>\n",
       "    <tr>\n",
       "      <th>31</th>\n",
       "      <td>23</td>\n",
       "      <td>61</td>\n",
       "      <td>27.380952</td>\n",
       "      <td>84</td>\n",
       "    </tr>\n",
       "    <tr>\n",
       "      <th>32</th>\n",
       "      <td>29</td>\n",
       "      <td>53</td>\n",
       "      <td>35.365854</td>\n",
       "      <td>82</td>\n",
       "    </tr>\n",
       "    <tr>\n",
       "      <th>33</th>\n",
       "      <td>18</td>\n",
       "      <td>27</td>\n",
       "      <td>40.000000</td>\n",
       "      <td>45</td>\n",
       "    </tr>\n",
       "    <tr>\n",
       "      <th>34</th>\n",
       "      <td>19</td>\n",
       "      <td>30</td>\n",
       "      <td>38.775510</td>\n",
       "      <td>49</td>\n",
       "    </tr>\n",
       "    <tr>\n",
       "      <th>35</th>\n",
       "      <td>18</td>\n",
       "      <td>20</td>\n",
       "      <td>47.368421</td>\n",
       "      <td>38</td>\n",
       "    </tr>\n",
       "    <tr>\n",
       "      <th>36</th>\n",
       "      <td>15</td>\n",
       "      <td>19</td>\n",
       "      <td>44.117647</td>\n",
       "      <td>34</td>\n",
       "    </tr>\n",
       "    <tr>\n",
       "      <th>37</th>\n",
       "      <td>8</td>\n",
       "      <td>10</td>\n",
       "      <td>44.444444</td>\n",
       "      <td>18</td>\n",
       "    </tr>\n",
       "    <tr>\n",
       "      <th>38</th>\n",
       "      <td>15</td>\n",
       "      <td>9</td>\n",
       "      <td>62.500000</td>\n",
       "      <td>24</td>\n",
       "    </tr>\n",
       "    <tr>\n",
       "      <th>39</th>\n",
       "      <td>4</td>\n",
       "      <td>4</td>\n",
       "      <td>50.000000</td>\n",
       "      <td>8</td>\n",
       "    </tr>\n",
       "    <tr>\n",
       "      <th>40</th>\n",
       "      <td>6</td>\n",
       "      <td>2</td>\n",
       "      <td>75.000000</td>\n",
       "      <td>8</td>\n",
       "    </tr>\n",
       "  </tbody>\n",
       "</table>\n",
       "</div>"
      ],
      "text/plain": [
       "outcome     L    W   pct_loss  fight_freq\n",
       "fight_age                                \n",
       "20          7   55  11.290323          62\n",
       "21         11   66  14.285714          77\n",
       "22         15   72  17.241379          87\n",
       "23         15   81  15.625000          96\n",
       "24         16   95  14.414414         111\n",
       "25         17  120  12.408759         137\n",
       "26         14  124  10.144928         138\n",
       "27         23   99  18.852459         122\n",
       "28         25   80  23.809524         105\n",
       "29         28   77  26.666667         105\n",
       "30         26   64  28.888889          90\n",
       "31         23   61  27.380952          84\n",
       "32         29   53  35.365854          82\n",
       "33         18   27  40.000000          45\n",
       "34         19   30  38.775510          49\n",
       "35         18   20  47.368421          38\n",
       "36         15   19  44.117647          34\n",
       "37          8   10  44.444444          18\n",
       "38         15    9  62.500000          24\n",
       "39          4    4  50.000000           8\n",
       "40          6    2  75.000000           8"
      ]
     },
     "execution_count": 513,
     "metadata": {},
     "output_type": "execute_result"
    }
   ],
   "source": [
    "plot_df"
   ]
  },
  {
   "cell_type": "code",
   "execution_count": 534,
   "id": "2739d6a3",
   "metadata": {},
   "outputs": [
    {
     "data": {
      "image/png": "[encoded data removed]",
      "text/plain": [
       "<Figure size 432x288 with 1 Axes>"
      ]
     },
     "metadata": {
      "needs_background": "light"
     },
     "output_type": "display_data"
    }
   ],
   "source": [
    "x = plot_df.index\n",
    "y = plot_df['fight_freq'].to_list()\n",
    "\n",
    "\n",
    "plt.bar(x,y,align='center', zorder=3)\n",
    "plt.xlabel('Fighter Age')\n",
    "plt.ylabel('Number of Fights')\n",
    "plt.grid(True, color = \"grey\", linewidth = \"0.7\", zorder=0)\n",
    "plt.title('Fight Frequency by Age')\n",
    "\n",
    "plt.show()"
   ]
  },
  {
   "cell_type": "code",
   "execution_count": 535,
   "id": "2a8aa2af",
   "metadata": {},
   "outputs": [
    {
     "data": {
      "image/png": "[encoded data removed]",
      "text/plain": [
       "<Figure size 432x288 with 1 Axes>"
      ]
     },
     "metadata": {
      "needs_background": "light"
     },
     "output_type": "display_data"
    }
   ],
   "source": [
    "x = plot_df.index\n",
    "y = plot_df['pct_loss'].to_list()\n",
    "\n",
    "plt.bar(x,y,align='center', zorder=3)\n",
    "plt.xlabel('Fighter Age')\n",
    "plt.ylabel('Loss Percentage')\n",
    "plt.grid(zorder=0)\n",
    "plt.title('Loss Percentage by Age')\n",
    "\n",
    "plt.show()"
   ]
  },
  {
   "cell_type": "code",
   "execution_count": null,
   "id": "34a28392",
   "metadata": {},
   "outputs": [],
   "source": []
  }
 ],
 "metadata": {
  "kernelspec": {
   "display_name": "Python 3 (ipykernel)",
   "language": "python",
   "name": "python3"
  },
  "language_info": {
   "codemirror_mode": {
    "name": "ipython",
    "version": 3
   },
   "file_extension": ".py",
   "mimetype": "text/x-python",
   "name": "python",
   "nbconvert_exporter": "python",
   "pygments_lexer": "ipython3",
   "version": "3.9.7"
  }
 },
 "nbformat": 4,
 "nbformat_minor": 5
}
